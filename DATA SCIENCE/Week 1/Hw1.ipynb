{
 "cells": [
  {
   "cell_type": "code",
   "execution_count": 3,
   "id": "initial_id",
   "metadata": {
    "collapsed": true,
    "ExecuteTime": {
     "end_time": "2024-02-03T17:42:49.090770Z",
     "start_time": "2024-02-03T17:42:49.086030Z"
    }
   },
   "outputs": [
    {
     "data": {
      "text/plain": "array([ 1,  2,  3,  4,  5,  6,  7,  8,  9, 10])"
     },
     "execution_count": 3,
     "metadata": {},
     "output_type": "execute_result"
    }
   ],
   "source": [
    "import numpy as np\n",
    "\n",
    "first_array = np.array([1, 2, 3, 4, 5, 6, 7, 8, 9, 10])\n",
    "first_array"
   ]
  },
  {
   "cell_type": "code",
   "outputs": [
    {
     "data": {
      "text/plain": "array([[0, 0, 0],\n       [0, 0, 0],\n       [0, 0, 0]])"
     },
     "execution_count": 6,
     "metadata": {},
     "output_type": "execute_result"
    }
   ],
   "source": [
    "a = np.zeros((3, 3), dtype=int)\n",
    "a"
   ],
   "metadata": {
    "collapsed": false,
    "ExecuteTime": {
     "end_time": "2024-02-03T17:48:16.284100Z",
     "start_time": "2024-02-03T17:48:16.273533Z"
    }
   },
   "id": "ed73ea50e0e6206f",
   "execution_count": 6
  },
  {
   "cell_type": "code",
   "outputs": [
    {
     "data": {
      "text/plain": "array([[1, 8, 1, 2, 6],\n       [2, 4, 3, 7, 2],\n       [1, 1, 9, 4, 1],\n       [9, 8, 1, 3, 9],\n       [3, 7, 8, 3, 8]])"
     },
     "execution_count": 10,
     "metadata": {},
     "output_type": "execute_result"
    }
   ],
   "source": [
    "a = np.random.randint(1, 10, (5, 5))\n",
    "a"
   ],
   "metadata": {
    "collapsed": false,
    "ExecuteTime": {
     "end_time": "2024-02-03T19:59:20.622992Z",
     "start_time": "2024-02-03T19:59:20.612280Z"
    }
   },
   "id": "6cc12915a08ef9de",
   "execution_count": 10
  },
  {
   "cell_type": "code",
   "outputs": [
    {
     "data": {
      "text/plain": "array([[0.96036801, 0.6877687 , 0.35857218, 0.15913554],\n       [0.95627957, 0.10539487, 0.90847877, 0.42784964],\n       [0.58754538, 0.63459023, 0.74631406, 0.56970999],\n       [0.11340928, 0.58219818, 0.1307411 , 0.71439416]])"
     },
     "execution_count": 11,
     "metadata": {},
     "output_type": "execute_result"
    }
   ],
   "source": [
    "a = np.random.random((4, 4))\n",
    "a"
   ],
   "metadata": {
    "collapsed": false,
    "ExecuteTime": {
     "end_time": "2024-02-03T20:00:49.547895Z",
     "start_time": "2024-02-03T20:00:49.540286Z"
    }
   },
   "id": "c30d4ab44cd0a561",
   "execution_count": 11
  },
  {
   "cell_type": "code",
   "outputs": [
    {
     "data": {
      "text/plain": "(array([1, 6, 7, 8, 4]),\n array([6, 5, 3, 7, 4]),\n array([ 7, 11, 10, 15,  8]),\n array([-5,  1,  4,  1,  0]),\n array([ 6, 30, 21, 56, 16]))"
     },
     "execution_count": 17,
     "metadata": {},
     "output_type": "execute_result"
    }
   ],
   "source": [
    "a = np.random.randint(1, 10, 5)\n",
    "b = np.random.randint(1, 10, 5)\n",
    "addition = a + b\n",
    "subtraction = a - b\n",
    "multiplication = a * b\n",
    "a, b, addition, subtraction, multiplication"
   ],
   "metadata": {
    "collapsed": false,
    "ExecuteTime": {
     "end_time": "2024-02-03T20:05:51.242277Z",
     "start_time": "2024-02-03T20:05:51.234474Z"
    }
   },
   "id": "746061ebf1052b0b",
   "execution_count": 17
  },
  {
   "cell_type": "code",
   "outputs": [
    {
     "data": {
      "text/plain": "68"
     },
     "execution_count": 20,
     "metadata": {},
     "output_type": "execute_result"
    }
   ],
   "source": [
    "a = np.array([1, 2, 3, 4, 5, 6, 7])\n",
    "b = np.array([4, 5, 4, 3, 2, 1, 2])\n",
    "np.dot(a, b)"
   ],
   "metadata": {
    "collapsed": false,
    "ExecuteTime": {
     "end_time": "2024-02-03T20:08:34.156138Z",
     "start_time": "2024-02-03T20:08:34.151717Z"
    }
   },
   "id": "ef7480dc1ede7d77",
   "execution_count": 20
  },
  {
   "cell_type": "code",
   "outputs": [
    {
     "data": {
      "text/plain": "array([[43, 55, 25],\n       [25, 32, 14]])"
     },
     "execution_count": 21,
     "metadata": {},
     "output_type": "execute_result"
    }
   ],
   "source": [
    "a = np.random.randint(1, 10, (2, 2))\n",
    "b = np.random.randint(1, 10, (2, 3))\n",
    "np.dot(a, b)"
   ],
   "metadata": {
    "collapsed": false,
    "ExecuteTime": {
     "end_time": "2024-02-03T20:17:50.295796Z",
     "start_time": "2024-02-03T20:17:50.286216Z"
    }
   },
   "id": "bf23a6604be34bca",
   "execution_count": 21
  },
  {
   "cell_type": "code",
   "outputs": [
    {
     "data": {
      "text/plain": "array([[-0.03076923, -0.03076923,  0.13846154],\n       [ 0.47692308, -0.52307692,  0.35384615],\n       [-0.33846154,  0.66153846, -0.47692308]])"
     },
     "execution_count": 22,
     "metadata": {},
     "output_type": "execute_result"
    }
   ],
   "source": [
    "a = np.random.randint(1, 10, (3, 3))\n",
    "np.linalg.inv(a)"
   ],
   "metadata": {
    "collapsed": false,
    "ExecuteTime": {
     "end_time": "2024-02-03T20:22:17.840926Z",
     "start_time": "2024-02-03T20:22:17.819261Z"
    }
   },
   "id": "6b36617123788168",
   "execution_count": 22
  },
  {
   "cell_type": "code",
   "outputs": [
    {
     "data": {
      "text/plain": "(array([[0.10049493, 0.70380327, 0.93761799],\n        [0.30536023, 0.00372757, 0.08445735],\n        [0.57002573, 0.92305428, 0.77816962]]),\n array([[0.10049493, 0.30536023, 0.57002573],\n        [0.70380327, 0.00372757, 0.92305428],\n        [0.93761799, 0.08445735, 0.77816962]]))"
     },
     "execution_count": 23,
     "metadata": {},
     "output_type": "execute_result"
    }
   ],
   "source": [
    "a = np.random.random((3, 3))\n",
    "a, a.T"
   ],
   "metadata": {
    "collapsed": false,
    "ExecuteTime": {
     "end_time": "2024-02-03T20:24:23.007556Z",
     "start_time": "2024-02-03T20:24:22.999005Z"
    }
   },
   "id": "21eea227907051eb",
   "execution_count": 23
  },
  {
   "cell_type": "code",
   "outputs": [
    {
     "data": {
      "text/plain": "array([120, 146, 103])"
     },
     "execution_count": 42,
     "metadata": {},
     "output_type": "execute_result"
    }
   ],
   "source": [
    "a = np.random.randint(1, 10, (3, 4))\n",
    "b = np.random.randint(1, 10, 4)\n",
    "# a = np.array([[1, 2, 3, 4], [5, 6, 7, 8], [9, 10, 11, 12]])\n",
    "# b = np.array([1, 2, 3, 4])\n",
    "np.dot(a, b)"
   ],
   "metadata": {
    "collapsed": false,
    "ExecuteTime": {
     "end_time": "2024-02-03T21:17:25.186311Z",
     "start_time": "2024-02-03T21:17:25.170649Z"
    }
   },
   "id": "df6e142026fb131d",
   "execution_count": 42
  },
  {
   "cell_type": "code",
   "outputs": [
    {
     "data": {
      "text/plain": "array([0.7873117 , 0.65888007])"
     },
     "execution_count": 43,
     "metadata": {},
     "output_type": "execute_result"
    }
   ],
   "source": [
    "a = np.random.random((2, 3))\n",
    "b = np.random.random(3)\n",
    "np.dot(a, b)"
   ],
   "metadata": {
    "collapsed": false,
    "ExecuteTime": {
     "end_time": "2024-02-03T21:18:36.546833Z",
     "start_time": "2024-02-03T21:18:36.536054Z"
    }
   },
   "id": "9ad0bfa05558846",
   "execution_count": 43
  },
  {
   "cell_type": "code",
   "outputs": [
    {
     "data": {
      "text/plain": "array([[6, 6],\n       [8, 9]])"
     },
     "execution_count": 48,
     "metadata": {},
     "output_type": "execute_result"
    }
   ],
   "source": [
    "a = np.random.randint(1, 10, (2, 2))\n",
    "b = np.random.randint(1, 10, (2, 2))\n",
    "a*b"
   ],
   "metadata": {
    "collapsed": false,
    "ExecuteTime": {
     "end_time": "2024-02-03T21:28:08.315513Z",
     "start_time": "2024-02-03T21:28:08.303252Z"
    }
   },
   "id": "4581c8149fa55575",
   "execution_count": 48
  },
  {
   "cell_type": "code",
   "outputs": [
    {
     "data": {
      "text/plain": "array([[57, 27],\n       [90, 45]])"
     },
     "execution_count": 49,
     "metadata": {},
     "output_type": "execute_result"
    }
   ],
   "source": [
    "a = np.random.randint(1, 10, (2, 2))\n",
    "b = np.random.randint(1, 10, (2, 2))\n",
    "np.dot(a, b)"
   ],
   "metadata": {
    "collapsed": false,
    "ExecuteTime": {
     "end_time": "2024-02-03T21:29:54.676344Z",
     "start_time": "2024-02-03T21:29:54.674073Z"
    }
   },
   "id": "df9766604978475d",
   "execution_count": 49
  },
  {
   "cell_type": "code",
   "outputs": [
    {
     "data": {
      "text/plain": "1150"
     },
     "execution_count": 50,
     "metadata": {},
     "output_type": "execute_result"
    }
   ],
   "source": [
    "a = np.random.randint(1, 100, (5, 5))\n",
    "np.sum(a)"
   ],
   "metadata": {
    "collapsed": false,
    "ExecuteTime": {
     "end_time": "2024-02-03T21:31:06.282940Z",
     "start_time": "2024-02-03T21:31:06.274152Z"
    }
   },
   "id": "d71df998f4b1d6d8",
   "execution_count": 50
  },
  {
   "cell_type": "code",
   "outputs": [
    {
     "data": {
      "text/plain": "array([[-7,  3,  2,  1],\n       [-3, -4, -6,  0],\n       [ 2,  2, -5,  2],\n       [ 0,  7, -5,  1]])"
     },
     "execution_count": 53,
     "metadata": {},
     "output_type": "execute_result"
    }
   ],
   "source": [
    "a = np.random.randint(1, 10, (4, 4))\n",
    "b = np.random.randint(1, 10, (4, 4))\n",
    "np.subtract(a, b)"
   ],
   "metadata": {
    "collapsed": false,
    "ExecuteTime": {
     "end_time": "2024-02-03T21:34:08.243422Z",
     "start_time": "2024-02-03T21:34:08.239525Z"
    }
   },
   "id": "f90aa23e19a735f1",
   "execution_count": 53
  },
  {
   "cell_type": "code",
   "outputs": [
    {
     "data": {
      "text/plain": "array([1.06704998, 1.79969335, 1.27956272])"
     },
     "execution_count": 62,
     "metadata": {},
     "output_type": "execute_result"
    }
   ],
   "source": [
    "a = np.random.random((3, 3))\n",
    "np.sum(a, axis=1)"
   ],
   "metadata": {
    "collapsed": false,
    "ExecuteTime": {
     "end_time": "2024-02-04T16:58:38.842462Z",
     "start_time": "2024-02-04T16:58:38.834040Z"
    }
   },
   "id": "20517d6e1a6caac0",
   "execution_count": 62
  },
  {
   "cell_type": "code",
   "outputs": [
    {
     "data": {
      "text/plain": "array([[16, 49,  9,  1],\n       [ 4,  9, 36, 36],\n       [64,  1, 36, 64]])"
     },
     "execution_count": 67,
     "metadata": {},
     "output_type": "execute_result"
    }
   ],
   "source": [
    "a = np.random.randint(1, 10, (3, 4))\n",
    "np.square(a)"
   ],
   "metadata": {
    "collapsed": false,
    "ExecuteTime": {
     "end_time": "2024-02-04T17:04:07.455836Z",
     "start_time": "2024-02-04T17:04:07.438995Z"
    }
   },
   "id": "d17d006df3b8bd3a",
   "execution_count": 67
  },
  {
   "cell_type": "code",
   "outputs": [
    {
     "data": {
      "text/plain": "array([5.09901951, 2.82842712, 6.32455532, 5.29150262])"
     },
     "execution_count": 68,
     "metadata": {},
     "output_type": "execute_result"
    }
   ],
   "source": [
    "a = np.random.randint(1, 50, 4)\n",
    "np.sqrt(a)"
   ],
   "metadata": {
    "collapsed": false,
    "ExecuteTime": {
     "end_time": "2024-02-04T17:04:50.031184Z",
     "start_time": "2024-02-04T17:04:50.026052Z"
    }
   },
   "id": "71451d1120d1fdf",
   "execution_count": 68
  }
 ],
 "metadata": {
  "kernelspec": {
   "display_name": "Python 3",
   "language": "python",
   "name": "python3"
  },
  "language_info": {
   "codemirror_mode": {
    "name": "ipython",
    "version": 2
   },
   "file_extension": ".py",
   "mimetype": "text/x-python",
   "name": "python",
   "nbconvert_exporter": "python",
   "pygments_lexer": "ipython2",
   "version": "2.7.6"
  }
 },
 "nbformat": 4,
 "nbformat_minor": 5
}
