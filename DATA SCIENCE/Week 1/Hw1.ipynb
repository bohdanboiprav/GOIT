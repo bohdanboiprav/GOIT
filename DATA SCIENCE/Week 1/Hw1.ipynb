{
 "cells": [
  {
   "cell_type": "code",
   "execution_count": 3,
   "id": "initial_id",
   "metadata": {
    "collapsed": true,
    "ExecuteTime": {
     "end_time": "2024-02-03T17:42:49.090770Z",
     "start_time": "2024-02-03T17:42:49.086030Z"
    }
   },
   "outputs": [
    {
     "data": {
      "text/plain": "array([ 1,  2,  3,  4,  5,  6,  7,  8,  9, 10])"
     },
     "execution_count": 3,
     "metadata": {},
     "output_type": "execute_result"
    }
   ],
   "source": [
    "import numpy as np\n",
    "\n",
    "first_array = np.array([1, 2, 3, 4, 5, 6, 7, 8, 9, 10])\n",
    "first_array"
   ]
  },
  {
   "cell_type": "code",
   "outputs": [
    {
     "data": {
      "text/plain": "array([[0, 0, 0],\n       [0, 0, 0],\n       [0, 0, 0]])"
     },
     "execution_count": 6,
     "metadata": {},
     "output_type": "execute_result"
    }
   ],
   "source": [
    "a = np.zeros((3, 3), dtype=int)\n",
    "a"
   ],
   "metadata": {
    "collapsed": false,
    "ExecuteTime": {
     "end_time": "2024-02-03T17:48:16.284100Z",
     "start_time": "2024-02-03T17:48:16.273533Z"
    }
   },
   "id": "ed73ea50e0e6206f",
   "execution_count": 6
  },
  {
   "cell_type": "code",
   "outputs": [
    {
     "data": {
      "text/plain": "array([[1, 8, 1, 2, 6],\n       [2, 4, 3, 7, 2],\n       [1, 1, 9, 4, 1],\n       [9, 8, 1, 3, 9],\n       [3, 7, 8, 3, 8]])"
     },
     "execution_count": 10,
     "metadata": {},
     "output_type": "execute_result"
    }
   ],
   "source": [
    "a = np.random.randint(1, 10, (5, 5))\n",
    "a"
   ],
   "metadata": {
    "collapsed": false,
    "ExecuteTime": {
     "end_time": "2024-02-03T19:59:20.622992Z",
     "start_time": "2024-02-03T19:59:20.612280Z"
    }
   },
   "id": "6cc12915a08ef9de",
   "execution_count": 10
  },
  {
   "cell_type": "code",
   "outputs": [
    {
     "data": {
      "text/plain": "array([[0.96036801, 0.6877687 , 0.35857218, 0.15913554],\n       [0.95627957, 0.10539487, 0.90847877, 0.42784964],\n       [0.58754538, 0.63459023, 0.74631406, 0.56970999],\n       [0.11340928, 0.58219818, 0.1307411 , 0.71439416]])"
     },
     "execution_count": 11,
     "metadata": {},
     "output_type": "execute_result"
    }
   ],
   "source": [
    "a = np.random.random((4, 4))\n",
    "a"
   ],
   "metadata": {
    "collapsed": false,
    "ExecuteTime": {
     "end_time": "2024-02-03T20:00:49.547895Z",
     "start_time": "2024-02-03T20:00:49.540286Z"
    }
   },
   "id": "c30d4ab44cd0a561",
   "execution_count": 11
  },
  {
   "cell_type": "code",
   "outputs": [
    {
     "data": {
      "text/plain": "(array([1, 6, 7, 8, 4]),\n array([6, 5, 3, 7, 4]),\n array([ 7, 11, 10, 15,  8]),\n array([-5,  1,  4,  1,  0]),\n array([ 6, 30, 21, 56, 16]))"
     },
     "execution_count": 17,
     "metadata": {},
     "output_type": "execute_result"
    }
   ],
   "source": [
    "a = np.random.randint(1, 10, 5)\n",
    "b = np.random.randint(1, 10, 5)\n",
    "addition = a + b\n",
    "subtraction = a - b\n",
    "multiplication = a * b\n",
    "a, b, addition, subtraction, multiplication"
   ],
   "metadata": {
    "collapsed": false,
    "ExecuteTime": {
     "end_time": "2024-02-03T20:05:51.242277Z",
     "start_time": "2024-02-03T20:05:51.234474Z"
    }
   },
   "id": "746061ebf1052b0b",
   "execution_count": 17
  },
  {
   "cell_type": "code",
   "outputs": [
    {
     "data": {
      "text/plain": "68"
     },
     "execution_count": 20,
     "metadata": {},
     "output_type": "execute_result"
    }
   ],
   "source": [
    "# a = np.random.randint(1, 10, 7)\n",
    "# b = np.random.randint(1, 10, 7)\n",
    "a = np.array([1, 2, 3, 4, 5, 6, 7])\n",
    "b = np.array([4, 5, 4, 3, 2, 1, 2])\n",
    "np.dot(a, b)"
   ],
   "metadata": {
    "collapsed": false,
    "ExecuteTime": {
     "end_time": "2024-02-03T20:08:34.156138Z",
     "start_time": "2024-02-03T20:08:34.151717Z"
    }
   },
   "id": "ef7480dc1ede7d77",
   "execution_count": 20
  },
  {
   "cell_type": "code",
   "outputs": [
    {
     "data": {
      "text/plain": "array([[43, 55, 25],\n       [25, 32, 14]])"
     },
     "execution_count": 21,
     "metadata": {},
     "output_type": "execute_result"
    }
   ],
   "source": [
    "a = np.random.randint(1, 10, (2, 2))\n",
    "b = np.random.randint(1, 10, (2, 3))\n",
    "np.dot(a, b)"
   ],
   "metadata": {
    "collapsed": false,
    "ExecuteTime": {
     "end_time": "2024-02-03T20:17:50.295796Z",
     "start_time": "2024-02-03T20:17:50.286216Z"
    }
   },
   "id": "bf23a6604be34bca",
   "execution_count": 21
  },
  {
   "cell_type": "code",
   "outputs": [
    {
     "data": {
      "text/plain": "array([[-0.03076923, -0.03076923,  0.13846154],\n       [ 0.47692308, -0.52307692,  0.35384615],\n       [-0.33846154,  0.66153846, -0.47692308]])"
     },
     "execution_count": 22,
     "metadata": {},
     "output_type": "execute_result"
    }
   ],
   "source": [
    "a = np.random.randint(1, 10, (3, 3))\n",
    "np.linalg.inv(a)"
   ],
   "metadata": {
    "collapsed": false,
    "ExecuteTime": {
     "end_time": "2024-02-03T20:22:17.840926Z",
     "start_time": "2024-02-03T20:22:17.819261Z"
    }
   },
   "id": "6b36617123788168",
   "execution_count": 22
  },
  {
   "cell_type": "code",
   "outputs": [
    {
     "data": {
      "text/plain": "(array([[0.10049493, 0.70380327, 0.93761799],\n        [0.30536023, 0.00372757, 0.08445735],\n        [0.57002573, 0.92305428, 0.77816962]]),\n array([[0.10049493, 0.30536023, 0.57002573],\n        [0.70380327, 0.00372757, 0.92305428],\n        [0.93761799, 0.08445735, 0.77816962]]))"
     },
     "execution_count": 23,
     "metadata": {},
     "output_type": "execute_result"
    }
   ],
   "source": [
    "a = np.random.random((3, 3))\n",
    "a, a.T"
   ],
   "metadata": {
    "collapsed": false,
    "ExecuteTime": {
     "end_time": "2024-02-03T20:24:23.007556Z",
     "start_time": "2024-02-03T20:24:22.999005Z"
    }
   },
   "id": "21eea227907051eb",
   "execution_count": 23
  },
  {
   "cell_type": "code",
   "outputs": [],
   "source": [
    "a = np.random.randint(1, 10, (3, 3))\n"
   ],
   "metadata": {
    "collapsed": false
   },
   "id": "df6e142026fb131d"
  }
 ],
 "metadata": {
  "kernelspec": {
   "display_name": "Python 3",
   "language": "python",
   "name": "python3"
  },
  "language_info": {
   "codemirror_mode": {
    "name": "ipython",
    "version": 2
   },
   "file_extension": ".py",
   "mimetype": "text/x-python",
   "name": "python",
   "nbconvert_exporter": "python",
   "pygments_lexer": "ipython2",
   "version": "2.7.6"
  }
 },
 "nbformat": 4,
 "nbformat_minor": 5
}
