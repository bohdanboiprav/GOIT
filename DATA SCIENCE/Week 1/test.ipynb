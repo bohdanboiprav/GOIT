{
 "cells": [
  {
   "cell_type": "code",
   "execution_count": 12,
   "id": "initial_id",
   "metadata": {
    "collapsed": true,
    "ExecuteTime": {
     "end_time": "2024-02-02T21:52:58.359012Z",
     "start_time": "2024-02-02T21:52:58.352901Z"
    }
   },
   "outputs": [],
   "source": [
    "import numpy as np"
   ]
  },
  {
   "cell_type": "code",
   "outputs": [
    {
     "data": {
      "text/plain": "array([[  1,   2,   3,   4,   5,   6,   7,   8,   9,  10,  11,  12,  13,\n         14,  15,  16],\n       [ 17,  18,  19,  20,  21,  22,  23,  24,  25,  26,  27,  28,  29,\n         30,  31,  32],\n       [ 33,  34,  35,  36,  37,  38,  39,  40,  41,  42,  43,  44,  45,\n         46,  47,  48],\n       [ 49,  50,  51,  52,  53,  54,  55,  56,  57,  58,  59,  60,  61,\n         62,  63,  64],\n       [ 65,  66,  67,  68,  69,  70,  71,  72,  73,  74,  75,  76,  77,\n         78,  79,  80],\n       [ 81,  82,  83,  84,  85,  86,  87,  88,  89,  90,  91,  92,  93,\n         94,  95,  96],\n       [ 97,  98,  99, 100, 101, 102, 103, 104, 105, 106, 107, 108, 109,\n        110, 111, 112],\n       [113, 114, 115, 116, 117, 118, 119, 120, 121, 122, 123, 124, 125,\n        126, 127, 128],\n       [129, 130, 131, 132, 133, 134, 135, 136, 137, 138, 139, 140, 141,\n        142, 143, 144],\n       [145, 146, 147, 148, 149, 150, 151, 152, 153, 154, 155, 156, 157,\n        158, 159, 160],\n       [161, 162, 163, 164, 165, 166, 167, 168, 169, 170, 171, 172, 173,\n        174, 175, 176],\n       [177, 178, 179, 180, 181, 182, 183, 184, 185, 186, 187, 188, 189,\n        190, 191, 192],\n       [193, 194, 195, 196, 197, 198, 199, 200, 201, 202, 203, 204, 205,\n        206, 207, 208],\n       [209, 210, 211, 212, 213, 214, 215, 216, 217, 218, 219, 220, 221,\n        222, 223, 224],\n       [225, 226, 227, 228, 229, 230, 231, 232, 233, 234, 235, 236, 237,\n        238, 239, 240],\n       [241, 242, 243, 244, 245, 246, 247, 248, 249, 250, 251, 252, 253,\n        254, 255, 256]])"
     },
     "execution_count": 13,
     "metadata": {},
     "output_type": "execute_result"
    }
   ],
   "source": [
    "a = np.array([[1,2,3,4, 5, 6, 7, 8, 9, 10, 11, 12, 13, 14, 15, 16],\n",
    "              [17,18,19,20, 21, 22, 23, 24, 25, 26, 27, 28, 29, 30, 31, 32],\n",
    "              [33,34,35,36, 37, 38, 39, 40, 41, 42, 43, 44, 45, 46, 47, 48],\n",
    "              [49,50,51,52, 53, 54, 55, 56, 57, 58, 59, 60, 61, 62, 63, 64],\n",
    "              [65,66,67,68, 69, 70, 71, 72, 73, 74, 75, 76, 77, 78, 79, 80],\n",
    "              [81,82,83,84, 85, 86, 87, 88, 89, 90, 91, 92, 93, 94, 95, 96],\n",
    "              [97,98,99,100, 101, 102, 103, 104, 105, 106, 107, 108, 109, 110, 111, 112],\n",
    "              [113,114,115,116, 117, 118, 119, 120, 121, 122, 123, 124, 125, 126, 127, 128],\n",
    "              [129,130,131,132, 133, 134, 135, 136, 137, 138, 139, 140, 141, 142, 143, 144],\n",
    "              [145,146,147,148, 149, 150, 151, 152, 153, 154, 155, 156, 157, 158, 159, 160],\n",
    "              [161,162,163,164, 165, 166, 167, 168, 169, 170, 171, 172, 173, 174, 175, 176],\n",
    "              [177,178,179,180, 181, 182, 183, 184, 185, 186, 187, 188, 189, 190, 191, 192],\n",
    "              [193,194,195,196, 197, 198, 199, 200, 201, 202, 203, 204, 205, 206, 207, 208],\n",
    "              [209,210,211,212, 213, 214, 215, 216, 217, 218, 219, 220, 221, 222, 223, 224],\n",
    "              [225,226,227,228, 229, 230, 231, 232, 233, 234, 235, 236, 237, 238, 239, 240],\n",
    "              [241,242,243,244, 245, 246, 247, 248, 249, 250, 251, 252, 253, 254, 255, 256]])\n",
    "a"
   ],
   "metadata": {
    "collapsed": false,
    "ExecuteTime": {
     "end_time": "2024-02-02T21:52:58.365390Z",
     "start_time": "2024-02-02T21:52:58.361794Z"
    }
   },
   "id": "85115ec1f76d433b",
   "execution_count": 13
  },
  {
   "cell_type": "code",
   "outputs": [
    {
     "data": {
      "text/plain": "   0   1   2   3   4   5   6   7   8   9   10  11  12  13  14  15\n0   1   2   3   4   5   6   7   8   9  10  11  12  13  14  15  16\n1  17  18  19  20  21  22  23  24  25  26  27  28  29  30  31  32\n2  33  34  35  36  37  38  39  40  41  42  43  44  45  46  47  48",
      "text/html": "<div>\n<style scoped>\n    .dataframe tbody tr th:only-of-type {\n        vertical-align: middle;\n    }\n\n    .dataframe tbody tr th {\n        vertical-align: top;\n    }\n\n    .dataframe thead th {\n        text-align: right;\n    }\n</style>\n<table border=\"1\" class=\"dataframe\">\n  <thead>\n    <tr style=\"text-align: right;\">\n      <th></th>\n      <th>0</th>\n      <th>1</th>\n      <th>2</th>\n      <th>3</th>\n      <th>4</th>\n      <th>5</th>\n      <th>6</th>\n      <th>7</th>\n      <th>8</th>\n      <th>9</th>\n      <th>10</th>\n      <th>11</th>\n      <th>12</th>\n      <th>13</th>\n      <th>14</th>\n      <th>15</th>\n    </tr>\n  </thead>\n  <tbody>\n    <tr>\n      <th>0</th>\n      <td>1</td>\n      <td>2</td>\n      <td>3</td>\n      <td>4</td>\n      <td>5</td>\n      <td>6</td>\n      <td>7</td>\n      <td>8</td>\n      <td>9</td>\n      <td>10</td>\n      <td>11</td>\n      <td>12</td>\n      <td>13</td>\n      <td>14</td>\n      <td>15</td>\n      <td>16</td>\n    </tr>\n    <tr>\n      <th>1</th>\n      <td>17</td>\n      <td>18</td>\n      <td>19</td>\n      <td>20</td>\n      <td>21</td>\n      <td>22</td>\n      <td>23</td>\n      <td>24</td>\n      <td>25</td>\n      <td>26</td>\n      <td>27</td>\n      <td>28</td>\n      <td>29</td>\n      <td>30</td>\n      <td>31</td>\n      <td>32</td>\n    </tr>\n    <tr>\n      <th>2</th>\n      <td>33</td>\n      <td>34</td>\n      <td>35</td>\n      <td>36</td>\n      <td>37</td>\n      <td>38</td>\n      <td>39</td>\n      <td>40</td>\n      <td>41</td>\n      <td>42</td>\n      <td>43</td>\n      <td>44</td>\n      <td>45</td>\n      <td>46</td>\n      <td>47</td>\n      <td>48</td>\n    </tr>\n  </tbody>\n</table>\n</div>"
     },
     "execution_count": 41,
     "metadata": {},
     "output_type": "execute_result"
    }
   ],
   "source": [
    "import pandas as pd\n",
    "df = pd.DataFrame(a)\n",
    "df\n",
    "df.iloc[:3, :]"
   ],
   "metadata": {
    "collapsed": false,
    "ExecuteTime": {
     "end_time": "2024-02-05T15:25:20.107070Z",
     "start_time": "2024-02-05T15:25:20.100715Z"
    }
   },
   "id": "bc2d80b2c578d6c3",
   "execution_count": 41
  },
  {
   "cell_type": "code",
   "outputs": [
    {
     "data": {
      "text/plain": "     0   1   2\n0    2   3   1\n1    5   6   4\n2    8   9   7\n3   11  12  10\n4   14  15  13\n5   17  18  16\n6   20  21  19\n7   23  24  22\n8   26  27  25\n9   29  30  28\n10  32  33  31\n11  35  36  34\n12  38  39  37\n13  41  42  40\n14  44  45  43\n15  47  48  46",
      "text/html": "<div>\n<style scoped>\n    .dataframe tbody tr th:only-of-type {\n        vertical-align: middle;\n    }\n\n    .dataframe tbody tr th {\n        vertical-align: top;\n    }\n\n    .dataframe thead th {\n        text-align: right;\n    }\n</style>\n<table border=\"1\" class=\"dataframe\">\n  <thead>\n    <tr style=\"text-align: right;\">\n      <th></th>\n      <th>0</th>\n      <th>1</th>\n      <th>2</th>\n    </tr>\n  </thead>\n  <tbody>\n    <tr>\n      <th>0</th>\n      <td>2</td>\n      <td>3</td>\n      <td>1</td>\n    </tr>\n    <tr>\n      <th>1</th>\n      <td>5</td>\n      <td>6</td>\n      <td>4</td>\n    </tr>\n    <tr>\n      <th>2</th>\n      <td>8</td>\n      <td>9</td>\n      <td>7</td>\n    </tr>\n    <tr>\n      <th>3</th>\n      <td>11</td>\n      <td>12</td>\n      <td>10</td>\n    </tr>\n    <tr>\n      <th>4</th>\n      <td>14</td>\n      <td>15</td>\n      <td>13</td>\n    </tr>\n    <tr>\n      <th>5</th>\n      <td>17</td>\n      <td>18</td>\n      <td>16</td>\n    </tr>\n    <tr>\n      <th>6</th>\n      <td>20</td>\n      <td>21</td>\n      <td>19</td>\n    </tr>\n    <tr>\n      <th>7</th>\n      <td>23</td>\n      <td>24</td>\n      <td>22</td>\n    </tr>\n    <tr>\n      <th>8</th>\n      <td>26</td>\n      <td>27</td>\n      <td>25</td>\n    </tr>\n    <tr>\n      <th>9</th>\n      <td>29</td>\n      <td>30</td>\n      <td>28</td>\n    </tr>\n    <tr>\n      <th>10</th>\n      <td>32</td>\n      <td>33</td>\n      <td>31</td>\n    </tr>\n    <tr>\n      <th>11</th>\n      <td>35</td>\n      <td>36</td>\n      <td>34</td>\n    </tr>\n    <tr>\n      <th>12</th>\n      <td>38</td>\n      <td>39</td>\n      <td>37</td>\n    </tr>\n    <tr>\n      <th>13</th>\n      <td>41</td>\n      <td>42</td>\n      <td>40</td>\n    </tr>\n    <tr>\n      <th>14</th>\n      <td>44</td>\n      <td>45</td>\n      <td>43</td>\n    </tr>\n    <tr>\n      <th>15</th>\n      <td>47</td>\n      <td>48</td>\n      <td>46</td>\n    </tr>\n  </tbody>\n</table>\n</div>"
     },
     "execution_count": 62,
     "metadata": {},
     "output_type": "execute_result"
    }
   ],
   "source": [
    "new_df = pd.DataFrame([[2, 3, 1], [5, 6, 4], [8, 9, 7], [11, 12, 10], [14, 15, 13], [17, 18, 16], [20, 21, 19], [23, 24, 22], [26, 27, 25], [29, 30, 28], [32, 33, 31], [35, 36, 34], [38, 39, 37], [41, 42, 40], [44, 45, 43], [47, 48, 46]])\n",
    "new_df"
   ],
   "metadata": {
    "collapsed": false,
    "ExecuteTime": {
     "end_time": "2024-02-05T20:16:14.523729Z",
     "start_time": "2024-02-05T20:16:14.512296Z"
    }
   },
   "id": "7af2ef176b9e649b",
   "execution_count": 62
  },
  {
   "cell_type": "code",
   "outputs": [
    {
     "data": {
      "text/plain": "     0  random\n0    2      44\n1    5      45\n2    8      46\n3   11      47\n4   14      48\n5   17      49\n6   20      50\n7   23      51\n8   26      52\n9   29      53\n10  32      54\n11  35      55\n12  38      56\n13  41      57\n14  44      58\n15  47      59",
      "text/html": "<div>\n<style scoped>\n    .dataframe tbody tr th:only-of-type {\n        vertical-align: middle;\n    }\n\n    .dataframe tbody tr th {\n        vertical-align: top;\n    }\n\n    .dataframe thead th {\n        text-align: right;\n    }\n</style>\n<table border=\"1\" class=\"dataframe\">\n  <thead>\n    <tr style=\"text-align: right;\">\n      <th></th>\n      <th>0</th>\n      <th>random</th>\n    </tr>\n  </thead>\n  <tbody>\n    <tr>\n      <th>0</th>\n      <td>2</td>\n      <td>44</td>\n    </tr>\n    <tr>\n      <th>1</th>\n      <td>5</td>\n      <td>45</td>\n    </tr>\n    <tr>\n      <th>2</th>\n      <td>8</td>\n      <td>46</td>\n    </tr>\n    <tr>\n      <th>3</th>\n      <td>11</td>\n      <td>47</td>\n    </tr>\n    <tr>\n      <th>4</th>\n      <td>14</td>\n      <td>48</td>\n    </tr>\n    <tr>\n      <th>5</th>\n      <td>17</td>\n      <td>49</td>\n    </tr>\n    <tr>\n      <th>6</th>\n      <td>20</td>\n      <td>50</td>\n    </tr>\n    <tr>\n      <th>7</th>\n      <td>23</td>\n      <td>51</td>\n    </tr>\n    <tr>\n      <th>8</th>\n      <td>26</td>\n      <td>52</td>\n    </tr>\n    <tr>\n      <th>9</th>\n      <td>29</td>\n      <td>53</td>\n    </tr>\n    <tr>\n      <th>10</th>\n      <td>32</td>\n      <td>54</td>\n    </tr>\n    <tr>\n      <th>11</th>\n      <td>35</td>\n      <td>55</td>\n    </tr>\n    <tr>\n      <th>12</th>\n      <td>38</td>\n      <td>56</td>\n    </tr>\n    <tr>\n      <th>13</th>\n      <td>41</td>\n      <td>57</td>\n    </tr>\n    <tr>\n      <th>14</th>\n      <td>44</td>\n      <td>58</td>\n    </tr>\n    <tr>\n      <th>15</th>\n      <td>47</td>\n      <td>59</td>\n    </tr>\n  </tbody>\n</table>\n</div>"
     },
     "execution_count": 70,
     "metadata": {},
     "output_type": "execute_result"
    }
   ],
   "source": [
    "# random_array = np.array([44, 45, 46])\n",
    "random_series = pd.Series([44, 45, 46, 47, 48, 49, 50, 51, 52, 53, 54, 55, 56, 57, 58, 59])\n",
    "new_df['random'] = random_series\n",
    "new_df2 = pd.DataFrame(new_df, columns=[0, 'random'])\n",
    "new_df2"
   ],
   "metadata": {
    "collapsed": false,
    "ExecuteTime": {
     "end_time": "2024-02-05T20:23:00.950204Z",
     "start_time": "2024-02-05T20:23:00.936406Z"
    }
   },
   "id": "5ff31f3fa6fdeeae",
   "execution_count": 70
  },
  {
   "cell_type": "code",
   "outputs": [
    {
     "data": {
      "text/plain": "     0  random\n0    2      44\n1    5      45\n3   11      47\n4   14      48\n5   17      49\n6   20      50\n7   23      51\n8   26      52\n9   29      53\n10  32      54\n11  35      55\n12  38      56\n13  41      57\n14  44      58\n15  47      59",
      "text/html": "<div>\n<style scoped>\n    .dataframe tbody tr th:only-of-type {\n        vertical-align: middle;\n    }\n\n    .dataframe tbody tr th {\n        vertical-align: top;\n    }\n\n    .dataframe thead th {\n        text-align: right;\n    }\n</style>\n<table border=\"1\" class=\"dataframe\">\n  <thead>\n    <tr style=\"text-align: right;\">\n      <th></th>\n      <th>0</th>\n      <th>random</th>\n    </tr>\n  </thead>\n  <tbody>\n    <tr>\n      <th>0</th>\n      <td>2</td>\n      <td>44</td>\n    </tr>\n    <tr>\n      <th>1</th>\n      <td>5</td>\n      <td>45</td>\n    </tr>\n    <tr>\n      <th>3</th>\n      <td>11</td>\n      <td>47</td>\n    </tr>\n    <tr>\n      <th>4</th>\n      <td>14</td>\n      <td>48</td>\n    </tr>\n    <tr>\n      <th>5</th>\n      <td>17</td>\n      <td>49</td>\n    </tr>\n    <tr>\n      <th>6</th>\n      <td>20</td>\n      <td>50</td>\n    </tr>\n    <tr>\n      <th>7</th>\n      <td>23</td>\n      <td>51</td>\n    </tr>\n    <tr>\n      <th>8</th>\n      <td>26</td>\n      <td>52</td>\n    </tr>\n    <tr>\n      <th>9</th>\n      <td>29</td>\n      <td>53</td>\n    </tr>\n    <tr>\n      <th>10</th>\n      <td>32</td>\n      <td>54</td>\n    </tr>\n    <tr>\n      <th>11</th>\n      <td>35</td>\n      <td>55</td>\n    </tr>\n    <tr>\n      <th>12</th>\n      <td>38</td>\n      <td>56</td>\n    </tr>\n    <tr>\n      <th>13</th>\n      <td>41</td>\n      <td>57</td>\n    </tr>\n    <tr>\n      <th>14</th>\n      <td>44</td>\n      <td>58</td>\n    </tr>\n    <tr>\n      <th>15</th>\n      <td>47</td>\n      <td>59</td>\n    </tr>\n  </tbody>\n</table>\n</div>"
     },
     "execution_count": 74,
     "metadata": {},
     "output_type": "execute_result"
    }
   ],
   "source": [
    "# new_df2.corr()\n",
    "new_df2.drop(2, axis=1, inplace=False)\n",
    "# new_df2"
   ],
   "metadata": {
    "collapsed": false,
    "ExecuteTime": {
     "end_time": "2024-02-05T20:23:32.412660Z",
     "start_time": "2024-02-05T20:23:32.403271Z"
    }
   },
   "id": "dad37869930f3e54",
   "execution_count": 74
  },
  {
   "cell_type": "code",
   "outputs": [
    {
     "data": {
      "text/plain": "     0                                                1\n0    1                Tree item else gun represent his.\n1    2         Congress feeling anyone whom technology.\n2    3       Activity anything cell wife shoulder care.\n3    4                   Collection cup event long guy.\n4    5           Avoid final police staff particularly.\n5    6                    Leg baby large reason forget.\n6    7                         Charge lawyer bit shake.\n7    8                          Among of myself police.\n8    9                                    No our eight.\n9   10       Morning upon process soldier such company.\n10  11                        Page it increase certain.\n11  12                  Necessary she moment apply may.\n12  13  Finally lead daughter tell least task everyone.\n13  14        Heart represent doctor pattern authority.\n14  15     Wall enjoy beautiful body enough ten behind.\n15  16              Compare go recognize actually here.",
      "text/html": "<div>\n<style scoped>\n    .dataframe tbody tr th:only-of-type {\n        vertical-align: middle;\n    }\n\n    .dataframe tbody tr th {\n        vertical-align: top;\n    }\n\n    .dataframe thead th {\n        text-align: right;\n    }\n</style>\n<table border=\"1\" class=\"dataframe\">\n  <thead>\n    <tr style=\"text-align: right;\">\n      <th></th>\n      <th>0</th>\n      <th>1</th>\n    </tr>\n  </thead>\n  <tbody>\n    <tr>\n      <th>0</th>\n      <td>1</td>\n      <td>Tree item else gun represent his.</td>\n    </tr>\n    <tr>\n      <th>1</th>\n      <td>2</td>\n      <td>Congress feeling anyone whom technology.</td>\n    </tr>\n    <tr>\n      <th>2</th>\n      <td>3</td>\n      <td>Activity anything cell wife shoulder care.</td>\n    </tr>\n    <tr>\n      <th>3</th>\n      <td>4</td>\n      <td>Collection cup event long guy.</td>\n    </tr>\n    <tr>\n      <th>4</th>\n      <td>5</td>\n      <td>Avoid final police staff particularly.</td>\n    </tr>\n    <tr>\n      <th>5</th>\n      <td>6</td>\n      <td>Leg baby large reason forget.</td>\n    </tr>\n    <tr>\n      <th>6</th>\n      <td>7</td>\n      <td>Charge lawyer bit shake.</td>\n    </tr>\n    <tr>\n      <th>7</th>\n      <td>8</td>\n      <td>Among of myself police.</td>\n    </tr>\n    <tr>\n      <th>8</th>\n      <td>9</td>\n      <td>No our eight.</td>\n    </tr>\n    <tr>\n      <th>9</th>\n      <td>10</td>\n      <td>Morning upon process soldier such company.</td>\n    </tr>\n    <tr>\n      <th>10</th>\n      <td>11</td>\n      <td>Page it increase certain.</td>\n    </tr>\n    <tr>\n      <th>11</th>\n      <td>12</td>\n      <td>Necessary she moment apply may.</td>\n    </tr>\n    <tr>\n      <th>12</th>\n      <td>13</td>\n      <td>Finally lead daughter tell least task everyone.</td>\n    </tr>\n    <tr>\n      <th>13</th>\n      <td>14</td>\n      <td>Heart represent doctor pattern authority.</td>\n    </tr>\n    <tr>\n      <th>14</th>\n      <td>15</td>\n      <td>Wall enjoy beautiful body enough ten behind.</td>\n    </tr>\n    <tr>\n      <th>15</th>\n      <td>16</td>\n      <td>Compare go recognize actually here.</td>\n    </tr>\n  </tbody>\n</table>\n</div>"
     },
     "execution_count": 76,
     "metadata": {},
     "output_type": "execute_result"
    }
   ],
   "source": [
    "import faker\n",
    "fake = faker.Faker()\n",
    "new_dataframe = pd.DataFrame([[1, fake.sentence()], [2, fake.sentence()], [3, fake.sentence()], [4, fake.sentence()], [5, fake.sentence()], [6, fake.sentence()], [7, fake.sentence()], [8, fake.sentence()], [9, fake.sentence()], [10, fake.sentence()], [11, fake.sentence()], [12, fake.sentence()], [13, fake.sentence()], [14, fake.sentence()], [15, fake.sentence()], [16, fake.sentence()]])\n",
    "new_dataframe"
   ],
   "metadata": {
    "collapsed": false,
    "ExecuteTime": {
     "end_time": "2024-02-06T00:00:46.500426Z",
     "start_time": "2024-02-06T00:00:46.391530Z"
    }
   },
   "id": "19a1c9952115cc41",
   "execution_count": 76
  },
  {
   "cell_type": "code",
   "outputs": [],
   "source": [
    "new_dataframe[1] = new_dataframe[1].apply(lambda x: x[0])"
   ],
   "metadata": {
    "collapsed": false
   },
   "id": "70e7e259a2307a4"
  }
 ],
 "metadata": {
  "kernelspec": {
   "display_name": "Python 3",
   "language": "python",
   "name": "python3"
  },
  "language_info": {
   "codemirror_mode": {
    "name": "ipython",
    "version": 2
   },
   "file_extension": ".py",
   "mimetype": "text/x-python",
   "name": "python",
   "nbconvert_exporter": "python",
   "pygments_lexer": "ipython2",
   "version": "2.7.6"
  }
 },
 "nbformat": 4,
 "nbformat_minor": 5
}
