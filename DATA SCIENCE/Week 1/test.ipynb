{
 "cells": [
  {
   "cell_type": "code",
   "execution_count": 12,
   "id": "initial_id",
   "metadata": {
    "collapsed": true,
    "ExecuteTime": {
     "end_time": "2024-02-02T21:52:58.359012Z",
     "start_time": "2024-02-02T21:52:58.352901Z"
    }
   },
   "outputs": [],
   "source": [
    "import numpy as np"
   ]
  },
  {
   "cell_type": "code",
   "outputs": [
    {
     "data": {
      "text/plain": "array([[  1,   2,   3,   4,   5,   6,   7,   8,   9,  10,  11,  12,  13,\n         14,  15,  16],\n       [ 17,  18,  19,  20,  21,  22,  23,  24,  25,  26,  27,  28,  29,\n         30,  31,  32],\n       [ 33,  34,  35,  36,  37,  38,  39,  40,  41,  42,  43,  44,  45,\n         46,  47,  48],\n       [ 49,  50,  51,  52,  53,  54,  55,  56,  57,  58,  59,  60,  61,\n         62,  63,  64],\n       [ 65,  66,  67,  68,  69,  70,  71,  72,  73,  74,  75,  76,  77,\n         78,  79,  80],\n       [ 81,  82,  83,  84,  85,  86,  87,  88,  89,  90,  91,  92,  93,\n         94,  95,  96],\n       [ 97,  98,  99, 100, 101, 102, 103, 104, 105, 106, 107, 108, 109,\n        110, 111, 112],\n       [113, 114, 115, 116, 117, 118, 119, 120, 121, 122, 123, 124, 125,\n        126, 127, 128],\n       [129, 130, 131, 132, 133, 134, 135, 136, 137, 138, 139, 140, 141,\n        142, 143, 144],\n       [145, 146, 147, 148, 149, 150, 151, 152, 153, 154, 155, 156, 157,\n        158, 159, 160],\n       [161, 162, 163, 164, 165, 166, 167, 168, 169, 170, 171, 172, 173,\n        174, 175, 176],\n       [177, 178, 179, 180, 181, 182, 183, 184, 185, 186, 187, 188, 189,\n        190, 191, 192],\n       [193, 194, 195, 196, 197, 198, 199, 200, 201, 202, 203, 204, 205,\n        206, 207, 208],\n       [209, 210, 211, 212, 213, 214, 215, 216, 217, 218, 219, 220, 221,\n        222, 223, 224],\n       [225, 226, 227, 228, 229, 230, 231, 232, 233, 234, 235, 236, 237,\n        238, 239, 240],\n       [241, 242, 243, 244, 245, 246, 247, 248, 249, 250, 251, 252, 253,\n        254, 255, 256]])"
     },
     "execution_count": 13,
     "metadata": {},
     "output_type": "execute_result"
    }
   ],
   "source": [
    "a = np.array([[1,2,3,4, 5, 6, 7, 8, 9, 10, 11, 12, 13, 14, 15, 16],\n",
    "              [17,18,19,20, 21, 22, 23, 24, 25, 26, 27, 28, 29, 30, 31, 32],\n",
    "              [33,34,35,36, 37, 38, 39, 40, 41, 42, 43, 44, 45, 46, 47, 48],\n",
    "              [49,50,51,52, 53, 54, 55, 56, 57, 58, 59, 60, 61, 62, 63, 64],\n",
    "              [65,66,67,68, 69, 70, 71, 72, 73, 74, 75, 76, 77, 78, 79, 80],\n",
    "              [81,82,83,84, 85, 86, 87, 88, 89, 90, 91, 92, 93, 94, 95, 96],\n",
    "              [97,98,99,100, 101, 102, 103, 104, 105, 106, 107, 108, 109, 110, 111, 112],\n",
    "              [113,114,115,116, 117, 118, 119, 120, 121, 122, 123, 124, 125, 126, 127, 128],\n",
    "              [129,130,131,132, 133, 134, 135, 136, 137, 138, 139, 140, 141, 142, 143, 144],\n",
    "              [145,146,147,148, 149, 150, 151, 152, 153, 154, 155, 156, 157, 158, 159, 160],\n",
    "              [161,162,163,164, 165, 166, 167, 168, 169, 170, 171, 172, 173, 174, 175, 176],\n",
    "              [177,178,179,180, 181, 182, 183, 184, 185, 186, 187, 188, 189, 190, 191, 192],\n",
    "              [193,194,195,196, 197, 198, 199, 200, 201, 202, 203, 204, 205, 206, 207, 208],\n",
    "              [209,210,211,212, 213, 214, 215, 216, 217, 218, 219, 220, 221, 222, 223, 224],\n",
    "              [225,226,227,228, 229, 230, 231, 232, 233, 234, 235, 236, 237, 238, 239, 240],\n",
    "              [241,242,243,244, 245, 246, 247, 248, 249, 250, 251, 252, 253, 254, 255, 256]])\n",
    "a"
   ],
   "metadata": {
    "collapsed": false,
    "ExecuteTime": {
     "end_time": "2024-02-02T21:52:58.365390Z",
     "start_time": "2024-02-02T21:52:58.361794Z"
    }
   },
   "id": "85115ec1f76d433b",
   "execution_count": 13
  },
  {
   "cell_type": "code",
   "outputs": [
    {
     "data": {
      "text/plain": "   0   1   2   3   4   5   6   7   8   9   10  11  12  13  14  15\n0   1   2   3   4   5   6   7   8   9  10  11  12  13  14  15  16\n1  17  18  19  20  21  22  23  24  25  26  27  28  29  30  31  32\n2  33  34  35  36  37  38  39  40  41  42  43  44  45  46  47  48",
      "text/html": "<div>\n<style scoped>\n    .dataframe tbody tr th:only-of-type {\n        vertical-align: middle;\n    }\n\n    .dataframe tbody tr th {\n        vertical-align: top;\n    }\n\n    .dataframe thead th {\n        text-align: right;\n    }\n</style>\n<table border=\"1\" class=\"dataframe\">\n  <thead>\n    <tr style=\"text-align: right;\">\n      <th></th>\n      <th>0</th>\n      <th>1</th>\n      <th>2</th>\n      <th>3</th>\n      <th>4</th>\n      <th>5</th>\n      <th>6</th>\n      <th>7</th>\n      <th>8</th>\n      <th>9</th>\n      <th>10</th>\n      <th>11</th>\n      <th>12</th>\n      <th>13</th>\n      <th>14</th>\n      <th>15</th>\n    </tr>\n  </thead>\n  <tbody>\n    <tr>\n      <th>0</th>\n      <td>1</td>\n      <td>2</td>\n      <td>3</td>\n      <td>4</td>\n      <td>5</td>\n      <td>6</td>\n      <td>7</td>\n      <td>8</td>\n      <td>9</td>\n      <td>10</td>\n      <td>11</td>\n      <td>12</td>\n      <td>13</td>\n      <td>14</td>\n      <td>15</td>\n      <td>16</td>\n    </tr>\n    <tr>\n      <th>1</th>\n      <td>17</td>\n      <td>18</td>\n      <td>19</td>\n      <td>20</td>\n      <td>21</td>\n      <td>22</td>\n      <td>23</td>\n      <td>24</td>\n      <td>25</td>\n      <td>26</td>\n      <td>27</td>\n      <td>28</td>\n      <td>29</td>\n      <td>30</td>\n      <td>31</td>\n      <td>32</td>\n    </tr>\n    <tr>\n      <th>2</th>\n      <td>33</td>\n      <td>34</td>\n      <td>35</td>\n      <td>36</td>\n      <td>37</td>\n      <td>38</td>\n      <td>39</td>\n      <td>40</td>\n      <td>41</td>\n      <td>42</td>\n      <td>43</td>\n      <td>44</td>\n      <td>45</td>\n      <td>46</td>\n      <td>47</td>\n      <td>48</td>\n    </tr>\n  </tbody>\n</table>\n</div>"
     },
     "execution_count": 41,
     "metadata": {},
     "output_type": "execute_result"
    }
   ],
   "source": [
    "import pandas as pd\n",
    "df = pd.DataFrame(a)\n",
    "df\n",
    "df.iloc[:3, :]"
   ],
   "metadata": {
    "collapsed": false,
    "ExecuteTime": {
     "end_time": "2024-02-05T15:25:20.107070Z",
     "start_time": "2024-02-05T15:25:20.100715Z"
    }
   },
   "id": "bc2d80b2c578d6c3",
   "execution_count": 41
  },
  {
   "cell_type": "code",
   "outputs": [
    {
     "data": {
      "text/plain": "   0  1  2\n0  2  3  1\n1  5  6  4\n2  8  9  7",
      "text/html": "<div>\n<style scoped>\n    .dataframe tbody tr th:only-of-type {\n        vertical-align: middle;\n    }\n\n    .dataframe tbody tr th {\n        vertical-align: top;\n    }\n\n    .dataframe thead th {\n        text-align: right;\n    }\n</style>\n<table border=\"1\" class=\"dataframe\">\n  <thead>\n    <tr style=\"text-align: right;\">\n      <th></th>\n      <th>0</th>\n      <th>1</th>\n      <th>2</th>\n    </tr>\n  </thead>\n  <tbody>\n    <tr>\n      <th>0</th>\n      <td>2</td>\n      <td>3</td>\n      <td>1</td>\n    </tr>\n    <tr>\n      <th>1</th>\n      <td>5</td>\n      <td>6</td>\n      <td>4</td>\n    </tr>\n    <tr>\n      <th>2</th>\n      <td>8</td>\n      <td>9</td>\n      <td>7</td>\n    </tr>\n  </tbody>\n</table>\n</div>"
     },
     "execution_count": 44,
     "metadata": {},
     "output_type": "execute_result"
    }
   ],
   "source": [
    "new_df = pd.DataFrame([[2, 3, 1], [5, 6, 4], [8, 9, 7]])\n",
    "new_df"
   ],
   "metadata": {
    "collapsed": false,
    "ExecuteTime": {
     "end_time": "2024-02-05T19:15:54.914499Z",
     "start_time": "2024-02-05T19:15:54.906297Z"
    }
   },
   "id": "7af2ef176b9e649b",
   "execution_count": 44
  },
  {
   "cell_type": "code",
   "outputs": [
    {
     "data": {
      "text/plain": "   0  1  2  random\n0  2  3  1      44\n1  5  6  4      45\n2  8  9  7      46",
      "text/html": "<div>\n<style scoped>\n    .dataframe tbody tr th:only-of-type {\n        vertical-align: middle;\n    }\n\n    .dataframe tbody tr th {\n        vertical-align: top;\n    }\n\n    .dataframe thead th {\n        text-align: right;\n    }\n</style>\n<table border=\"1\" class=\"dataframe\">\n  <thead>\n    <tr style=\"text-align: right;\">\n      <th></th>\n      <th>0</th>\n      <th>1</th>\n      <th>2</th>\n      <th>random</th>\n    </tr>\n  </thead>\n  <tbody>\n    <tr>\n      <th>0</th>\n      <td>2</td>\n      <td>3</td>\n      <td>1</td>\n      <td>44</td>\n    </tr>\n    <tr>\n      <th>1</th>\n      <td>5</td>\n      <td>6</td>\n      <td>4</td>\n      <td>45</td>\n    </tr>\n    <tr>\n      <th>2</th>\n      <td>8</td>\n      <td>9</td>\n      <td>7</td>\n      <td>46</td>\n    </tr>\n  </tbody>\n</table>\n</div>"
     },
     "execution_count": 45,
     "metadata": {},
     "output_type": "execute_result"
    }
   ],
   "source": [
    "random_array = np.array([44, 45, 46])\n",
    "new_df['random'] = random_array\n",
    "new_df"
   ],
   "metadata": {
    "collapsed": false,
    "ExecuteTime": {
     "end_time": "2024-02-05T19:17:01.091230Z",
     "start_time": "2024-02-05T19:17:01.068912Z"
    }
   },
   "id": "5ff31f3fa6fdeeae",
   "execution_count": 45
  }
 ],
 "metadata": {
  "kernelspec": {
   "display_name": "Python 3",
   "language": "python",
   "name": "python3"
  },
  "language_info": {
   "codemirror_mode": {
    "name": "ipython",
    "version": 2
   },
   "file_extension": ".py",
   "mimetype": "text/x-python",
   "name": "python",
   "nbconvert_exporter": "python",
   "pygments_lexer": "ipython2",
   "version": "2.7.6"
  }
 },
 "nbformat": 4,
 "nbformat_minor": 5
}
