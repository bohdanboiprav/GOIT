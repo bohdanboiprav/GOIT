{
  "cells": [
    {
      "cell_type": "markdown",
      "metadata": {
        "id": "b0Yf4NBJUSNM"
      },
      "source": [
        "# Створення нейронної мережі\n",
        "\n",
        "У цьому завданні ми створимо повнозв'язну нейронну мережу, використовуючи при цьому низькорівневі механізми tensorflow.\n",
        "\n",
        "Архітектура нейромережі представлена на наступному малюнку. Як бачиш, у ній є один вхідний шар, два приховані, а також вихідний шар. В якості активаційної функції у прихованих шарах буде використовуватись сигмоїда. На вихідному шарі ми використовуємо softmax.\n",
        "\n",
        "Частина коду зі створення мережі вже написана, тобі потрібно заповнити пропуски у вказаних місцях."
      ]
    },
    {
      "cell_type": "markdown",
      "metadata": {
        "id": "01rZWUu0USNQ"
      },
      "source": [
        "## Архітектура нейронної мережі\n",
        "\n",
        "<img src=\"http://cs231n.github.io/assets/nn1/neural_net2.jpeg\" alt=\"nn\" style=\"width: 400px;\"/>\n"
      ]
    },
    {
      "cell_type": "markdown",
      "metadata": {
        "id": "LLvIZ705Qw_V"
      },
      "source": [
        "## Про датасет MNIST\n",
        "\n",
        "Дану нейромережу ми будемо вивчати на датасеті MNIST. Цей датасет являє собою велику кількість зображень рукописних цифр розміром $28 \\times 28$ пікселів. Кожен піксель приймає значення від 0 до 255.\n",
        "\n",
        "Як і раніше, датасет буде розділений на навчальну та тестову вибірки. При цьому ми виконаємо нормалізацію всіх зображень, щоб значення пікселів знаходилось у проміжку від 0 до 1, розділивши яскравість кожного пікселя на 255.\n",
        "\n",
        "Окрім того, архітектура нейронної мережі очікує на вхід вектор. У нашому ж випадку кожен об'єкт вибірки являє собою матрицю. Що ж робити? У цьому завданні ми \"розтягнемо\" матрицю $28 \\times 28$, отримавши при цьому вектор, що складається з 784 елементів.\n",
        "\n",
        "![MNIST Dataset](https://www.researchgate.net/profile/Steven-Young-5/publication/306056875/figure/fig1/AS:393921575309346@1470929630835/Example-images-from-the-MNIST-dataset.png)\n",
        "\n",
        "Більше інформації про датасет можна знайти [тут](http://yann.lecun.com/exdb/mnist/)."
      ]
    },
    {
      "cell_type": "code",
      "execution_count": 1,
      "metadata": {
        "id": "il_0_5OyUSNR"
      },
      "outputs": [],
      "source": [
        "import tensorflow as tf\n",
        "import numpy as np\n",
        "import pandas as pd\n",
        "import matplotlib.pyplot as plt\n",
        "import random\n",
        "import keras as K\n",
        "import seaborn as sns\n",
        "from sklearn.metrics import classification_report"
      ]
    },
    {
      "cell_type": "code",
      "execution_count": 2,
      "metadata": {
        "id": "cd-1_abTUSNS"
      },
      "outputs": [],
      "source": [
        "num_classes = 10 # загальна кількість класів, у нашому випадку це цифри від 0 до 9\n",
        "num_features = 784 # кількість атрибутів вхідного вектора 28 * 28 = 784\n",
        "\n",
        "learning_rate = 0.001 # швидкість навчання нейронної мережі\n",
        "training_steps = 3000 # максимальне число епох\n",
        "batch_size = 256 # перераховувати ваги мережі ми будемо не на всій вибірці, а на її випадковій підмножині з batch_size елементів\n",
        "display_step = 100 # кожні 100 ітерацій ми будемо показувати поточне значення функції втрат і точності\n",
        "\n",
        "n_hidden_1 = 128 # кількість нейронів 1-го шару\n",
        "n_hidden_2 = 256 # кількість нейронів 2-го шару"
      ]
    },
    {
      "cell_type": "code",
      "execution_count": 3,
      "metadata": {
        "colab": {
          "base_uri": "https://localhost:8080/"
        },
        "id": "pGTXiRyTUSNT",
        "outputId": "c4cdd83d-3327-4e91-cb28-0eab9ab0025d"
      },
      "outputs": [
        {
          "output_type": "stream",
          "name": "stdout",
          "text": [
            "Downloading data from https://storage.googleapis.com/tensorflow/tf-keras-datasets/mnist.npz\n",
            "11490434/11490434 [==============================] - 0s 0us/step\n"
          ]
        }
      ],
      "source": [
        "# from tensorflow.keras.datasets import mnist\n",
        "from keras.datasets import mnist\n",
        "\n",
        "# Завантажуємо датасет\n",
        "(x_train, y_train), (x_test, y_test) = mnist.load_data()\n",
        "\n",
        "# Перетворюємо цілочисельні пікселі на тип float32\n",
        "x_train, x_test = np.array(x_train, np.float32), np.array(x_test, np.float32)\n",
        "\n",
        "# Перетворюємо матриці розміром 28x28 пікселів у вектор з 784 елементів\n",
        "x_train, x_test = x_train.reshape([-1, num_features]), x_test.reshape([-1, num_features])\n",
        "\n",
        "# Нормалізуємо значення пікселів\n",
        "x_train, x_test = x_train / 255., x_test / 255.\n",
        "\n",
        "# Перемішаємо тренувальні дані\n",
        "train_data = tf.data.Dataset.from_tensor_slices((x_train, y_train))\n",
        "train_data = train_data.repeat().shuffle(5000).batch(batch_size).prefetch(1)"
      ]
    },
    {
      "cell_type": "code",
      "execution_count": 17,
      "metadata": {
        "id": "FkRmCQjnUSNV"
      },
      "outputs": [],
      "source": [
        "# Створимо нейронну мережу\n",
        "\n",
        "class DenseLayer(tf.Module):\n",
        "    def __init__(self, in_features, out_features, activation=None, name=None):\n",
        "        super().__init__(name=name)\n",
        "        self.w = tf.Variable(\n",
        "            tf.random.normal([in_features, out_features]), name=\"w\"\n",
        "        )\n",
        "        self.b = tf.Variable(tf.zeros([out_features]), name=\"b\")\n",
        "        self.activation = activation\n",
        "\n",
        "    def __call__(self, x):\n",
        "        y = tf.matmul(x, self.w) + self.b\n",
        "        if self.activation:\n",
        "            y = self.activation(y)\n",
        "        return y\n",
        "\n",
        "\n",
        "class NN(tf.Module):\n",
        "  def __init__(self, name=None):\n",
        "    super().__init__(name=name)\n",
        "    # Перший шар, який складається з 128 нейронів\n",
        "    self.layer_1 = DenseLayer(num_features, n_hidden_1, tf.nn.sigmoid)\n",
        "    # Другий шар, який складається з 256 нейронів\n",
        "    self.layer_2 = DenseLayer(n_hidden_1, n_hidden_2, tf.nn.sigmoid)\n",
        "    # Вихідний шар\n",
        "    self.layer_3 = DenseLayer(n_hidden_2, num_classes, tf.nn.softmax)\n",
        "\n",
        "\n",
        "  def __call__(self, x):\n",
        "    # Передача даних через перші два шари та вихідний шар з функцією активації softmax\n",
        "    x = self.layer_1(x)\n",
        "    x = self.layer_2(x)\n",
        "\n",
        "    return self.layer_3(x)"
      ]
    },
    {
      "cell_type": "code",
      "execution_count": 18,
      "metadata": {
        "id": "LIf3o7VAUSNV"
      },
      "outputs": [],
      "source": [
        "# В якості функції помилки в даному випадку зручно взяти крос-ентропію\n",
        "def cross_entropy(y_pred, y_true):\n",
        "    # Закодувати label в one hot vector\n",
        "    y_true = tf.one_hot(y_true, depth=num_classes)\n",
        "\n",
        "    # Значення передбачення, щоб уникнути помилки log(0).\n",
        "    y_pred = tf.clip_by_value(y_pred, 1e-9, 1.)\n",
        "\n",
        "    # Обчислення крос-ентропії\n",
        "    return tf.reduce_mean(-tf.reduce_sum(y_true * tf.math.log(y_pred)))\n",
        "\n",
        "# Як метрику якості використовуємо точність\n",
        "def accuracy(y_pred, y_true):\n",
        "    # Отримання індексів максимальних значень для передбачень\n",
        "    predicted_class = tf.argmax(y_pred, axis=1)\n",
        "    # Порівняння передбачень зі справжніми значеннями\n",
        "    correct_prediction = tf.equal(predicted_class, tf.cast(y_true, tf.int64))\n",
        "    # Обчислення точності\n",
        "    accuracy = tf.reduce_mean(tf.cast(correct_prediction, tf.float32))\n",
        "    return accuracy"
      ]
    },
    {
      "cell_type": "code",
      "execution_count": 19,
      "metadata": {
        "id": "MQeT1yatUSNW"
      },
      "outputs": [],
      "source": [
        "# Створимо екземпляр нейронної мережі\n",
        "neural_net = NN(name=\"mnist\")\n",
        "\n",
        "# Функція навчання нейромережі\n",
        "def train(neural_net, input_x, output_y):\n",
        "  # Для налаштування вагів мережі будемо використовувати Adam алгоритм\n",
        "  optimizer = tf.keras.optimizers.Adam(learning_rate)\n",
        "\n",
        "  # Активація автоматичного диференціювання\n",
        "  with tf.GradientTape() as g:\n",
        "    pred = neural_net(input_x)\n",
        "    loss = cross_entropy(pred, output_y)\n",
        "\n",
        "    # Отримаємо список оптимізованих параметрів\n",
        "    trainable_variables = neural_net.trainable_variables\n",
        "    # Обчислимо за ними значення градієнта\n",
        "    gradients = g.gradient(loss, trainable_variables)\n",
        "\n",
        "    # Модифікуємо параметри\n",
        "    optimizer.apply_gradients(zip(gradients, trainable_variables))"
      ]
    },
    {
      "cell_type": "code",
      "execution_count": 20,
      "metadata": {
        "id": "fnyns9lBfpQZ",
        "colab": {
          "base_uri": "https://localhost:8080/"
        },
        "outputId": "84fae6cc-f49c-4f28-94c7-3be87aa3fbd1"
      },
      "outputs": [
        {
          "output_type": "stream",
          "name": "stdout",
          "text": [
            "Current Loss: 364.63397216796875\n",
            "Current Accuracy: 0.65625\n",
            "Current Loss: 229.09417724609375\n",
            "Current Accuracy: 0.78125\n",
            "Current Loss: 188.88084411621094\n",
            "Current Accuracy: 0.8046875\n",
            "Current Loss: 125.47135162353516\n",
            "Current Accuracy: 0.84765625\n",
            "Current Loss: 97.00527954101562\n",
            "Current Accuracy: 0.8984375\n",
            "Current Loss: 103.98838806152344\n",
            "Current Accuracy: 0.88671875\n",
            "Current Loss: 118.33560180664062\n",
            "Current Accuracy: 0.8828125\n",
            "Current Loss: 81.48617553710938\n",
            "Current Accuracy: 0.91015625\n",
            "Current Loss: 61.171871185302734\n",
            "Current Accuracy: 0.91796875\n",
            "Current Loss: 67.09001159667969\n",
            "Current Accuracy: 0.921875\n",
            "Current Loss: 51.297508239746094\n",
            "Current Accuracy: 0.9453125\n",
            "Current Loss: 84.92898559570312\n",
            "Current Accuracy: 0.91015625\n",
            "Current Loss: 77.44168853759766\n",
            "Current Accuracy: 0.9296875\n",
            "Current Loss: 46.6667594909668\n",
            "Current Accuracy: 0.953125\n",
            "Current Loss: 65.86471557617188\n",
            "Current Accuracy: 0.92578125\n",
            "Current Loss: 64.00887298583984\n",
            "Current Accuracy: 0.9453125\n",
            "Current Loss: 17.27129554748535\n",
            "Current Accuracy: 0.98046875\n",
            "Current Loss: 36.45142364501953\n",
            "Current Accuracy: 0.9765625\n",
            "Current Loss: 48.62476348876953\n",
            "Current Accuracy: 0.9375\n",
            "Current Loss: 27.519550323486328\n",
            "Current Accuracy: 0.97265625\n",
            "Current Loss: 31.258255004882812\n",
            "Current Accuracy: 0.96484375\n",
            "Current Loss: 53.07829666137695\n",
            "Current Accuracy: 0.96484375\n",
            "Current Loss: 42.021888732910156\n",
            "Current Accuracy: 0.94921875\n",
            "Current Loss: 46.874847412109375\n",
            "Current Accuracy: 0.96484375\n",
            "Current Loss: 36.460716247558594\n",
            "Current Accuracy: 0.96875\n",
            "Current Loss: 34.104373931884766\n",
            "Current Accuracy: 0.97265625\n",
            "Current Loss: 34.81535339355469\n",
            "Current Accuracy: 0.96875\n",
            "Current Loss: 22.862686157226562\n",
            "Current Accuracy: 0.97265625\n",
            "Current Loss: 27.311492919921875\n",
            "Current Accuracy: 0.96484375\n",
            "Current Loss: 39.477821350097656\n",
            "Current Accuracy: 0.95703125\n"
          ]
        }
      ],
      "source": [
        "# Тренування мережі\n",
        "\n",
        "loss_history = []  # кожні display_step кроків зберігай в цьому списку поточну помилку нейромережі\n",
        "accuracy_history = [] # кожні display_step кроків зберігай в цьому списку поточну точність нейромережі\n",
        "\n",
        "# У цьому циклі ми будемо проводити навчання нейронної мережі\n",
        "# із тренувального датасета train_data вилучи випадкову підмножину, на якій\n",
        "# відбудеться тренування. Використовуй метод take, доступний для тренувального датасета.\n",
        "for step, (batch_x, batch_y) in enumerate(train_data.take(training_steps), 1):\n",
        "    # Оновлюємо ваги нейронної мережі\n",
        "    train(neural_net, batch_x, batch_y)\n",
        "    pred = neural_net(batch_x)\n",
        "    current_loss = cross_entropy(pred, batch_y)\n",
        "    current_accuracy = accuracy(pred, batch_y)\n",
        "    loss_history.append(current_loss)\n",
        "    accuracy_history.append(current_accuracy)\n",
        "\n",
        "    if step % display_step == 0:\n",
        "        print(f\"Current Loss: {current_loss}\")\n",
        "        print(f\"Current Accuracy: {current_accuracy}\")"
      ]
    },
    {
      "cell_type": "code",
      "execution_count": 52,
      "metadata": {
        "id": "_yCBfG6MbQB2",
        "colab": {
          "base_uri": "https://localhost:8080/",
          "height": 445
        },
        "outputId": "4136c546-8ec4-4d6f-d513-b8ee802298ad"
      },
      "outputs": [
        {
          "output_type": "display_data",
          "data": {
            "text/plain": [
              "<Figure size 1200x500 with 2 Axes>"
            ],
            "image/png": "[encoded data removed]"
          },
          "metadata": {}
        }
      ],
      "source": [
        "# Виведіть графіки залежності зміни точності і втрат від кроку\n",
        "# Якщо все зроблено правильно, то точність повинна зростати, а втрати зменшуватись\n",
        "\n",
        "import matplotlib.pyplot as plt\n",
        "\n",
        "# Виведіть графік функції втрат\n",
        "fig, axs = plt.subplots(1, 2, figsize=(12, 5))\n",
        "intervals = list(range(1, 3001))\n",
        "axs[0].plot(intervals, loss_history)\n",
        "\n",
        "# Виведіть графік точності\n",
        "axs[1].plot(intervals, accuracy_history)\n",
        "plt.show()"
      ]
    },
    {
      "cell_type": "code",
      "execution_count": 53,
      "metadata": {
        "id": "LE3g4gDyUSNY",
        "colab": {
          "base_uri": "https://localhost:8080/"
        },
        "outputId": "af2aac89-94f9-46ba-d82b-21217ae62cd4"
      },
      "outputs": [
        {
          "output_type": "stream",
          "name": "stdout",
          "text": [
            "Точність моделі на тестових даних: 0.9361\n"
          ]
        }
      ],
      "source": [
        "from sklearn.metrics import accuracy_score\n",
        "\n",
        "# Отримання передбачень з тестових даних\n",
        "predictions = neural_net(x_test)\n",
        "# Отримання класів передбачень\n",
        "predicted_classes = np.argmax(predictions, axis=1)\n",
        "\n",
        "# Обчислення точності\n",
        "accuracy = accuracy_score(y_test, predicted_classes)\n",
        "print(f\"Точність моделі на тестових даних: {accuracy}\")"
      ]
    },
    {
      "cell_type": "code",
      "source": [
        "# Отримання передбачень моделі на тестових даних\n",
        "predictions = neural_net(x_test)\n",
        "predicted_classes = tf.argmax(predictions, axis=1)\n",
        "\n",
        "# Виведення метрик якості за кожен клас\n",
        "print(classification_report(y_test, predicted_classes, zero_division=1))"
      ],
      "metadata": {
        "colab": {
          "base_uri": "https://localhost:8080/"
        },
        "id": "MPctgXb5x_MY",
        "outputId": "185db7ab-5903-476d-90f1-d89ddbd6bb91"
      },
      "execution_count": 54,
      "outputs": [
        {
          "output_type": "stream",
          "name": "stdout",
          "text": [
            "              precision    recall  f1-score   support\n",
            "\n",
            "           0       0.96      0.97      0.97       980\n",
            "           1       0.98      0.98      0.98      1135\n",
            "           2       0.94      0.94      0.94      1032\n",
            "           3       0.92      0.91      0.92      1010\n",
            "           4       0.93      0.93      0.93       982\n",
            "           5       0.93      0.91      0.92       892\n",
            "           6       0.96      0.95      0.96       958\n",
            "           7       0.95      0.92      0.94      1028\n",
            "           8       0.87      0.93      0.90       974\n",
            "           9       0.91      0.92      0.91      1009\n",
            "\n",
            "    accuracy                           0.94     10000\n",
            "   macro avg       0.94      0.94      0.94     10000\n",
            "weighted avg       0.94      0.94      0.94     10000\n",
            "\n"
          ]
        }
      ]
    },
    {
      "cell_type": "code",
      "source": [
        "predicted_classes"
      ],
      "metadata": {
        "colab": {
          "base_uri": "https://localhost:8080/"
        },
        "id": "Br_cujQn3IiL",
        "outputId": "93976c6a-8217-4aa3-af5a-82df31ee1927"
      },
      "execution_count": 83,
      "outputs": [
        {
          "output_type": "execute_result",
          "data": {
            "text/plain": [
              "<tf.Tensor: shape=(10000,), dtype=int64, numpy=array([7, 2, 1, ..., 4, 5, 6])>"
            ]
          },
          "metadata": {},
          "execution_count": 83
        }
      ]
    },
    {
      "cell_type": "code",
      "execution_count": 85,
      "metadata": {
        "id": "_EEHAubOUSNY",
        "colab": {
          "base_uri": "https://localhost:8080/",
          "height": 506
        },
        "outputId": "7c6a1453-2103-48db-9c62-ddb97aa822bf"
      },
      "outputs": [
        {
          "output_type": "display_data",
          "data": {
            "text/plain": [
              "<Figure size 1000x600 with 10 Axes>"
            ],
            "image/png": "[encoded data removed]"
          },
          "metadata": {}
        }
      ],
      "source": [
        "# Протестуйте навчену нейромережу на 10 зображеннях. З тестової вибірки візьміть 5\n",
        "# випадкових зображень і передайте їх у нейронну мережу.\n",
        "# Виведіть зображення та випишіть  поруч відповідь нейромережі.\n",
        "# Зробіть висновок про те, чи помиляється твоя нейронна мережа, і якщо так, то як часто?\n",
        "\n",
        "# Місце для вашого коду\n",
        "x_test[0].shape\n",
        "random_list = np.random.randint(1, x_test[0].shape, size=10)\n",
        "plt.figure(figsize=(10, 6))\n",
        "for i, index in enumerate(random_list):\n",
        "    nn_class = predicted_classes[index]\n",
        "    plt.subplot(2, 5, i + 1)\n",
        "    plt.imshow(x_test[index].reshape((28, 28)), cmap='gray')\n",
        "    plt.title(f\"Index: {index}, NN: {nn_class}\")\n",
        "    plt.axis('off')\n",
        "\n",
        "plt.tight_layout()\n",
        "plt.show()"
      ]
    },
    {
      "cell_type": "code",
      "source": [
        "# Висновок: нейронна мережа працює корректно"
      ],
      "metadata": {
        "id": "snjOMHry3gq8"
      },
      "execution_count": 86,
      "outputs": []
    }
  ],
  "metadata": {
    "colab": {
      "provenance": [],
      "gpuType": "T4"
    },
    "kernelspec": {
      "display_name": "Python 3",
      "name": "python3"
    },
    "language_info": {
      "codemirror_mode": {
        "name": "ipython",
        "version": 3
      },
      "file_extension": ".py",
      "mimetype": "text/x-python",
      "name": "python",
      "nbconvert_exporter": "python",
      "pygments_lexer": "ipython3",
      "version": "3.9.2"
    },
    "accelerator": "GPU"
  },
  "nbformat": 4,
  "nbformat_minor": 0
}