{
 "cells": [
  {
   "cell_type": "code",
   "id": "initial_id",
   "metadata": {
    "collapsed": true,
    "ExecuteTime": {
     "end_time": "2024-04-25T07:35:40.982889Z",
     "start_time": "2024-04-25T07:35:21.587749Z"
    }
   },
   "source": [
    "import numpy as np\n",
    "import tensorflow as tf"
   ],
   "outputs": [],
   "execution_count": 1
  },
  {
   "metadata": {
    "ExecuteTime": {
     "end_time": "2024-04-25T07:36:04.153267Z",
     "start_time": "2024-04-25T07:36:03.905338Z"
    }
   },
   "cell_type": "code",
   "source": [
    "def formula(x, y, b):\n",
    "    x = tf.matmul(x, y)\n",
    "    x = x + b\n",
    "    return x\n",
    "\n",
    "\n",
    "function_that_uses_a_graph = tf.function(formula)\n",
    "\n",
    "x1 = tf.constant([[1.0, 2.0]])\n",
    "y1 = tf.constant([[2.0], [3.0]])\n",
    "b1 = tf.constant(4.0)\n",
    "\n",
    "orig_value = formula(x1, y1, b1).numpy()\n",
    "tf_function_value = function_that_uses_a_graph(x1, y1, b1).numpy()\n",
    "\n",
    "assert (orig_value == tf_function_value)"
   ],
   "id": "c5937c40c0b2f992",
   "outputs": [],
   "execution_count": 2
  },
  {
   "metadata": {
    "ExecuteTime": {
     "end_time": "2024-04-25T07:36:28.776294Z",
     "start_time": "2024-04-25T07:36:28.763985Z"
    }
   },
   "cell_type": "code",
   "source": "print(x1.shape)",
   "id": "afd59106f0315906",
   "outputs": [
    {
     "name": "stdout",
     "output_type": "stream",
     "text": [
      "(1, 2)\n"
     ]
    }
   ],
   "execution_count": 3
  },
  {
   "metadata": {
    "ExecuteTime": {
     "end_time": "2024-04-25T07:59:44.713989Z",
     "start_time": "2024-04-25T07:59:44.634375Z"
    }
   },
   "cell_type": "code",
   "source": [
    "def formula(x, y, b):\n",
    "    x = tf.matmul(x, y)\n",
    "    x = x + b\n",
    "    return x\n",
    "\n",
    "\n",
    "@tf.function\n",
    "def function_that_uses_a_graph(x, y, b):\n",
    "    x = tf.matmul(x, y)\n",
    "    x = x + b\n",
    "    return x\n",
    "\n",
    "\n",
    "x1 = tf.constant([[1.0, 2.0]])\n",
    "y1 = tf.constant([[2.0], [3.0]])\n",
    "b1 = tf.constant(4.0)\n",
    "\n",
    "orig_value = formula(x1, y1, b1).numpy()\n",
    "tf_function_value = function_that_uses_a_graph(x1, y1, b1).numpy()\n",
    "\n",
    "assert (orig_value == tf_function_value)"
   ],
   "id": "25b5ce61b6cd73d",
   "outputs": [],
   "execution_count": 13
  },
  {
   "metadata": {
    "ExecuteTime": {
     "end_time": "2024-04-25T07:59:51.382614Z",
     "start_time": "2024-04-25T07:59:51.360533Z"
    }
   },
   "cell_type": "code",
   "source": "formula(x1, y1, b1).numpy()",
   "id": "22196f39e51d9fe0",
   "outputs": [
    {
     "data": {
      "text/plain": [
       "array([[12.]], dtype=float32)"
      ]
     },
     "execution_count": 14,
     "metadata": {},
     "output_type": "execute_result"
    }
   ],
   "execution_count": 14
  },
  {
   "metadata": {
    "ExecuteTime": {
     "end_time": "2024-04-25T17:44:21.710541Z",
     "start_time": "2024-04-25T17:44:21.510925Z"
    }
   },
   "cell_type": "code",
   "source": [
    "def f(x):\n",
    "    return 1 / x ** 2\n",
    "\n",
    "\n",
    "x = tf.Variable(2.0)\n",
    "with tf.GradientTape() as tape:\n",
    "    y = f(x)\n",
    "    dydx = tape.gradient(y, x)\n",
    "    print(dydx)"
   ],
   "id": "32feb42f1c4a7ec3",
   "outputs": [
    {
     "name": "stdout",
     "output_type": "stream",
     "text": [
      "tf.Tensor(-0.25, shape=(), dtype=float32)\n"
     ]
    }
   ],
   "execution_count": 15
  },
  {
   "metadata": {
    "ExecuteTime": {
     "end_time": "2024-04-25T18:00:03.911273Z",
     "start_time": "2024-04-25T18:00:03.882671Z"
    }
   },
   "cell_type": "code",
   "source": [
    "class SimpleModule(tf.Module):\n",
    "    def __init__(self, name=None):\n",
    "        super().__init__(name=name)\n",
    "        self.w = tf.Variable(5.0)\n",
    "        self.b = tf.Variable(5.0)\n",
    "\n",
    "    def __call__(self, x):\n",
    "        return self.w * x + self.b\n",
    "\n",
    "\n",
    "simple_module = SimpleModule(name=\"simple\")\n",
    "print(simple_module(tf.constant(5.0)))"
   ],
   "id": "bec19e8834b2c6c2",
   "outputs": [
    {
     "name": "stdout",
     "output_type": "stream",
     "text": [
      "tf.Tensor(30.0, shape=(), dtype=float32)\n"
     ]
    }
   ],
   "execution_count": 27
  },
  {
   "metadata": {
    "ExecuteTime": {
     "end_time": "2024-04-25T18:05:51.036134Z",
     "start_time": "2024-04-25T18:05:50.891064Z"
    }
   },
   "cell_type": "code",
   "source": [
    "class DenseLayer(tf.Module):\n",
    "    def __init__(self, in_features, out_features, name=None):\n",
    "        super().__init__(name=name)\n",
    "        self.w = tf.Variable(\n",
    "            tf.random.normal([in_features, out_features]), name=\"w\"\n",
    "        )\n",
    "        self.b = tf.Variable(tf.zeros([out_features]), name=\"b\")\n",
    "\n",
    "    def __call__(self, x):\n",
    "        y = tf.matmul(x, self.w) + self.b\n",
    "        return tf.nn.relu(y)\n",
    "\n",
    "\n",
    "class NN(tf.Module):\n",
    "  def __init__(self, name=None):\n",
    "    super().__init__(name=name)\n",
    "    self.layer_1 = DenseLayer(in_features=3, out_features=3)\n",
    "    self.layer_2 = DenseLayer(in_features=3, out_features=1)\n",
    "\n",
    "  def __call__(self, x):\n",
    "    x = self.layer_1(x)\n",
    "    return self.layer_2(x)\n",
    "\n",
    "\n",
    "nn = NN(name=\"neural_network\")\n",
    "print(\"Results: \", nn(tf.constant([[2.0, 2.0, 2.0]])))"
   ],
   "id": "16bac2f65b9db64b",
   "outputs": [
    {
     "name": "stdout",
     "output_type": "stream",
     "text": [
      "Results:  tf.Tensor([[0.9445277]], shape=(1, 1), dtype=float32)\n"
     ]
    }
   ],
   "execution_count": 28
  },
  {
   "metadata": {
    "ExecuteTime": {
     "end_time": "2024-04-25T18:11:17.472850Z",
     "start_time": "2024-04-25T18:11:17.441631Z"
    }
   },
   "cell_type": "code",
   "source": [
    "w = tf.Variable(tf.random.normal([3, 1]))\n",
    "w"
   ],
   "id": "80bafb3dd80501ca",
   "outputs": [
    {
     "data": {
      "text/plain": [
       "<tf.Variable 'Variable:0' shape=(3, 1) dtype=float32, numpy=\n",
       "array([[1.3511289],\n",
       "       [0.6989095],\n",
       "       [1.6882557]], dtype=float32)>"
      ]
     },
     "execution_count": 34,
     "metadata": {},
     "output_type": "execute_result"
    }
   ],
   "execution_count": 34
  },
  {
   "metadata": {
    "ExecuteTime": {
     "end_time": "2024-04-25T18:42:11.787714Z",
     "start_time": "2024-04-25T18:42:11.777514Z"
    }
   },
   "cell_type": "code",
   "source": [
    "b = tf.Variable(tf.zeros([3]))\n",
    "x = tf.constant([[2.0, 2.0, 2.0]])\n",
    "y = tf.matmul(x, w) + b\n",
    "y"
   ],
   "id": "afeef4ac7f1691b1",
   "outputs": [
    {
     "data": {
      "text/plain": [
       "<tf.Tensor: shape=(1, 3), dtype=float32, numpy=array([[7.4765882, 7.4765882, 7.4765882]], dtype=float32)>"
      ]
     },
     "execution_count": 38,
     "metadata": {},
     "output_type": "execute_result"
    }
   ],
   "execution_count": 38
  },
  {
   "metadata": {
    "ExecuteTime": {
     "end_time": "2024-04-25T18:10:56.827440Z",
     "start_time": "2024-04-25T18:10:56.815270Z"
    }
   },
   "cell_type": "code",
   "source": "tf.nn.relu(y)",
   "id": "a4c8ac45f26083ac",
   "outputs": [
    {
     "data": {
      "text/plain": [
       "<tf.Tensor: shape=(), dtype=float32, numpy=0.25>"
      ]
     },
     "execution_count": 33,
     "metadata": {},
     "output_type": "execute_result"
    }
   ],
   "execution_count": 33
  }
 ],
 "metadata": {
  "kernelspec": {
   "display_name": "Python 3",
   "language": "python",
   "name": "python3"
  },
  "language_info": {
   "codemirror_mode": {
    "name": "ipython",
    "version": 2
   },
   "file_extension": ".py",
   "mimetype": "text/x-python",
   "name": "python",
   "nbconvert_exporter": "python",
   "pygments_lexer": "ipython2",
   "version": "2.7.6"
  }
 },
 "nbformat": 4,
 "nbformat_minor": 5
}
