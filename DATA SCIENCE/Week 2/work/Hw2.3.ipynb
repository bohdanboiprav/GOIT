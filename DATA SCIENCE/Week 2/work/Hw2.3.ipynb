{
 "cells": [
  {
   "cell_type": "code",
   "execution_count": 1,
   "id": "initial_id",
   "metadata": {
    "collapsed": true,
    "ExecuteTime": {
     "end_time": "2024-02-21T23:23:51.235379Z",
     "start_time": "2024-02-21T23:23:50.817921Z"
    }
   },
   "outputs": [
    {
     "data": {
      "text/plain": "                                                Name  \\\n0                      10-Day Green Smoothie Cleanse   \n1                                  11/22/63: A Novel   \n2            12 Rules for Life: An Antidote to Chaos   \n3                             1984 (Signet Classics)   \n4  5,000 Awesome Facts (About Everything!) (Natio...   \n\n                     Author  User Rating  Reviews  Price  Year        Genre  \n0                  JJ Smith          4.7    17350      8  2016  Non Fiction  \n1              Stephen King          4.6     2052     22  2011      Fiction  \n2        Jordan B. Peterson          4.7    18979     15  2018  Non Fiction  \n3             George Orwell          4.7    21424      6  2017      Fiction  \n4  National Geographic Kids          4.8     7665     12  2019  Non Fiction  ",
      "text/html": "<div>\n<style scoped>\n    .dataframe tbody tr th:only-of-type {\n        vertical-align: middle;\n    }\n\n    .dataframe tbody tr th {\n        vertical-align: top;\n    }\n\n    .dataframe thead th {\n        text-align: right;\n    }\n</style>\n<table border=\"1\" class=\"dataframe\">\n  <thead>\n    <tr style=\"text-align: right;\">\n      <th></th>\n      <th>Name</th>\n      <th>Author</th>\n      <th>User Rating</th>\n      <th>Reviews</th>\n      <th>Price</th>\n      <th>Year</th>\n      <th>Genre</th>\n    </tr>\n  </thead>\n  <tbody>\n    <tr>\n      <th>0</th>\n      <td>10-Day Green Smoothie Cleanse</td>\n      <td>JJ Smith</td>\n      <td>4.7</td>\n      <td>17350</td>\n      <td>8</td>\n      <td>2016</td>\n      <td>Non Fiction</td>\n    </tr>\n    <tr>\n      <th>1</th>\n      <td>11/22/63: A Novel</td>\n      <td>Stephen King</td>\n      <td>4.6</td>\n      <td>2052</td>\n      <td>22</td>\n      <td>2011</td>\n      <td>Fiction</td>\n    </tr>\n    <tr>\n      <th>2</th>\n      <td>12 Rules for Life: An Antidote to Chaos</td>\n      <td>Jordan B. Peterson</td>\n      <td>4.7</td>\n      <td>18979</td>\n      <td>15</td>\n      <td>2018</td>\n      <td>Non Fiction</td>\n    </tr>\n    <tr>\n      <th>3</th>\n      <td>1984 (Signet Classics)</td>\n      <td>George Orwell</td>\n      <td>4.7</td>\n      <td>21424</td>\n      <td>6</td>\n      <td>2017</td>\n      <td>Fiction</td>\n    </tr>\n    <tr>\n      <th>4</th>\n      <td>5,000 Awesome Facts (About Everything!) (Natio...</td>\n      <td>National Geographic Kids</td>\n      <td>4.8</td>\n      <td>7665</td>\n      <td>12</td>\n      <td>2019</td>\n      <td>Non Fiction</td>\n    </tr>\n  </tbody>\n</table>\n</div>"
     },
     "execution_count": 1,
     "metadata": {},
     "output_type": "execute_result"
    }
   ],
   "source": [
    "import pandas as pd\n",
    "import numpy as np\n",
    "inpDf = pd.read_csv('bestsellers with categories.csv')\n",
    "inpDf.head()"
   ]
  },
  {
   "cell_type": "code",
   "outputs": [
    {
     "data": {
      "text/plain": "(550, 7)"
     },
     "execution_count": 2,
     "metadata": {},
     "output_type": "execute_result"
    }
   ],
   "source": [
    "inpDf.shape"
   ],
   "metadata": {
    "collapsed": false,
    "ExecuteTime": {
     "end_time": "2024-02-21T23:24:09.749155Z",
     "start_time": "2024-02-21T23:24:09.737428Z"
    }
   },
   "id": "5e9f8d32c969fe65",
   "execution_count": 2
  },
  {
   "cell_type": "markdown",
   "source": [
    "Про скільки книг зберігає дані датасет?\n",
    "Відповідь: 550 книг, якщо припустити що не існує дуплікатів"
   ],
   "metadata": {
    "collapsed": false
   },
   "id": "7b6b9b62023333cd"
  },
  {
   "cell_type": "code",
   "outputs": [
    {
     "data": {
      "text/plain": "name           0\nauthor         0\nuser_rating    0\nreviews        0\nprice          0\nyear           0\ngenre          0\ndtype: int64"
     },
     "execution_count": 3,
     "metadata": {},
     "output_type": "execute_result"
    }
   ],
   "source": [
    "inpDf.columns = ['name', 'author', 'user_rating', 'reviews', 'price', 'year', 'genre']\n",
    "inpDf.isna().sum()"
   ],
   "metadata": {
    "collapsed": false,
    "ExecuteTime": {
     "end_time": "2024-02-22T19:30:05.694111Z",
     "start_time": "2024-02-22T19:30:05.638336Z"
    }
   },
   "id": "426c0dc8f9af9938",
   "execution_count": 3
  },
  {
   "cell_type": "markdown",
   "source": [
    "Чи є в якихось змінних пропуски?\n",
    "Відповідь: Ні"
   ],
   "metadata": {
    "collapsed": false
   },
   "id": "e46d83272e8e1f33"
  },
  {
   "cell_type": "code",
   "outputs": [
    {
     "data": {
      "text/plain": "array(['Non Fiction', 'Fiction'], dtype=object)"
     },
     "execution_count": 4,
     "metadata": {},
     "output_type": "execute_result"
    }
   ],
   "source": [
    "inpDf['genre'].unique()"
   ],
   "metadata": {
    "collapsed": false,
    "ExecuteTime": {
     "end_time": "2024-02-22T19:31:34.224335Z",
     "start_time": "2024-02-22T19:31:34.219325Z"
    }
   },
   "id": "5b5719ecfd9cff31",
   "execution_count": 4
  },
  {
   "cell_type": "markdown",
   "source": [
    "Які є унікальні жанри?\n",
    "Відповідь: Fiction, Non Fiction"
   ],
   "metadata": {
    "collapsed": false
   },
   "id": "1037ce691e21a7d2"
  },
  {
   "cell_type": "code",
   "outputs": [
    {
     "data": {
      "text/plain": "<Figure size 640x480 with 1 Axes>",
      "image/png": "[encoded data removed]"
     },
     "metadata": {},
     "output_type": "display_data"
    }
   ],
   "source": [
    "import matplotlib.pyplot as plt\n",
    "inpDf[['genre', 'price']].plot(kind='hist', x='genre', y='price')\n",
    "plt.show()"
   ],
   "metadata": {
    "collapsed": false,
    "ExecuteTime": {
     "end_time": "2024-02-22T22:50:31.877340Z",
     "start_time": "2024-02-22T22:50:31.734813Z"
    }
   },
   "id": "52d7a73ff41db77a",
   "execution_count": 15
  },
  {
   "cell_type": "code",
   "outputs": [
    {
     "data": {
      "text/plain": "(13.1, 11.0, 0, 105)"
     },
     "execution_count": 12,
     "metadata": {},
     "output_type": "execute_result"
    }
   ],
   "source": [
    "inpDf['price'].mean(), inpDf['price'].median(), inpDf['price'].min(), inpDf['price'].max()"
   ],
   "metadata": {
    "collapsed": false,
    "ExecuteTime": {
     "end_time": "2024-02-22T22:16:15.329184Z",
     "start_time": "2024-02-22T22:16:15.323822Z"
    }
   },
   "id": "a810ba59b27d5c1d",
   "execution_count": 12
  },
  {
   "cell_type": "markdown",
   "source": [
    "Максимальна ціна?\n",
    "Відповідь: 105\n",
    "Мінімальна ціна?\n",
    "Відповідь: 0\n",
    "Середня ціна?\n",
    "Відповідь: 13.1\n",
    "Медіанна ціна?\n",
    "Відповідь: 11"
   ],
   "metadata": {
    "collapsed": false
   },
   "id": "37515a5d8f295ab0"
  },
  {
   "cell_type": "code",
   "outputs": [
    {
     "data": {
      "text/plain": "(4.9, 52)"
     },
     "execution_count": 22,
     "metadata": {},
     "output_type": "execute_result"
    }
   ],
   "source": [
    "inpDf['user_rating'].max(), len(inpDf.loc[inpDf['user_rating'] == inpDf['user_rating'].max()])"
   ],
   "metadata": {
    "collapsed": false,
    "ExecuteTime": {
     "end_time": "2024-02-24T18:17:33.309553Z",
     "start_time": "2024-02-24T18:17:33.299627Z"
    }
   },
   "id": "8f63dc277ca604b0",
   "execution_count": 22
  },
  {
   "cell_type": "markdown",
   "source": [
    "Який рейтинг у датасеті найвищий?\n",
    "Відповідь: 4.9\n",
    "\n",
    "Скільки книг мають такий рейтинг?\n",
    "Відповідь: 52"
   ],
   "metadata": {
    "collapsed": false
   },
   "id": "da3693825f575351"
  },
  {
   "cell_type": "code",
   "outputs": [
    {
     "data": {
      "text/plain": "                        name       author  user_rating  reviews  price  year  \\\n534  Where the Crawdads Sing  Delia Owens          4.8    87841     15  2019   \n\n       genre  \n534  Fiction  ",
      "text/html": "<div>\n<style scoped>\n    .dataframe tbody tr th:only-of-type {\n        vertical-align: middle;\n    }\n\n    .dataframe tbody tr th {\n        vertical-align: top;\n    }\n\n    .dataframe thead th {\n        text-align: right;\n    }\n</style>\n<table border=\"1\" class=\"dataframe\">\n  <thead>\n    <tr style=\"text-align: right;\">\n      <th></th>\n      <th>name</th>\n      <th>author</th>\n      <th>user_rating</th>\n      <th>reviews</th>\n      <th>price</th>\n      <th>year</th>\n      <th>genre</th>\n    </tr>\n  </thead>\n  <tbody>\n    <tr>\n      <th>534</th>\n      <td>Where the Crawdads Sing</td>\n      <td>Delia Owens</td>\n      <td>4.8</td>\n      <td>87841</td>\n      <td>15</td>\n      <td>2019</td>\n      <td>Fiction</td>\n    </tr>\n  </tbody>\n</table>\n</div>"
     },
     "execution_count": 24,
     "metadata": {},
     "output_type": "execute_result"
    }
   ],
   "source": [
    "inpDf.loc[inpDf['reviews'] == inpDf['reviews'].max()]"
   ],
   "metadata": {
    "collapsed": false,
    "ExecuteTime": {
     "end_time": "2024-02-24T18:18:52.956423Z",
     "start_time": "2024-02-24T18:18:52.943761Z"
    }
   },
   "id": "a2698eed7668ce3e",
   "execution_count": 24
  },
  {
   "cell_type": "markdown",
   "source": [
    "Яка книга має найбільше відгуків?\n",
    "Відповідь: Where the Crawdads Sing"
   ],
   "metadata": {
    "collapsed": false
   },
   "id": "775894748663af42"
  },
  {
   "cell_type": "code",
   "outputs": [
    {
     "data": {
      "text/plain": "10.42"
     },
     "execution_count": 27,
     "metadata": {},
     "output_type": "execute_result"
    }
   ],
   "source": [
    "inpDf.loc[inpDf['year'] == 2015]['price'].mean()"
   ],
   "metadata": {
    "collapsed": false,
    "ExecuteTime": {
     "end_time": "2024-02-24T18:32:00.413734Z",
     "start_time": "2024-02-24T18:32:00.405098Z"
    }
   },
   "id": "31a44dec05c905d1",
   "execution_count": 27
  },
  {
   "cell_type": "markdown",
   "source": [
    "З тих книг, що потрапили до Топ-50 у 2015 році, яка книга найдорожча (можна використати проміжний датафрейм)? \n",
    "Відповідь: 10.42"
   ],
   "metadata": {
    "collapsed": false
   },
   "id": "a7e415700a9947c8"
  },
  {
   "cell_type": "code",
   "outputs": [
    {
     "data": {
      "text/plain": "20"
     },
     "execution_count": 32,
     "metadata": {},
     "output_type": "execute_result"
    }
   ],
   "source": [
    "len(inpDf.loc[(inpDf['year'] == 2010) & (inpDf['genre'] == 'Fiction')])"
   ],
   "metadata": {
    "collapsed": false,
    "ExecuteTime": {
     "end_time": "2024-02-24T18:35:01.260861Z",
     "start_time": "2024-02-24T18:35:01.257093Z"
    }
   },
   "id": "abf1c53131eca891",
   "execution_count": 32
  },
  {
   "cell_type": "markdown",
   "source": [
    "Скільки книг жанру Fiction потрапили до Топ-50 у 2010 році (використовуйте &)?\n",
    "Відповідь: 20"
   ],
   "metadata": {
    "collapsed": false
   },
   "id": "7f34abd6e8b96787"
  },
  {
   "cell_type": "code",
   "outputs": [
    {
     "data": {
      "text/plain": "1"
     },
     "execution_count": 37,
     "metadata": {},
     "output_type": "execute_result"
    }
   ],
   "source": [
    "len(inpDf.loc[(inpDf['year'].isin([2010, 2011]) & (inpDf['user_rating'] == 4.9))])"
   ],
   "metadata": {
    "collapsed": false,
    "ExecuteTime": {
     "end_time": "2024-02-24T18:41:38.807681Z",
     "start_time": "2024-02-24T18:41:38.802407Z"
    }
   },
   "id": "aebf273d84a73654",
   "execution_count": 37
  },
  {
   "cell_type": "markdown",
   "source": [
    "Скільки книг з рейтингом 4.9 потрапило до рейтингу у 2010 та 2011 роках (використовуйте | або функцію isin)?\n",
    "Відповідь: 1"
   ],
   "metadata": {
    "collapsed": false
   },
   "id": "4f74df32df2fa383"
  },
  {
   "cell_type": "code",
   "outputs": [
    {
     "data": {
      "text/plain": "                                                  name              author  \\\n507                              To Kill a Mockingbird          Harper Lee   \n210                      Laugh-Out-Loud Jokes for Kids         Rob Elliott   \n206                         Knock-Knock Jokes for Kids         Rob Elliott   \n111                                    First 100 Words        Roger Priddy   \n123                               Giraffes Can't Dance       Giles Andreae   \n54   Creative Haven Creative Cats Coloring Book (Ad...     Marjorie Sarnat   \n63                      Dear Zoo: A Lift-the-Flap Book        Rod Campbell   \n89   Dover Creative Haven Art Nouveau Animal Design...         Marty Noble   \n478                        The Very Hungry Caterpillar          Eric Carle   \n201  Killing Reagan: The Violent Assault That Chang...       Bill O'Reilly   \n28                        Baby Touch and Feel: Animals                  DK   \n224                                   Love You Forever       Robert Munsch   \n55   Creative Haven Owls Coloring Book (Adult Color...     Marjorie Sarnat   \n17      Adult Coloring Book: Stress Relieving Patterns  Blue Star Coloring   \n376  The Four Agreements: A Practical Guide to Pers...     Don Miguel Ruiz   \n16   Adult Coloring Book: Stress Relieving Animal D...  Blue Star Coloring   \n253              Old School (Diary of a Wimpy Kid #10)         Jeff Kinney   \n\n     user_rating  reviews  price  year        genre  \n507          4.8    26234      0  2015      Fiction  \n210          4.6     6990      4  2015  Non Fiction  \n206          4.5     3673      4  2015  Non Fiction  \n111          4.7    17323      4  2015  Non Fiction  \n123          4.8    14038      4  2015      Fiction  \n54           4.8     4022      4  2015  Non Fiction  \n63           4.8    10922      5  2015      Fiction  \n89           4.6     2134      5  2015  Non Fiction  \n478          4.9    19546      5  2015      Fiction  \n201          4.6     5235      5  2015  Non Fiction  \n28           4.6     5360      5  2015  Non Fiction  \n224          4.8    18613      5  2015      Fiction  \n55           4.8     3871      5  2015  Non Fiction  \n17           4.4     2951      6  2015  Non Fiction  \n376          4.7    23308      6  2015  Non Fiction  \n16           4.6     2925      6  2015  Non Fiction  \n253          4.8     6169      7  2015      Fiction  ",
      "text/html": "<div>\n<style scoped>\n    .dataframe tbody tr th:only-of-type {\n        vertical-align: middle;\n    }\n\n    .dataframe tbody tr th {\n        vertical-align: top;\n    }\n\n    .dataframe thead th {\n        text-align: right;\n    }\n</style>\n<table border=\"1\" class=\"dataframe\">\n  <thead>\n    <tr style=\"text-align: right;\">\n      <th></th>\n      <th>name</th>\n      <th>author</th>\n      <th>user_rating</th>\n      <th>reviews</th>\n      <th>price</th>\n      <th>year</th>\n      <th>genre</th>\n    </tr>\n  </thead>\n  <tbody>\n    <tr>\n      <th>507</th>\n      <td>To Kill a Mockingbird</td>\n      <td>Harper Lee</td>\n      <td>4.8</td>\n      <td>26234</td>\n      <td>0</td>\n      <td>2015</td>\n      <td>Fiction</td>\n    </tr>\n    <tr>\n      <th>210</th>\n      <td>Laugh-Out-Loud Jokes for Kids</td>\n      <td>Rob Elliott</td>\n      <td>4.6</td>\n      <td>6990</td>\n      <td>4</td>\n      <td>2015</td>\n      <td>Non Fiction</td>\n    </tr>\n    <tr>\n      <th>206</th>\n      <td>Knock-Knock Jokes for Kids</td>\n      <td>Rob Elliott</td>\n      <td>4.5</td>\n      <td>3673</td>\n      <td>4</td>\n      <td>2015</td>\n      <td>Non Fiction</td>\n    </tr>\n    <tr>\n      <th>111</th>\n      <td>First 100 Words</td>\n      <td>Roger Priddy</td>\n      <td>4.7</td>\n      <td>17323</td>\n      <td>4</td>\n      <td>2015</td>\n      <td>Non Fiction</td>\n    </tr>\n    <tr>\n      <th>123</th>\n      <td>Giraffes Can't Dance</td>\n      <td>Giles Andreae</td>\n      <td>4.8</td>\n      <td>14038</td>\n      <td>4</td>\n      <td>2015</td>\n      <td>Fiction</td>\n    </tr>\n    <tr>\n      <th>54</th>\n      <td>Creative Haven Creative Cats Coloring Book (Ad...</td>\n      <td>Marjorie Sarnat</td>\n      <td>4.8</td>\n      <td>4022</td>\n      <td>4</td>\n      <td>2015</td>\n      <td>Non Fiction</td>\n    </tr>\n    <tr>\n      <th>63</th>\n      <td>Dear Zoo: A Lift-the-Flap Book</td>\n      <td>Rod Campbell</td>\n      <td>4.8</td>\n      <td>10922</td>\n      <td>5</td>\n      <td>2015</td>\n      <td>Fiction</td>\n    </tr>\n    <tr>\n      <th>89</th>\n      <td>Dover Creative Haven Art Nouveau Animal Design...</td>\n      <td>Marty Noble</td>\n      <td>4.6</td>\n      <td>2134</td>\n      <td>5</td>\n      <td>2015</td>\n      <td>Non Fiction</td>\n    </tr>\n    <tr>\n      <th>478</th>\n      <td>The Very Hungry Caterpillar</td>\n      <td>Eric Carle</td>\n      <td>4.9</td>\n      <td>19546</td>\n      <td>5</td>\n      <td>2015</td>\n      <td>Fiction</td>\n    </tr>\n    <tr>\n      <th>201</th>\n      <td>Killing Reagan: The Violent Assault That Chang...</td>\n      <td>Bill O'Reilly</td>\n      <td>4.6</td>\n      <td>5235</td>\n      <td>5</td>\n      <td>2015</td>\n      <td>Non Fiction</td>\n    </tr>\n    <tr>\n      <th>28</th>\n      <td>Baby Touch and Feel: Animals</td>\n      <td>DK</td>\n      <td>4.6</td>\n      <td>5360</td>\n      <td>5</td>\n      <td>2015</td>\n      <td>Non Fiction</td>\n    </tr>\n    <tr>\n      <th>224</th>\n      <td>Love You Forever</td>\n      <td>Robert Munsch</td>\n      <td>4.8</td>\n      <td>18613</td>\n      <td>5</td>\n      <td>2015</td>\n      <td>Fiction</td>\n    </tr>\n    <tr>\n      <th>55</th>\n      <td>Creative Haven Owls Coloring Book (Adult Color...</td>\n      <td>Marjorie Sarnat</td>\n      <td>4.8</td>\n      <td>3871</td>\n      <td>5</td>\n      <td>2015</td>\n      <td>Non Fiction</td>\n    </tr>\n    <tr>\n      <th>17</th>\n      <td>Adult Coloring Book: Stress Relieving Patterns</td>\n      <td>Blue Star Coloring</td>\n      <td>4.4</td>\n      <td>2951</td>\n      <td>6</td>\n      <td>2015</td>\n      <td>Non Fiction</td>\n    </tr>\n    <tr>\n      <th>376</th>\n      <td>The Four Agreements: A Practical Guide to Pers...</td>\n      <td>Don Miguel Ruiz</td>\n      <td>4.7</td>\n      <td>23308</td>\n      <td>6</td>\n      <td>2015</td>\n      <td>Non Fiction</td>\n    </tr>\n    <tr>\n      <th>16</th>\n      <td>Adult Coloring Book: Stress Relieving Animal D...</td>\n      <td>Blue Star Coloring</td>\n      <td>4.6</td>\n      <td>2925</td>\n      <td>6</td>\n      <td>2015</td>\n      <td>Non Fiction</td>\n    </tr>\n    <tr>\n      <th>253</th>\n      <td>Old School (Diary of a Wimpy Kid #10)</td>\n      <td>Jeff Kinney</td>\n      <td>4.8</td>\n      <td>6169</td>\n      <td>7</td>\n      <td>2015</td>\n      <td>Fiction</td>\n    </tr>\n  </tbody>\n</table>\n</div>"
     },
     "execution_count": 41,
     "metadata": {},
     "output_type": "execute_result"
    }
   ],
   "source": [
    "inpDf.loc[(inpDf['year'] == 2015) & (inpDf['price'] < 8)].sort_values(by='price')"
   ],
   "metadata": {
    "collapsed": false,
    "ExecuteTime": {
     "end_time": "2024-02-24T18:48:42.820296Z",
     "start_time": "2024-02-24T18:48:42.789519Z"
    }
   },
   "id": "6dd34eddc1f7db9d",
   "execution_count": 41
  },
  {
   "cell_type": "markdown",
   "source": [
    "Яка книга остання у відсортованому списку? \n",
    "Відповідь: Old School (Diary of a Wimpy Kid #10)"
   ],
   "metadata": {
    "collapsed": false
   },
   "id": "a82777e28177f6f6"
  },
  {
   "cell_type": "markdown",
   "source": [
    "Агрегування даних та з'єднання таблиць"
   ],
   "metadata": {
    "collapsed": false
   },
   "id": "61e65858f4bb852"
  },
  {
   "cell_type": "code",
   "outputs": [
    {
     "data": {
      "text/plain": "             min  max\ngenre                \nFiction        0   82\nNon Fiction    0  105",
      "text/html": "<div>\n<style scoped>\n    .dataframe tbody tr th:only-of-type {\n        vertical-align: middle;\n    }\n\n    .dataframe tbody tr th {\n        vertical-align: top;\n    }\n\n    .dataframe thead th {\n        text-align: right;\n    }\n</style>\n<table border=\"1\" class=\"dataframe\">\n  <thead>\n    <tr style=\"text-align: right;\">\n      <th></th>\n      <th>min</th>\n      <th>max</th>\n    </tr>\n    <tr>\n      <th>genre</th>\n      <th></th>\n      <th></th>\n    </tr>\n  </thead>\n  <tbody>\n    <tr>\n      <th>Fiction</th>\n      <td>0</td>\n      <td>82</td>\n    </tr>\n    <tr>\n      <th>Non Fiction</th>\n      <td>0</td>\n      <td>105</td>\n    </tr>\n  </tbody>\n</table>\n</div>"
     },
     "execution_count": 49,
     "metadata": {},
     "output_type": "execute_result"
    }
   ],
   "source": [
    "inpDf.groupby('genre')['price'].agg(['min', 'max'])"
   ],
   "metadata": {
    "collapsed": false,
    "ExecuteTime": {
     "end_time": "2024-02-24T22:23:19.676899Z",
     "start_time": "2024-02-24T22:23:19.669763Z"
    }
   },
   "id": "1d28b48a599fef7d",
   "execution_count": 49
  },
  {
   "cell_type": "markdown",
   "source": [
    "Максимальна ціна для жанру Fiction\n",
    "Відповідь: 82\n",
    "Мінімальна ціна для жанру Fiction\n",
    "Відповідь: 0\n",
    "Максимальна ціна для жанру Non Fiction\n",
    "Відповідь: 105\n",
    "Мінімальна ціна для жанру Non Fiction\n",
    "Відповідь: 0"
   ],
   "metadata": {
    "collapsed": false
   },
   "id": "c6ec67c2faad90fb"
  },
  {
   "cell_type": "code",
   "outputs": [
    {
     "data": {
      "text/plain": "(248, 1)"
     },
     "execution_count": 66,
     "metadata": {},
     "output_type": "execute_result"
    }
   ],
   "source": [
    "# newDf = inpDf.groupby('author')['name'].count()\n",
    "newDf = inpDf.groupby('author')['name'].agg(['count'])\n",
    "newDf.shape"
   ],
   "metadata": {
    "collapsed": false,
    "ExecuteTime": {
     "end_time": "2024-02-24T22:34:59.187686Z",
     "start_time": "2024-02-24T22:34:59.180318Z"
    }
   },
   "id": "3cb8e02d1a31ab69",
   "execution_count": 66
  },
  {
   "cell_type": "markdown",
   "source": [
    "Якої розмірності вийшла таблиця? \n",
    "Відповідь: 248 рядків та 1 стовпець"
   ],
   "metadata": {
    "collapsed": false
   },
   "id": "1491967daf07fa3e"
  },
  {
   "cell_type": "code",
   "outputs": [
    {
     "data": {
      "text/plain": "             count\nauthor            \nJeff Kinney     12",
      "text/html": "<div>\n<style scoped>\n    .dataframe tbody tr th:only-of-type {\n        vertical-align: middle;\n    }\n\n    .dataframe tbody tr th {\n        vertical-align: top;\n    }\n\n    .dataframe thead th {\n        text-align: right;\n    }\n</style>\n<table border=\"1\" class=\"dataframe\">\n  <thead>\n    <tr style=\"text-align: right;\">\n      <th></th>\n      <th>count</th>\n    </tr>\n    <tr>\n      <th>author</th>\n      <th></th>\n    </tr>\n  </thead>\n  <tbody>\n    <tr>\n      <th>Jeff Kinney</th>\n      <td>12</td>\n    </tr>\n  </tbody>\n</table>\n</div>"
     },
     "execution_count": 67,
     "metadata": {},
     "output_type": "execute_result"
    }
   ],
   "source": [
    "newDf.loc[newDf['count'] == newDf['count'].max()]"
   ],
   "metadata": {
    "collapsed": false,
    "ExecuteTime": {
     "end_time": "2024-02-24T22:35:53.431277Z",
     "start_time": "2024-02-24T22:35:53.423486Z"
    }
   },
   "id": "49300653911a37aa",
   "execution_count": 67
  },
  {
   "cell_type": "markdown",
   "source": [
    "Який автор має найбільше книг? \n",
    "Відповідь: Jeff Kinney\n",
    "Скільки книг цього автора? \n",
    "Відповідь: 12"
   ],
   "metadata": {
    "collapsed": false
   },
   "id": "edfb8ea5c313d457"
  },
  {
   "cell_type": "code",
   "outputs": [
    {
     "data": {
      "text/plain": "             mean\nauthor           \nDonna Tartt   3.9",
      "text/html": "<div>\n<style scoped>\n    .dataframe tbody tr th:only-of-type {\n        vertical-align: middle;\n    }\n\n    .dataframe tbody tr th {\n        vertical-align: top;\n    }\n\n    .dataframe thead th {\n        text-align: right;\n    }\n</style>\n<table border=\"1\" class=\"dataframe\">\n  <thead>\n    <tr style=\"text-align: right;\">\n      <th></th>\n      <th>mean</th>\n    </tr>\n    <tr>\n      <th>author</th>\n      <th></th>\n    </tr>\n  </thead>\n  <tbody>\n    <tr>\n      <th>Donna Tartt</th>\n      <td>3.9</td>\n    </tr>\n  </tbody>\n</table>\n</div>"
     },
     "execution_count": 69,
     "metadata": {},
     "output_type": "execute_result"
    }
   ],
   "source": [
    "newDf2 = inpDf.groupby('author')['user_rating'].agg(['mean'])\n",
    "newDf2.loc[newDf2['mean'] == newDf2['mean'].min()]"
   ],
   "metadata": {
    "collapsed": false,
    "ExecuteTime": {
     "end_time": "2024-02-24T22:40:30.724477Z",
     "start_time": "2024-02-24T22:40:30.715353Z"
    }
   },
   "id": "e67cb96817e84eec",
   "execution_count": 69
  },
  {
   "cell_type": "markdown",
   "source": [
    "У якого автора середній рейтинг мінімальний? \n",
    "Відповідь: Donna Tartt\n",
    "Який у цього автора середній рейтинг? \n",
    "Відповідь: 3.9"
   ],
   "metadata": {
    "collapsed": false
   },
   "id": "e2fcb3449be2c794"
  },
  {
   "cell_type": "code",
   "outputs": [
    {
     "data": {
      "text/plain": "                                    count      mean\nauthor                                             \nMuriel Barbery                          1  4.000000\nChris Cleave                            1  4.100000\nIan K. Smith M.D.                       1  4.100000\nPierre Dukan                            1  4.100000\nElizabeth Strout                        1  4.200000\n...                                   ...       ...\nAmerican Psychological Association     10  4.500000\nSuzanne Collins                        11  4.663636\nGary Chapman                           11  4.736364\nRick Riordan                           11  4.772727\nJeff Kinney                            12  4.800000\n\n[248 rows x 2 columns]",
      "text/html": "<div>\n<style scoped>\n    .dataframe tbody tr th:only-of-type {\n        vertical-align: middle;\n    }\n\n    .dataframe tbody tr th {\n        vertical-align: top;\n    }\n\n    .dataframe thead th {\n        text-align: right;\n    }\n</style>\n<table border=\"1\" class=\"dataframe\">\n  <thead>\n    <tr style=\"text-align: right;\">\n      <th></th>\n      <th>count</th>\n      <th>mean</th>\n    </tr>\n    <tr>\n      <th>author</th>\n      <th></th>\n      <th></th>\n    </tr>\n  </thead>\n  <tbody>\n    <tr>\n      <th>Muriel Barbery</th>\n      <td>1</td>\n      <td>4.000000</td>\n    </tr>\n    <tr>\n      <th>Chris Cleave</th>\n      <td>1</td>\n      <td>4.100000</td>\n    </tr>\n    <tr>\n      <th>Ian K. Smith M.D.</th>\n      <td>1</td>\n      <td>4.100000</td>\n    </tr>\n    <tr>\n      <th>Pierre Dukan</th>\n      <td>1</td>\n      <td>4.100000</td>\n    </tr>\n    <tr>\n      <th>Elizabeth Strout</th>\n      <td>1</td>\n      <td>4.200000</td>\n    </tr>\n    <tr>\n      <th>...</th>\n      <td>...</td>\n      <td>...</td>\n    </tr>\n    <tr>\n      <th>American Psychological Association</th>\n      <td>10</td>\n      <td>4.500000</td>\n    </tr>\n    <tr>\n      <th>Suzanne Collins</th>\n      <td>11</td>\n      <td>4.663636</td>\n    </tr>\n    <tr>\n      <th>Gary Chapman</th>\n      <td>11</td>\n      <td>4.736364</td>\n    </tr>\n    <tr>\n      <th>Rick Riordan</th>\n      <td>11</td>\n      <td>4.772727</td>\n    </tr>\n    <tr>\n      <th>Jeff Kinney</th>\n      <td>12</td>\n      <td>4.800000</td>\n    </tr>\n  </tbody>\n</table>\n<p>248 rows × 2 columns</p>\n</div>"
     },
     "execution_count": 78,
     "metadata": {},
     "output_type": "execute_result"
    }
   ],
   "source": [
    "newDf3 = pd.concat([newDf, newDf2], axis=1)\n",
    "newDf3.sort_values(by=['count', 'mean'], inplace=True)\n",
    "newDf3"
   ],
   "metadata": {
    "collapsed": false,
    "ExecuteTime": {
     "end_time": "2024-02-24T22:51:42.660542Z",
     "start_time": "2024-02-24T22:51:42.654824Z"
    }
   },
   "id": "327534cde32f7606",
   "execution_count": 78
  },
  {
   "cell_type": "markdown",
   "source": [
    "Який автор перший у списку?\n",
    "Відповідь: Muriel Barbery"
   ],
   "metadata": {
    "collapsed": false
   },
   "id": "41c34327989b4cf0"
  }
 ],
 "metadata": {
  "kernelspec": {
   "display_name": "Python 3",
   "language": "python",
   "name": "python3"
  },
  "language_info": {
   "codemirror_mode": {
    "name": "ipython",
    "version": 2
   },
   "file_extension": ".py",
   "mimetype": "text/x-python",
   "name": "python",
   "nbconvert_exporter": "python",
   "pygments_lexer": "ipython2",
   "version": "2.7.6"
  }
 },
 "nbformat": 4,
 "nbformat_minor": 5
}
