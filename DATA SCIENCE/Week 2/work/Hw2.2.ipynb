{
 "cells": [
  {
   "cell_type": "code",
   "execution_count": 31,
   "id": "initial_id",
   "metadata": {
    "collapsed": true,
    "ExecuteTime": {
     "end_time": "2024-02-20T22:38:21.012815Z",
     "start_time": "2024-02-20T22:38:20.943452Z"
    }
   },
   "outputs": [
    {
     "data": {
      "text/plain": "   N                    Посада Мова програмування Спеціалізація  \\\n0  1        Junior QA engineer                NaN     Manual QA   \n1  2        Junior QA engineer                NaN     Manual QA   \n2  3         Software Engineer            C#/.NET           NaN   \n3  4         Software Engineer         JavaScript           NaN   \n4  5  Senior Software Engineer         JavaScript           NaN   \n\n  Загальний досвід роботи Досвід роботи на поточному місці  \\\n0                     0.5                              0.5   \n1         менше 3 місяців                  менше 3 місяців   \n2                       4                                1   \n3                       5                                4   \n4       10 і більше років                              0.5   \n\n   Зарплата на місяць  Зміна зарплати за 12 місяців   Місто   Розмір компанії  \\\n0                 400                             0  Харків        до 10 осіб   \n1                 430                           130  Харків  більше 1000 осіб   \n2                2500                           800    Київ      до 1000 осіб   \n3                2000                           400   Одеса       до 200 осіб   \n4                4500                           500    Інше        до 10 осіб   \n\n   ... Ще студент                    Рівень англійської  \\\n0  ...       True    Pre-intermediate (нище середнього)   \n1  ...       True  Upper-Intermediate (вище середнього)   \n2  ...      False               Intermediate (середній)   \n3  ...      False    Pre-intermediate (нище середнього)   \n4  ...      False               Intermediate (середній)   \n\n                   Предметна область      Дата заповнення  \\\n0                      iOS,eCommerce  12/06/2017 12:38:08   \n1                       Веб-розробка  12/06/2017 12:42:51   \n2  Веб-розробка,Корпоративні системи  12/06/2017 13:02:47   \n3  Desktop Applications,Веб-розробка  12/06/2017 13:03:01   \n4  Desktop Applications,Веб-розробка  12/06/2017 13:03:47   \n\n                                          User.Agent   exp current_job_exp  \\\n0  Mozilla/5.0 (Windows NT 10.0; Win64; x64) Appl...   0.5             0.5   \n1  Mozilla/5.0 (iPad; CPU OS 10_2_1 like Mac OS X...   0.0             0.0   \n2  Mozilla/5.0 (Windows NT 10.0; Win64; x64) Appl...   4.0             1.0   \n3  Mozilla/5.0 (Windows NT 6.1; Win64; x64) Apple...   5.0             4.0   \n4  Mozilla/5.0 (iPhone; CPU iPhone OS 10_3_2 like...  10.0             0.5   \n\n  salary Валюта  cls  \n0    400    NaN   QA  \n1    430    NaN   QA  \n2   2500    NaN  DEV  \n3   2000    NaN  DEV  \n4   4500    NaN  DEV  \n\n[5 rows x 25 columns]",
      "text/html": "<div>\n<style scoped>\n    .dataframe tbody tr th:only-of-type {\n        vertical-align: middle;\n    }\n\n    .dataframe tbody tr th {\n        vertical-align: top;\n    }\n\n    .dataframe thead th {\n        text-align: right;\n    }\n</style>\n<table border=\"1\" class=\"dataframe\">\n  <thead>\n    <tr style=\"text-align: right;\">\n      <th></th>\n      <th>N</th>\n      <th>Посада</th>\n      <th>Мова програмування</th>\n      <th>Спеціалізація</th>\n      <th>Загальний досвід роботи</th>\n      <th>Досвід роботи на поточному місці</th>\n      <th>Зарплата на місяць</th>\n      <th>Зміна зарплати за 12 місяців</th>\n      <th>Місто</th>\n      <th>Розмір компанії</th>\n      <th>...</th>\n      <th>Ще студент</th>\n      <th>Рівень англійської</th>\n      <th>Предметна область</th>\n      <th>Дата заповнення</th>\n      <th>User.Agent</th>\n      <th>exp</th>\n      <th>current_job_exp</th>\n      <th>salary</th>\n      <th>Валюта</th>\n      <th>cls</th>\n    </tr>\n  </thead>\n  <tbody>\n    <tr>\n      <th>0</th>\n      <td>1</td>\n      <td>Junior QA engineer</td>\n      <td>NaN</td>\n      <td>Manual QA</td>\n      <td>0.5</td>\n      <td>0.5</td>\n      <td>400</td>\n      <td>0</td>\n      <td>Харків</td>\n      <td>до 10 осіб</td>\n      <td>...</td>\n      <td>True</td>\n      <td>Pre-intermediate (нище середнього)</td>\n      <td>iOS,eCommerce</td>\n      <td>12/06/2017 12:38:08</td>\n      <td>Mozilla/5.0 (Windows NT 10.0; Win64; x64) Appl...</td>\n      <td>0.5</td>\n      <td>0.5</td>\n      <td>400</td>\n      <td>NaN</td>\n      <td>QA</td>\n    </tr>\n    <tr>\n      <th>1</th>\n      <td>2</td>\n      <td>Junior QA engineer</td>\n      <td>NaN</td>\n      <td>Manual QA</td>\n      <td>менше 3 місяців</td>\n      <td>менше 3 місяців</td>\n      <td>430</td>\n      <td>130</td>\n      <td>Харків</td>\n      <td>більше 1000 осіб</td>\n      <td>...</td>\n      <td>True</td>\n      <td>Upper-Intermediate (вище середнього)</td>\n      <td>Веб-розробка</td>\n      <td>12/06/2017 12:42:51</td>\n      <td>Mozilla/5.0 (iPad; CPU OS 10_2_1 like Mac OS X...</td>\n      <td>0.0</td>\n      <td>0.0</td>\n      <td>430</td>\n      <td>NaN</td>\n      <td>QA</td>\n    </tr>\n    <tr>\n      <th>2</th>\n      <td>3</td>\n      <td>Software Engineer</td>\n      <td>C#/.NET</td>\n      <td>NaN</td>\n      <td>4</td>\n      <td>1</td>\n      <td>2500</td>\n      <td>800</td>\n      <td>Київ</td>\n      <td>до 1000 осіб</td>\n      <td>...</td>\n      <td>False</td>\n      <td>Intermediate (середній)</td>\n      <td>Веб-розробка,Корпоративні системи</td>\n      <td>12/06/2017 13:02:47</td>\n      <td>Mozilla/5.0 (Windows NT 10.0; Win64; x64) Appl...</td>\n      <td>4.0</td>\n      <td>1.0</td>\n      <td>2500</td>\n      <td>NaN</td>\n      <td>DEV</td>\n    </tr>\n    <tr>\n      <th>3</th>\n      <td>4</td>\n      <td>Software Engineer</td>\n      <td>JavaScript</td>\n      <td>NaN</td>\n      <td>5</td>\n      <td>4</td>\n      <td>2000</td>\n      <td>400</td>\n      <td>Одеса</td>\n      <td>до 200 осіб</td>\n      <td>...</td>\n      <td>False</td>\n      <td>Pre-intermediate (нище середнього)</td>\n      <td>Desktop Applications,Веб-розробка</td>\n      <td>12/06/2017 13:03:01</td>\n      <td>Mozilla/5.0 (Windows NT 6.1; Win64; x64) Apple...</td>\n      <td>5.0</td>\n      <td>4.0</td>\n      <td>2000</td>\n      <td>NaN</td>\n      <td>DEV</td>\n    </tr>\n    <tr>\n      <th>4</th>\n      <td>5</td>\n      <td>Senior Software Engineer</td>\n      <td>JavaScript</td>\n      <td>NaN</td>\n      <td>10 і більше років</td>\n      <td>0.5</td>\n      <td>4500</td>\n      <td>500</td>\n      <td>Інше</td>\n      <td>до 10 осіб</td>\n      <td>...</td>\n      <td>False</td>\n      <td>Intermediate (середній)</td>\n      <td>Desktop Applications,Веб-розробка</td>\n      <td>12/06/2017 13:03:47</td>\n      <td>Mozilla/5.0 (iPhone; CPU iPhone OS 10_3_2 like...</td>\n      <td>10.0</td>\n      <td>0.5</td>\n      <td>4500</td>\n      <td>NaN</td>\n      <td>DEV</td>\n    </tr>\n  </tbody>\n</table>\n<p>5 rows × 25 columns</p>\n</div>"
     },
     "execution_count": 31,
     "metadata": {},
     "output_type": "execute_result"
    }
   ],
   "source": [
    "import pandas as pd\n",
    "import numpy as np\n",
    "\n",
    "inpDf = pd.read_csv('2017_jun_final - 2017_jun_final.csv')\n",
    "inpDf.head()"
   ]
  },
  {
   "cell_type": "code",
   "outputs": [
    {
     "data": {
      "text/plain": "(8704, 25)"
     },
     "execution_count": 32,
     "metadata": {},
     "output_type": "execute_result"
    }
   ],
   "source": [
    "inpDf.shape"
   ],
   "metadata": {
    "collapsed": false,
    "ExecuteTime": {
     "end_time": "2024-02-20T22:38:22.803095Z",
     "start_time": "2024-02-20T22:38:22.800461Z"
    }
   },
   "id": "eed76faa68068d9a",
   "execution_count": 32
  },
  {
   "cell_type": "code",
   "outputs": [
    {
     "data": {
      "text/plain": "N                                      0\nПосада                                 0\nМова програмування                  3850\nСпеціалізація                       7219\nЗагальний досвід роботи                0\nДосвід роботи на поточному місці       0\nЗарплата на місяць                     0\nЗміна зарплати за 12 місяців           0\nМісто                                  0\nРозмір компанії                        0\nТип компанії                           0\nСтать                                  0\nВік                                    0\nОсвіта                                 0\nУніверситет                          358\nЩе студент                             0\nРівень англійської                     0\nПредметна область                    223\nДата заповнення                        0\nUser.Agent                             0\nexp                                    0\ncurrent_job_exp                        0\nsalary                                 0\nВалюта                              8694\ncls                                 1574\ndtype: int64"
     },
     "execution_count": 33,
     "metadata": {},
     "output_type": "execute_result"
    }
   ],
   "source": [
    "inpDf.isnull().sum()"
   ],
   "metadata": {
    "collapsed": false,
    "ExecuteTime": {
     "end_time": "2024-02-20T22:38:24.387151Z",
     "start_time": "2024-02-20T22:38:24.378914Z"
    }
   },
   "id": "cf9b3500f52b4f9d",
   "execution_count": 33
  },
  {
   "cell_type": "code",
   "outputs": [
    {
     "data": {
      "text/plain": "N                                      0\nПосада                                 0\nМова програмування                  3850\nЗагальний досвід роботи                0\nДосвід роботи на поточному місці       0\nЗарплата на місяць                     0\nЗміна зарплати за 12 місяців           0\nМісто                                  0\nРозмір компанії                        0\nТип компанії                           0\nСтать                                  0\nВік                                    0\nОсвіта                                 0\nЩе студент                             0\nРівень англійської                     0\nДата заповнення                        0\nUser.Agent                             0\nexp                                    0\ncurrent_job_exp                        0\nsalary                                 0\ndtype: int64"
     },
     "execution_count": 86,
     "metadata": {},
     "output_type": "execute_result"
    }
   ],
   "source": [
    "newDf = inpDf.drop(inpDf.columns[(inpDf.isnull().sum() != 0) & (inpDf.columns != 'Мова програмування')].tolist(), axis=1)\n",
    "newDf.isnull().sum()"
   ],
   "metadata": {
    "collapsed": false,
    "ExecuteTime": {
     "end_time": "2024-02-20T23:44:20.345513Z",
     "start_time": "2024-02-20T23:44:20.318537Z"
    }
   },
   "id": "a13fc89c4ead990d",
   "execution_count": 86
  },
  {
   "cell_type": "code",
   "outputs": [
    {
     "data": {
      "text/plain": "(4854, 20)"
     },
     "execution_count": 90,
     "metadata": {},
     "output_type": "execute_result"
    }
   ],
   "source": [
    "newDf.dropna(inplace=True)\n",
    "newDf.shape"
   ],
   "metadata": {
    "collapsed": false,
    "ExecuteTime": {
     "end_time": "2024-02-20T23:45:22.258611Z",
     "start_time": "2024-02-20T23:45:22.255565Z"
    }
   },
   "id": "baafe8bfa2d53571",
   "execution_count": 90
  },
  {
   "cell_type": "code",
   "outputs": [
    {
     "data": {
      "text/plain": "(207, 20)"
     },
     "execution_count": 92,
     "metadata": {},
     "output_type": "execute_result"
    }
   ],
   "source": [
    "python_data = newDf.loc[newDf['Мова програмування'] == 'Python']\n",
    "python_data.shape"
   ],
   "metadata": {
    "collapsed": false,
    "ExecuteTime": {
     "end_time": "2024-02-20T23:46:03.366884Z",
     "start_time": "2024-02-20T23:46:03.363974Z"
    }
   },
   "id": "2bb989eb037000f8",
   "execution_count": 92
  },
  {
   "cell_type": "code",
   "outputs": [
    {
     "data": {
      "text/plain": "<pandas.core.groupby.generic.DataFrameGroupBy object at 0x14b079ad0>"
     },
     "execution_count": 101,
     "metadata": {},
     "output_type": "execute_result"
    }
   ],
   "source": [
    "python_data.groupby(by='Посада')"
   ],
   "metadata": {
    "collapsed": false,
    "ExecuteTime": {
     "end_time": "2024-02-21T22:55:51.205468Z",
     "start_time": "2024-02-21T22:55:51.199102Z"
    }
   },
   "id": "4d50f0db4ab03d07",
   "execution_count": 101
  },
  {
   "cell_type": "code",
   "outputs": [
    {
     "data": {
      "text/plain": "                           min   max\nПосада                              \nJunior Software Engineer   100  1250\nSenior Software Engineer  1300  9200\nSoftware Engineer          500  5400\nSystem Architect          3000  5000\nTechnical Lead            1425  6200",
      "text/html": "<div>\n<style scoped>\n    .dataframe tbody tr th:only-of-type {\n        vertical-align: middle;\n    }\n\n    .dataframe tbody tr th {\n        vertical-align: top;\n    }\n\n    .dataframe thead th {\n        text-align: right;\n    }\n</style>\n<table border=\"1\" class=\"dataframe\">\n  <thead>\n    <tr style=\"text-align: right;\">\n      <th></th>\n      <th>min</th>\n      <th>max</th>\n    </tr>\n    <tr>\n      <th>Посада</th>\n      <th></th>\n      <th></th>\n    </tr>\n  </thead>\n  <tbody>\n    <tr>\n      <th>Junior Software Engineer</th>\n      <td>100</td>\n      <td>1250</td>\n    </tr>\n    <tr>\n      <th>Senior Software Engineer</th>\n      <td>1300</td>\n      <td>9200</td>\n    </tr>\n    <tr>\n      <th>Software Engineer</th>\n      <td>500</td>\n      <td>5400</td>\n    </tr>\n    <tr>\n      <th>System Architect</th>\n      <td>3000</td>\n      <td>5000</td>\n    </tr>\n    <tr>\n      <th>Technical Lead</th>\n      <td>1425</td>\n      <td>6200</td>\n    </tr>\n  </tbody>\n</table>\n</div>"
     },
     "execution_count": 120,
     "metadata": {},
     "output_type": "execute_result"
    }
   ],
   "source": [
    "new_df = python_data.groupby(by='Посада')\n",
    "new_df = new_df['Зарплата на місяць'].agg(['min','max'])\n",
    "new_df"
   ],
   "metadata": {
    "collapsed": false,
    "ExecuteTime": {
     "end_time": "2024-02-21T23:15:00.531480Z",
     "start_time": "2024-02-21T23:15:00.520143Z"
    }
   },
   "id": "4515afe76930cfb1",
   "execution_count": 120
  },
  {
   "cell_type": "code",
   "outputs": [
    {
     "data": {
      "text/plain": "                           min   max      avg\nПосада                                       \nJunior Software Engineer   100  1250   560.84\nSenior Software Engineer  1300  9200  3387.10\nSoftware Engineer          500  5400  1799.07\nSystem Architect          3000  5000  4000.00\nTechnical Lead            1425  6200  3165.91",
      "text/html": "<div>\n<style scoped>\n    .dataframe tbody tr th:only-of-type {\n        vertical-align: middle;\n    }\n\n    .dataframe tbody tr th {\n        vertical-align: top;\n    }\n\n    .dataframe thead th {\n        text-align: right;\n    }\n</style>\n<table border=\"1\" class=\"dataframe\">\n  <thead>\n    <tr style=\"text-align: right;\">\n      <th></th>\n      <th>min</th>\n      <th>max</th>\n      <th>avg</th>\n    </tr>\n    <tr>\n      <th>Посада</th>\n      <th></th>\n      <th></th>\n      <th></th>\n    </tr>\n  </thead>\n  <tbody>\n    <tr>\n      <th>Junior Software Engineer</th>\n      <td>100</td>\n      <td>1250</td>\n      <td>560.84</td>\n    </tr>\n    <tr>\n      <th>Senior Software Engineer</th>\n      <td>1300</td>\n      <td>9200</td>\n      <td>3387.10</td>\n    </tr>\n    <tr>\n      <th>Software Engineer</th>\n      <td>500</td>\n      <td>5400</td>\n      <td>1799.07</td>\n    </tr>\n    <tr>\n      <th>System Architect</th>\n      <td>3000</td>\n      <td>5000</td>\n      <td>4000.00</td>\n    </tr>\n    <tr>\n      <th>Technical Lead</th>\n      <td>1425</td>\n      <td>6200</td>\n      <td>3165.91</td>\n    </tr>\n  </tbody>\n</table>\n</div>"
     },
     "execution_count": 127,
     "metadata": {},
     "output_type": "execute_result"
    }
   ],
   "source": [
    "def fill_avg_salary(series):\n",
    "    return series.mean()\n",
    "\n",
    "\n",
    "new_df[\"avg\"] = python_data.groupby(by='Посада')['Зарплата на місяць'].apply('mean')\n",
    "new_df.round(2)"
   ],
   "metadata": {
    "collapsed": false,
    "ExecuteTime": {
     "end_time": "2024-02-21T23:18:00.082197Z",
     "start_time": "2024-02-21T23:18:00.071681Z"
    }
   },
   "id": "479342fa007a4d7f",
   "execution_count": 127
  },
  {
   "cell_type": "code",
   "outputs": [],
   "source": [
    "new_df.to_csv('result_2.2.csv')"
   ],
   "metadata": {
    "collapsed": false,
    "ExecuteTime": {
     "end_time": "2024-02-21T23:19:12.631541Z",
     "start_time": "2024-02-21T23:19:12.616425Z"
    }
   },
   "id": "6a1031652ff63ff3",
   "execution_count": 128
  }
 ],
 "metadata": {
  "kernelspec": {
   "display_name": "Python 3",
   "language": "python",
   "name": "python3"
  },
  "language_info": {
   "codemirror_mode": {
    "name": "ipython",
    "version": 2
   },
   "file_extension": ".py",
   "mimetype": "text/x-python",
   "name": "python",
   "nbconvert_exporter": "python",
   "pygments_lexer": "ipython2",
   "version": "2.7.6"
  }
 },
 "nbformat": 4,
 "nbformat_minor": 5
}
