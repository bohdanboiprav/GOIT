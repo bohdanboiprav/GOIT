{
 "cells": [
  {
   "cell_type": "code",
   "execution_count": 31,
   "id": "initial_id",
   "metadata": {
    "collapsed": true,
    "ExecuteTime": {
     "end_time": "2024-02-20T22:38:21.012815Z",
     "start_time": "2024-02-20T22:38:20.943452Z"
    }
   },
   "outputs": [
    {
     "data": {
      "text/plain": "   N                    Посада Мова програмування Спеціалізація  \\\n0  1        Junior QA engineer                NaN     Manual QA   \n1  2        Junior QA engineer                NaN     Manual QA   \n2  3         Software Engineer            C#/.NET           NaN   \n3  4         Software Engineer         JavaScript           NaN   \n4  5  Senior Software Engineer         JavaScript           NaN   \n\n  Загальний досвід роботи Досвід роботи на поточному місці  \\\n0                     0.5                              0.5   \n1         менше 3 місяців                  менше 3 місяців   \n2                       4                                1   \n3                       5                                4   \n4       10 і більше років                              0.5   \n\n   Зарплата на місяць  Зміна зарплати за 12 місяців   Місто   Розмір компанії  \\\n0                 400                             0  Харків        до 10 осіб   \n1                 430                           130  Харків  більше 1000 осіб   \n2                2500                           800    Київ      до 1000 осіб   \n3                2000                           400   Одеса       до 200 осіб   \n4                4500                           500    Інше        до 10 осіб   \n\n   ... Ще студент                    Рівень англійської  \\\n0  ...       True    Pre-intermediate (нище середнього)   \n1  ...       True  Upper-Intermediate (вище середнього)   \n2  ...      False               Intermediate (середній)   \n3  ...      False    Pre-intermediate (нище середнього)   \n4  ...      False               Intermediate (середній)   \n\n                   Предметна область      Дата заповнення  \\\n0                      iOS,eCommerce  12/06/2017 12:38:08   \n1                       Веб-розробка  12/06/2017 12:42:51   \n2  Веб-розробка,Корпоративні системи  12/06/2017 13:02:47   \n3  Desktop Applications,Веб-розробка  12/06/2017 13:03:01   \n4  Desktop Applications,Веб-розробка  12/06/2017 13:03:47   \n\n                                          User.Agent   exp current_job_exp  \\\n0  Mozilla/5.0 (Windows NT 10.0; Win64; x64) Appl...   0.5             0.5   \n1  Mozilla/5.0 (iPad; CPU OS 10_2_1 like Mac OS X...   0.0             0.0   \n2  Mozilla/5.0 (Windows NT 10.0; Win64; x64) Appl...   4.0             1.0   \n3  Mozilla/5.0 (Windows NT 6.1; Win64; x64) Apple...   5.0             4.0   \n4  Mozilla/5.0 (iPhone; CPU iPhone OS 10_3_2 like...  10.0             0.5   \n\n  salary Валюта  cls  \n0    400    NaN   QA  \n1    430    NaN   QA  \n2   2500    NaN  DEV  \n3   2000    NaN  DEV  \n4   4500    NaN  DEV  \n\n[5 rows x 25 columns]",
      "text/html": "<div>\n<style scoped>\n    .dataframe tbody tr th:only-of-type {\n        vertical-align: middle;\n    }\n\n    .dataframe tbody tr th {\n        vertical-align: top;\n    }\n\n    .dataframe thead th {\n        text-align: right;\n    }\n</style>\n<table border=\"1\" class=\"dataframe\">\n  <thead>\n    <tr style=\"text-align: right;\">\n      <th></th>\n      <th>N</th>\n      <th>Посада</th>\n      <th>Мова програмування</th>\n      <th>Спеціалізація</th>\n      <th>Загальний досвід роботи</th>\n      <th>Досвід роботи на поточному місці</th>\n      <th>Зарплата на місяць</th>\n      <th>Зміна зарплати за 12 місяців</th>\n      <th>Місто</th>\n      <th>Розмір компанії</th>\n      <th>...</th>\n      <th>Ще студент</th>\n      <th>Рівень англійської</th>\n      <th>Предметна область</th>\n      <th>Дата заповнення</th>\n      <th>User.Agent</th>\n      <th>exp</th>\n      <th>current_job_exp</th>\n      <th>salary</th>\n      <th>Валюта</th>\n      <th>cls</th>\n    </tr>\n  </thead>\n  <tbody>\n    <tr>\n      <th>0</th>\n      <td>1</td>\n      <td>Junior QA engineer</td>\n      <td>NaN</td>\n      <td>Manual QA</td>\n      <td>0.5</td>\n      <td>0.5</td>\n      <td>400</td>\n      <td>0</td>\n      <td>Харків</td>\n      <td>до 10 осіб</td>\n      <td>...</td>\n      <td>True</td>\n      <td>Pre-intermediate (нище середнього)</td>\n      <td>iOS,eCommerce</td>\n      <td>12/06/2017 12:38:08</td>\n      <td>Mozilla/5.0 (Windows NT 10.0; Win64; x64) Appl...</td>\n      <td>0.5</td>\n      <td>0.5</td>\n      <td>400</td>\n      <td>NaN</td>\n      <td>QA</td>\n    </tr>\n    <tr>\n      <th>1</th>\n      <td>2</td>\n      <td>Junior QA engineer</td>\n      <td>NaN</td>\n      <td>Manual QA</td>\n      <td>менше 3 місяців</td>\n      <td>менше 3 місяців</td>\n      <td>430</td>\n      <td>130</td>\n      <td>Харків</td>\n      <td>більше 1000 осіб</td>\n      <td>...</td>\n      <td>True</td>\n      <td>Upper-Intermediate (вище середнього)</td>\n      <td>Веб-розробка</td>\n      <td>12/06/2017 12:42:51</td>\n      <td>Mozilla/5.0 (iPad; CPU OS 10_2_1 like Mac OS X...</td>\n      <td>0.0</td>\n      <td>0.0</td>\n      <td>430</td>\n      <td>NaN</td>\n      <td>QA</td>\n    </tr>\n    <tr>\n      <th>2</th>\n      <td>3</td>\n      <td>Software Engineer</td>\n      <td>C#/.NET</td>\n      <td>NaN</td>\n      <td>4</td>\n      <td>1</td>\n      <td>2500</td>\n      <td>800</td>\n      <td>Київ</td>\n      <td>до 1000 осіб</td>\n      <td>...</td>\n      <td>False</td>\n      <td>Intermediate (середній)</td>\n      <td>Веб-розробка,Корпоративні системи</td>\n      <td>12/06/2017 13:02:47</td>\n      <td>Mozilla/5.0 (Windows NT 10.0; Win64; x64) Appl...</td>\n      <td>4.0</td>\n      <td>1.0</td>\n      <td>2500</td>\n      <td>NaN</td>\n      <td>DEV</td>\n    </tr>\n    <tr>\n      <th>3</th>\n      <td>4</td>\n      <td>Software Engineer</td>\n      <td>JavaScript</td>\n      <td>NaN</td>\n      <td>5</td>\n      <td>4</td>\n      <td>2000</td>\n      <td>400</td>\n      <td>Одеса</td>\n      <td>до 200 осіб</td>\n      <td>...</td>\n      <td>False</td>\n      <td>Pre-intermediate (нище середнього)</td>\n      <td>Desktop Applications,Веб-розробка</td>\n      <td>12/06/2017 13:03:01</td>\n      <td>Mozilla/5.0 (Windows NT 6.1; Win64; x64) Apple...</td>\n      <td>5.0</td>\n      <td>4.0</td>\n      <td>2000</td>\n      <td>NaN</td>\n      <td>DEV</td>\n    </tr>\n    <tr>\n      <th>4</th>\n      <td>5</td>\n      <td>Senior Software Engineer</td>\n      <td>JavaScript</td>\n      <td>NaN</td>\n      <td>10 і більше років</td>\n      <td>0.5</td>\n      <td>4500</td>\n      <td>500</td>\n      <td>Інше</td>\n      <td>до 10 осіб</td>\n      <td>...</td>\n      <td>False</td>\n      <td>Intermediate (середній)</td>\n      <td>Desktop Applications,Веб-розробка</td>\n      <td>12/06/2017 13:03:47</td>\n      <td>Mozilla/5.0 (iPhone; CPU iPhone OS 10_3_2 like...</td>\n      <td>10.0</td>\n      <td>0.5</td>\n      <td>4500</td>\n      <td>NaN</td>\n      <td>DEV</td>\n    </tr>\n  </tbody>\n</table>\n<p>5 rows × 25 columns</p>\n</div>"
     },
     "execution_count": 31,
     "metadata": {},
     "output_type": "execute_result"
    }
   ],
   "source": [
    "import pandas as pd\n",
    "import numpy as np\n",
    "\n",
    "inpDf = pd.read_csv('2017_jun_final - 2017_jun_final.csv')\n",
    "inpDf.head()"
   ]
  },
  {
   "cell_type": "code",
   "outputs": [
    {
     "data": {
      "text/plain": "(8704, 25)"
     },
     "execution_count": 32,
     "metadata": {},
     "output_type": "execute_result"
    }
   ],
   "source": [
    "inpDf.shape"
   ],
   "metadata": {
    "collapsed": false,
    "ExecuteTime": {
     "end_time": "2024-02-20T22:38:22.803095Z",
     "start_time": "2024-02-20T22:38:22.800461Z"
    }
   },
   "id": "eed76faa68068d9a",
   "execution_count": 32
  },
  {
   "cell_type": "code",
   "outputs": [
    {
     "data": {
      "text/plain": "N                                      0\nПосада                                 0\nМова програмування                  3850\nСпеціалізація                       7219\nЗагальний досвід роботи                0\nДосвід роботи на поточному місці       0\nЗарплата на місяць                     0\nЗміна зарплати за 12 місяців           0\nМісто                                  0\nРозмір компанії                        0\nТип компанії                           0\nСтать                                  0\nВік                                    0\nОсвіта                                 0\nУніверситет                          358\nЩе студент                             0\nРівень англійської                     0\nПредметна область                    223\nДата заповнення                        0\nUser.Agent                             0\nexp                                    0\ncurrent_job_exp                        0\nsalary                                 0\nВалюта                              8694\ncls                                 1574\ndtype: int64"
     },
     "execution_count": 33,
     "metadata": {},
     "output_type": "execute_result"
    }
   ],
   "source": [
    "inpDf.isnull().sum()"
   ],
   "metadata": {
    "collapsed": false,
    "ExecuteTime": {
     "end_time": "2024-02-20T22:38:24.387151Z",
     "start_time": "2024-02-20T22:38:24.378914Z"
    }
   },
   "id": "cf9b3500f52b4f9d",
   "execution_count": 33
  },
  {
   "cell_type": "code",
   "outputs": [
    {
     "data": {
      "text/plain": "N                                      0\nПосада                                 0\nМова програмування                  3850\nЗагальний досвід роботи                0\nДосвід роботи на поточному місці       0\nЗарплата на місяць                     0\nЗміна зарплати за 12 місяців           0\nМісто                                  0\nРозмір компанії                        0\nТип компанії                           0\nСтать                                  0\nВік                                    0\nОсвіта                                 0\nЩе студент                             0\nРівень англійської                     0\nДата заповнення                        0\nUser.Agent                             0\nexp                                    0\ncurrent_job_exp                        0\nsalary                                 0\ndtype: int64"
     },
     "execution_count": 86,
     "metadata": {},
     "output_type": "execute_result"
    }
   ],
   "source": [
    "newDf = inpDf.drop(inpDf.columns[(inpDf.isnull().sum() != 0) & (inpDf.columns != 'Мова програмування')].tolist(), axis=1)\n",
    "newDf.isnull().sum()"
   ],
   "metadata": {
    "collapsed": false,
    "ExecuteTime": {
     "end_time": "2024-02-20T23:44:20.345513Z",
     "start_time": "2024-02-20T23:44:20.318537Z"
    }
   },
   "id": "a13fc89c4ead990d",
   "execution_count": 86
  },
  {
   "cell_type": "code",
   "outputs": [
    {
     "data": {
      "text/plain": "(4854, 20)"
     },
     "execution_count": 90,
     "metadata": {},
     "output_type": "execute_result"
    }
   ],
   "source": [
    "newDf.dropna(inplace=True)\n",
    "newDf.shape"
   ],
   "metadata": {
    "collapsed": false,
    "ExecuteTime": {
     "end_time": "2024-02-20T23:45:22.258611Z",
     "start_time": "2024-02-20T23:45:22.255565Z"
    }
   },
   "id": "baafe8bfa2d53571",
   "execution_count": 90
  },
  {
   "cell_type": "code",
   "outputs": [
    {
     "data": {
      "text/plain": "(207, 20)"
     },
     "execution_count": 92,
     "metadata": {},
     "output_type": "execute_result"
    }
   ],
   "source": [
    "python_data = newDf.loc[newDf['Мова програмування'] == 'Python']\n",
    "python_data.shape"
   ],
   "metadata": {
    "collapsed": false,
    "ExecuteTime": {
     "end_time": "2024-02-20T23:46:03.366884Z",
     "start_time": "2024-02-20T23:46:03.363974Z"
    }
   },
   "id": "2bb989eb037000f8",
   "execution_count": 92
  },
  {
   "cell_type": "code",
   "outputs": [
    {
     "data": {
      "text/plain": "                               N  \\\nПосада                             \nJunior Software Engineer  224221   \nSenior Software Engineer  148238   \nSoftware Engineer         366884   \nSystem Architect           13978   \nTechnical Lead             59072   \n\n                                                         Мова програмування  \\\nПосада                                                                        \nJunior Software Engineer  PythonPythonPythonPythonPythonPythonPythonPyth...   \nSenior Software Engineer  PythonPythonPythonPythonPythonPythonPythonPyth...   \nSoftware Engineer         PythonPythonPythonPythonPythonPythonPythonPyth...   \nSystem Architect                                               PythonPython   \nTechnical Lead            PythonPythonPythonPythonPythonPythonPythonPyth...   \n\n                                                    Загальний досвід роботи  \\\nПосада                                                                        \nJunior Software Engineer  0.51.510.50.2511менше 3 місяців0.51.51.51.5111...   \nSenior Software Engineer  10 і більше років7210 і більше років454710 і б...   \nSoftware Engineer         11.52845257333221.50.52541.5111.5142426345210 ...   \nSystem Architect                         10 і більше років10 і більше років   \nTechnical Lead            410 і більше років10 і більше років2510 і біль...   \n\n                                           Досвід роботи на поточному місці  \\\nПосада                                                                        \nJunior Software Engineer  0.50.510.50.25менше 3 місяців1менше 3 місяців0...   \nSenior Software Engineer  0.50.5221менше 3 місяців1.54321.50.253менше 3 ...   \nSoftware Engineer         менше 3 місяців0.5121.53210.2531110.5менше 3 м...   \nSystem Architect                                                      0.252   \nTechnical Lead                           1.520.25230.57310 і більше років17   \n\n                          Зарплата на місяць  Зміна зарплати за 12 місяців  \\\nПосада                                                                       \nJunior Software Engineer               35333                         11405   \nSenior Software Engineer              105000                         13380   \nSoftware Engineer                     179907                         47983   \nSystem Architect                        8000                             0   \nTechnical Lead                         34825                          5005   \n\n                                                                      Місто  \\\nПосада                                                                        \nJunior Software Engineer  КиївКиївКиївВінницяКиївХарківЛьвівКиївЛьвівВід...   \nSenior Software Engineer  КиївДніпроЛьвівВіддаленоЛьвівХарківВіддаленоХа...   \nSoftware Engineer         КиївКиївДніпроЛьвівІншеКиївХмельницькийВіддале...   \nSystem Architect                                                   КиївКиїв   \nTechnical Lead            КиївКиївКиївХарківДніпроЛьвівХарківОдесаХерсон...   \n\n                                                            Розмір компанії  \\\nПосада                                                                        \nJunior Software Engineer  до 10 осібдо 1000 осібдо 10 осібдо 200 осібдо ...   \nSenior Software Engineer  до 200 осібдо 200 осібдо 50 осібдо 10 осібдо 1...   \nSoftware Engineer         до 50 осібдо 10 осібдо 50 осібдо 1000 осібдо 1...   \nSystem Architect                                       до 50 осібдо 10 осіб   \nTechnical Lead            до 50 осібдо 50 осіббільше 1000 осібдо 200 осі...   \n\n                                                               Тип компанії  \\\nПосада                                                                        \nJunior Software Engineer  АутсорсинговаАутсорсинговаАутсорсинговаАутсорс...   \nSenior Software Engineer  ПродуктоваАутсорсинговаІншаСтартапАутсорсингов...   \nSoftware Engineer         АутсорсинговаСтартапАутстафінговаАутсорсингова...   \nSystem Architect                                       ПродуктоваПродуктова   \nTechnical Lead            ПродуктоваАутсорсинговаАутсорсинговаАутсорсинг...   \n\n                                                                      Стать  \\\nПосада                                                                        \nJunior Software Engineer  чоловічачоловічачоловічачоловічачоловічачолові...   \nSenior Software Engineer  чоловічачоловічачоловічачоловічачоловічачолові...   \nSoftware Engineer         чоловічачоловічачоловічачоловічачоловічачолові...   \nSystem Architect                                           чоловічачоловіча   \nTechnical Lead            чоловічачоловічачоловічачоловічачоловічачолові...   \n\n                           Вік  \\\nПосада                           \nJunior Software Engineer  1523   \nSenior Software Engineer   901   \nSoftware Engineer         2663   \nSystem Architect            71   \nTechnical Lead             331   \n\n                                                                     Освіта  \\\nПосада                                                                        \nJunior Software Engineer  Неповна ВищаНеповна ВищаНеповна ВищаТехнікум /...   \nSenior Software Engineer  ВищаВищаНеповна ВищаВищаВищаВищаВищаВищаВищаВи...   \nSoftware Engineer         ВищаНеповна ВищаКандидатВищаВищаНеповна ВищаВи...   \nSystem Architect                                                   ВищаВища   \nTechnical Lead            Неповна ВищаВищаВищаВищаВищаВищаНеповна ВищаВи...   \n\n                          Ще студент  \\\nПосада                                 \nJunior Software Engineer          24   \nSenior Software Engineer           1   \nSoftware Engineer                 13   \nSystem Architect                   0   \nTechnical Lead                     0   \n\n                                                         Рівень англійської  \\\nПосада                                                                        \nJunior Software Engineer  Upper-Intermediate (вище середнього)Intermedia...   \nSenior Software Engineer  Upper-Intermediate (вище середнього)Upper-Inte...   \nSoftware Engineer         Pre-intermediate (нище середнього)Upper-Interm...   \nSystem Architect          Upper-Intermediate (вище середнього)Intermedia...   \nTechnical Lead            Upper-Intermediate (вище середнього)Upper-Inte...   \n\n                                                            Дата заповнення  \\\nПосада                                                                        \nJunior Software Engineer  12/06/2017 13:12:2512/06/2017 13:14:5212/06/20...   \nSenior Software Engineer  12/06/2017 13:46:2412/06/2017 13:58:1612/06/20...   \nSoftware Engineer         12/06/2017 13:05:5412/06/2017 13:11:1712/06/20...   \nSystem Architect                     20/06/2017 18:40:4006/07/2017 19:15:05   \nTechnical Lead            13/06/2017 12:37:0213/06/2017 14:51:1914/06/20...   \n\n                                                                 User.Agent  \\\nПосада                                                                        \nJunior Software Engineer  Mozilla/5.0 (X11; Linux x86_64) AppleWebKit/53...   \nSenior Software Engineer  Mozilla/5.0 (Windows NT 6.1; Win64; x64) Apple...   \nSoftware Engineer         Mozilla/5.0 (Windows NT 6.1; Win64; x64) Apple...   \nSystem Architect          Mozilla/5.0 (X11; Ubuntu; Linux x86_64; rv:53....   \nTechnical Lead            Mozilla/5.0 (Macintosh; Intel Mac OS X 10_12_5...   \n\n                             exp  current_job_exp  salary  \nПосада                                                     \nJunior Software Engineer   55.25            33.00   35333  \nSenior Software Engineer  207.00            48.25  105000  \nSoftware Engineer         318.00           112.75  179907  \nSystem Architect           20.00             2.25    8000  \nTechnical Lead             78.00            37.25   34825  ",
      "text/html": "<div>\n<style scoped>\n    .dataframe tbody tr th:only-of-type {\n        vertical-align: middle;\n    }\n\n    .dataframe tbody tr th {\n        vertical-align: top;\n    }\n\n    .dataframe thead th {\n        text-align: right;\n    }\n</style>\n<table border=\"1\" class=\"dataframe\">\n  <thead>\n    <tr style=\"text-align: right;\">\n      <th></th>\n      <th>N</th>\n      <th>Мова програмування</th>\n      <th>Загальний досвід роботи</th>\n      <th>Досвід роботи на поточному місці</th>\n      <th>Зарплата на місяць</th>\n      <th>Зміна зарплати за 12 місяців</th>\n      <th>Місто</th>\n      <th>Розмір компанії</th>\n      <th>Тип компанії</th>\n      <th>Стать</th>\n      <th>Вік</th>\n      <th>Освіта</th>\n      <th>Ще студент</th>\n      <th>Рівень англійської</th>\n      <th>Дата заповнення</th>\n      <th>User.Agent</th>\n      <th>exp</th>\n      <th>current_job_exp</th>\n      <th>salary</th>\n    </tr>\n    <tr>\n      <th>Посада</th>\n      <th></th>\n      <th></th>\n      <th></th>\n      <th></th>\n      <th></th>\n      <th></th>\n      <th></th>\n      <th></th>\n      <th></th>\n      <th></th>\n      <th></th>\n      <th></th>\n      <th></th>\n      <th></th>\n      <th></th>\n      <th></th>\n      <th></th>\n      <th></th>\n      <th></th>\n    </tr>\n  </thead>\n  <tbody>\n    <tr>\n      <th>Junior Software Engineer</th>\n      <td>224221</td>\n      <td>PythonPythonPythonPythonPythonPythonPythonPyth...</td>\n      <td>0.51.510.50.2511менше 3 місяців0.51.51.51.5111...</td>\n      <td>0.50.510.50.25менше 3 місяців1менше 3 місяців0...</td>\n      <td>35333</td>\n      <td>11405</td>\n      <td>КиївКиївКиївВінницяКиївХарківЛьвівКиївЛьвівВід...</td>\n      <td>до 10 осібдо 1000 осібдо 10 осібдо 200 осібдо ...</td>\n      <td>АутсорсинговаАутсорсинговаАутсорсинговаАутсорс...</td>\n      <td>чоловічачоловічачоловічачоловічачоловічачолові...</td>\n      <td>1523</td>\n      <td>Неповна ВищаНеповна ВищаНеповна ВищаТехнікум /...</td>\n      <td>24</td>\n      <td>Upper-Intermediate (вище середнього)Intermedia...</td>\n      <td>12/06/2017 13:12:2512/06/2017 13:14:5212/06/20...</td>\n      <td>Mozilla/5.0 (X11; Linux x86_64) AppleWebKit/53...</td>\n      <td>55.25</td>\n      <td>33.00</td>\n      <td>35333</td>\n    </tr>\n    <tr>\n      <th>Senior Software Engineer</th>\n      <td>148238</td>\n      <td>PythonPythonPythonPythonPythonPythonPythonPyth...</td>\n      <td>10 і більше років7210 і більше років454710 і б...</td>\n      <td>0.50.5221менше 3 місяців1.54321.50.253менше 3 ...</td>\n      <td>105000</td>\n      <td>13380</td>\n      <td>КиївДніпроЛьвівВіддаленоЛьвівХарківВіддаленоХа...</td>\n      <td>до 200 осібдо 200 осібдо 50 осібдо 10 осібдо 1...</td>\n      <td>ПродуктоваАутсорсинговаІншаСтартапАутсорсингов...</td>\n      <td>чоловічачоловічачоловічачоловічачоловічачолові...</td>\n      <td>901</td>\n      <td>ВищаВищаНеповна ВищаВищаВищаВищаВищаВищаВищаВи...</td>\n      <td>1</td>\n      <td>Upper-Intermediate (вище середнього)Upper-Inte...</td>\n      <td>12/06/2017 13:46:2412/06/2017 13:58:1612/06/20...</td>\n      <td>Mozilla/5.0 (Windows NT 6.1; Win64; x64) Apple...</td>\n      <td>207.00</td>\n      <td>48.25</td>\n      <td>105000</td>\n    </tr>\n    <tr>\n      <th>Software Engineer</th>\n      <td>366884</td>\n      <td>PythonPythonPythonPythonPythonPythonPythonPyth...</td>\n      <td>11.52845257333221.50.52541.5111.5142426345210 ...</td>\n      <td>менше 3 місяців0.5121.53210.2531110.5менше 3 м...</td>\n      <td>179907</td>\n      <td>47983</td>\n      <td>КиївКиївДніпроЛьвівІншеКиївХмельницькийВіддале...</td>\n      <td>до 50 осібдо 10 осібдо 50 осібдо 1000 осібдо 1...</td>\n      <td>АутсорсинговаСтартапАутстафінговаАутсорсингова...</td>\n      <td>чоловічачоловічачоловічачоловічачоловічачолові...</td>\n      <td>2663</td>\n      <td>ВищаНеповна ВищаКандидатВищаВищаНеповна ВищаВи...</td>\n      <td>13</td>\n      <td>Pre-intermediate (нище середнього)Upper-Interm...</td>\n      <td>12/06/2017 13:05:5412/06/2017 13:11:1712/06/20...</td>\n      <td>Mozilla/5.0 (Windows NT 6.1; Win64; x64) Apple...</td>\n      <td>318.00</td>\n      <td>112.75</td>\n      <td>179907</td>\n    </tr>\n    <tr>\n      <th>System Architect</th>\n      <td>13978</td>\n      <td>PythonPython</td>\n      <td>10 і більше років10 і більше років</td>\n      <td>0.252</td>\n      <td>8000</td>\n      <td>0</td>\n      <td>КиївКиїв</td>\n      <td>до 50 осібдо 10 осіб</td>\n      <td>ПродуктоваПродуктова</td>\n      <td>чоловічачоловіча</td>\n      <td>71</td>\n      <td>ВищаВища</td>\n      <td>0</td>\n      <td>Upper-Intermediate (вище середнього)Intermedia...</td>\n      <td>20/06/2017 18:40:4006/07/2017 19:15:05</td>\n      <td>Mozilla/5.0 (X11; Ubuntu; Linux x86_64; rv:53....</td>\n      <td>20.00</td>\n      <td>2.25</td>\n      <td>8000</td>\n    </tr>\n    <tr>\n      <th>Technical Lead</th>\n      <td>59072</td>\n      <td>PythonPythonPythonPythonPythonPythonPythonPyth...</td>\n      <td>410 і більше років10 і більше років2510 і біль...</td>\n      <td>1.520.25230.57310 і більше років17</td>\n      <td>34825</td>\n      <td>5005</td>\n      <td>КиївКиївКиївХарківДніпроЛьвівХарківОдесаХерсон...</td>\n      <td>до 50 осібдо 50 осіббільше 1000 осібдо 200 осі...</td>\n      <td>ПродуктоваАутсорсинговаАутсорсинговаАутсорсинг...</td>\n      <td>чоловічачоловічачоловічачоловічачоловічачолові...</td>\n      <td>331</td>\n      <td>Неповна ВищаВищаВищаВищаВищаВищаНеповна ВищаВи...</td>\n      <td>0</td>\n      <td>Upper-Intermediate (вище середнього)Upper-Inte...</td>\n      <td>13/06/2017 12:37:0213/06/2017 14:51:1914/06/20...</td>\n      <td>Mozilla/5.0 (Macintosh; Intel Mac OS X 10_12_5...</td>\n      <td>78.00</td>\n      <td>37.25</td>\n      <td>34825</td>\n    </tr>\n  </tbody>\n</table>\n</div>"
     },
     "execution_count": 96,
     "metadata": {},
     "output_type": "execute_result"
    }
   ],
   "source": [
    "python_data.groupby(by='Посада').sum()"
   ],
   "metadata": {
    "collapsed": false,
    "ExecuteTime": {
     "end_time": "2024-02-20T23:55:26.589369Z",
     "start_time": "2024-02-20T23:55:26.567819Z"
    }
   },
   "id": "4d50f0db4ab03d07",
   "execution_count": 96
  },
  {
   "cell_type": "code",
   "outputs": [],
   "source": [],
   "metadata": {
    "collapsed": false
   },
   "id": "4515afe76930cfb1"
  }
 ],
 "metadata": {
  "kernelspec": {
   "display_name": "Python 3",
   "language": "python",
   "name": "python3"
  },
  "language_info": {
   "codemirror_mode": {
    "name": "ipython",
    "version": 2
   },
   "file_extension": ".py",
   "mimetype": "text/x-python",
   "name": "python",
   "nbconvert_exporter": "python",
   "pygments_lexer": "ipython2",
   "version": "2.7.6"
  }
 },
 "nbformat": 4,
 "nbformat_minor": 5
}
