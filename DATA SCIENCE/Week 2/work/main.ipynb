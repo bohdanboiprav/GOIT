{
 "cells": [
  {
   "cell_type": "code",
   "execution_count": 2,
   "id": "initial_id",
   "metadata": {
    "collapsed": true,
    "ExecuteTime": {
     "end_time": "2024-02-19T23:44:34.689405Z",
     "start_time": "2024-02-19T23:44:32.932284Z"
    }
   },
   "outputs": [
    {
     "data": {
      "text/plain": "             Регіон  1950  1960  1970  1990  2000  2012  2014  2019\n0              Крим  23.0  20.6  16.0  13.0   7.3  12.6     —     —\n1         Вінницька  22.4  19.2  14.2  12.4   8.4  11.2  10.9   7.6\n2         Волинська  24.7  25.0  17.9  15.3  11.2  14.8  14.1  10.1\n3  Дніпропетровська  20.4  20.4  15.1  12.3   7.1  11.2  11.1   7.1\n4          Донецька  27.1  21.4  14.0  10.9   6.1   9.8   8.2     —",
      "text/html": "<div>\n<style scoped>\n    .dataframe tbody tr th:only-of-type {\n        vertical-align: middle;\n    }\n\n    .dataframe tbody tr th {\n        vertical-align: top;\n    }\n\n    .dataframe thead th {\n        text-align: right;\n    }\n</style>\n<table border=\"1\" class=\"dataframe\">\n  <thead>\n    <tr style=\"text-align: right;\">\n      <th></th>\n      <th>Регіон</th>\n      <th>1950</th>\n      <th>1960</th>\n      <th>1970</th>\n      <th>1990</th>\n      <th>2000</th>\n      <th>2012</th>\n      <th>2014</th>\n      <th>2019</th>\n    </tr>\n  </thead>\n  <tbody>\n    <tr>\n      <th>0</th>\n      <td>Крим</td>\n      <td>23.0</td>\n      <td>20.6</td>\n      <td>16.0</td>\n      <td>13.0</td>\n      <td>7.3</td>\n      <td>12.6</td>\n      <td>—</td>\n      <td>—</td>\n    </tr>\n    <tr>\n      <th>1</th>\n      <td>Вінницька</td>\n      <td>22.4</td>\n      <td>19.2</td>\n      <td>14.2</td>\n      <td>12.4</td>\n      <td>8.4</td>\n      <td>11.2</td>\n      <td>10.9</td>\n      <td>7.6</td>\n    </tr>\n    <tr>\n      <th>2</th>\n      <td>Волинська</td>\n      <td>24.7</td>\n      <td>25.0</td>\n      <td>17.9</td>\n      <td>15.3</td>\n      <td>11.2</td>\n      <td>14.8</td>\n      <td>14.1</td>\n      <td>10.1</td>\n    </tr>\n    <tr>\n      <th>3</th>\n      <td>Дніпропетровська</td>\n      <td>20.4</td>\n      <td>20.4</td>\n      <td>15.1</td>\n      <td>12.3</td>\n      <td>7.1</td>\n      <td>11.2</td>\n      <td>11.1</td>\n      <td>7.1</td>\n    </tr>\n    <tr>\n      <th>4</th>\n      <td>Донецька</td>\n      <td>27.1</td>\n      <td>21.4</td>\n      <td>14.0</td>\n      <td>10.9</td>\n      <td>6.1</td>\n      <td>9.8</td>\n      <td>8.2</td>\n      <td>—</td>\n    </tr>\n  </tbody>\n</table>\n</div>"
     },
     "execution_count": 2,
     "metadata": {},
     "output_type": "execute_result"
    }
   ],
   "source": [
    "import pandas as pd\n",
    "import numpy as np\n",
    "import html5lib\n",
    "\n",
    "match='Коефіцієнт народжуваності в регіонах України'\n",
    "coefficient_table = pd.DataFrame(pd.read_html('https://uk.wikipedia.org/wiki/%D0%9D%D0%B0%D1%81%D0%B5%D0%BB%D0%B5%D0%BD%D0%BD%D1%8F_%D0%A3%D0%BA%D1%80%D0%B0%D1%97%D0%BD%D0%B8',thousands=\"\", decimal=\",\",match = match)[0])\n",
    "coefficient_table.head()"
   ]
  },
  {
   "cell_type": "code",
   "outputs": [
    {
     "data": {
      "text/plain": "(28, 9)"
     },
     "execution_count": 3,
     "metadata": {},
     "output_type": "execute_result"
    }
   ],
   "source": [
    "coefficient_table.shape"
   ],
   "metadata": {
    "collapsed": false,
    "ExecuteTime": {
     "end_time": "2024-02-19T23:44:36.208322Z",
     "start_time": "2024-02-19T23:44:36.203654Z"
    }
   },
   "id": "8b2d91aad79ea843",
   "execution_count": 3
  },
  {
   "cell_type": "code",
   "outputs": [
    {
     "data": {
      "text/plain": "Регіон     object\n1950      float64\n1960      float64\n1970      float64\n1990      float64\n2000      float64\n2012      float64\n2014       object\n2019       object\ndtype: object"
     },
     "execution_count": 5,
     "metadata": {},
     "output_type": "execute_result"
    }
   ],
   "source": [
    "coefficient_table.replace('—', np.nan, inplace=True)\n",
    "coefficient_table.dtypes"
   ],
   "metadata": {
    "collapsed": false,
    "ExecuteTime": {
     "end_time": "2024-02-19T23:47:45.681742Z",
     "start_time": "2024-02-19T23:47:45.675871Z"
    }
   },
   "id": "7e0913750cb3f4d0",
   "execution_count": 5
  },
  {
   "cell_type": "code",
   "outputs": [
    {
     "data": {
      "text/plain": "Регіон    0\n1950      2\n1960      1\n1970      1\n1990      0\n2000      0\n2012      0\n2014      2\n2019      4\ndtype: int64"
     },
     "execution_count": 11,
     "metadata": {},
     "output_type": "execute_result"
    }
   ],
   "source": [
    "coefficient_table = coefficient_table.astype({'2014': 'float64', '2019': 'float64'})\n",
    "coefficient_table.isna().sum()"
   ],
   "metadata": {
    "collapsed": false,
    "ExecuteTime": {
     "end_time": "2024-02-19T23:53:55.050234Z",
     "start_time": "2024-02-19T23:53:55.047056Z"
    }
   },
   "id": "897ab261f535a0b7",
   "execution_count": 11
  },
  {
   "cell_type": "code",
   "outputs": [
    {
     "data": {
      "text/plain": "               Регіон  1950  1960  1970  1990  2000  2012  2014  2019\n0                Крим  23.0  20.6  16.0  13.0   7.3  12.6   NaN   NaN\n1           Вінницька  22.4  19.2  14.2  12.4   8.4  11.2  10.9   7.6\n2           Волинська  24.7  25.0  17.9  15.3  11.2  14.8  14.1  10.1\n3    Дніпропетровська  20.4  20.4  15.1  12.3   7.1  11.2  11.1   7.1\n4            Донецька  27.1  21.4  14.0  10.9   6.1   9.8   8.2   NaN\n5         Житомирська  26.1  22.3  15.9  12.9   8.9  12.2  12.0   7.9\n6        Закарпатська  31.4  27.3  20.7  16.8  11.5  15.1  14.6  10.4\n7          Запорізька  21.9  19.7  15.0  12.4   7.1  10.6  10.6   6.8\n8   Івано-Франківська  24.3  24.8  18.2  15.5  10.3  12.4  12.2   8.8\n9            Київська  20.4  18.9  15.6  12.3   7.3  12.2  12.1   8.0\n10     Кіровоградська  21.6  17.1  14.5  12.6   7.9  11.0  10.8   6.8\n11          Луганська  26.2  23.5  14.4  11.6   6.2   9.6   5.1   NaN\n12          Львівська  23.4  24.0  17.1  14.0   9.1  11.9  11.9   8.7\n13       Миколаївська  21.1  19.4  15.5  13.7   8.0  11.5  11.2   7.1\n14            Одеська  24.1  19.2  14.8  12.6   8.0  12.7  12.3   8.8\n15         Полтавська  18.6  16.3  13.1  11.8   7.0   9.9  10.0   6.5\n16         Рівненська  26.9  26.7  19.3  15.8  11.8  15.9  14.8  10.7\n17            Сумська  21.6  18.4  13.2  11.5   7.0   9.7   9.2   6.0\n18      Тернопільська  21.3  21.6  15.7  14.2   9.2  11.3  10.9   7.6\n19         Харківська  19.7  17.3  14.0  11.4   6.8   9.9  10.1   6.8\n20         Херсонська  20.8  21.4  16.6  14.3   8.5  11.7  11.5   8.1\n21        Хмельницька  23.4  19.8  14.8  12.9   8.5  11.3  11.2   7.9\n22          Черкаська  20.5  17.9  14.4  12.3   7.5  10.0   9.8   6.4\n23        Чернівецька  24.7  21.8  17.0  14.8  10.1  12.8  12.9   9.2\n24       Чернігівська  22.0  18.3  12.7  10.8   6.9   9.4   9.0   6.1\n25               Київ   NaN  17.4  15.9  12.0   7.3  12.0  12.1  11.0\n26        Севастополь   NaN   NaN   NaN  12.5   7.0  12.0   NaN   NaN\n27            Україна  22.8  20.5  15.2  12.6   7.8  11.4  11.1   8.1",
      "text/html": "<div>\n<style scoped>\n    .dataframe tbody tr th:only-of-type {\n        vertical-align: middle;\n    }\n\n    .dataframe tbody tr th {\n        vertical-align: top;\n    }\n\n    .dataframe thead th {\n        text-align: right;\n    }\n</style>\n<table border=\"1\" class=\"dataframe\">\n  <thead>\n    <tr style=\"text-align: right;\">\n      <th></th>\n      <th>Регіон</th>\n      <th>1950</th>\n      <th>1960</th>\n      <th>1970</th>\n      <th>1990</th>\n      <th>2000</th>\n      <th>2012</th>\n      <th>2014</th>\n      <th>2019</th>\n    </tr>\n  </thead>\n  <tbody>\n    <tr>\n      <th>0</th>\n      <td>Крим</td>\n      <td>23.0</td>\n      <td>20.6</td>\n      <td>16.0</td>\n      <td>13.0</td>\n      <td>7.3</td>\n      <td>12.6</td>\n      <td>NaN</td>\n      <td>NaN</td>\n    </tr>\n    <tr>\n      <th>1</th>\n      <td>Вінницька</td>\n      <td>22.4</td>\n      <td>19.2</td>\n      <td>14.2</td>\n      <td>12.4</td>\n      <td>8.4</td>\n      <td>11.2</td>\n      <td>10.9</td>\n      <td>7.6</td>\n    </tr>\n    <tr>\n      <th>2</th>\n      <td>Волинська</td>\n      <td>24.7</td>\n      <td>25.0</td>\n      <td>17.9</td>\n      <td>15.3</td>\n      <td>11.2</td>\n      <td>14.8</td>\n      <td>14.1</td>\n      <td>10.1</td>\n    </tr>\n    <tr>\n      <th>3</th>\n      <td>Дніпропетровська</td>\n      <td>20.4</td>\n      <td>20.4</td>\n      <td>15.1</td>\n      <td>12.3</td>\n      <td>7.1</td>\n      <td>11.2</td>\n      <td>11.1</td>\n      <td>7.1</td>\n    </tr>\n    <tr>\n      <th>4</th>\n      <td>Донецька</td>\n      <td>27.1</td>\n      <td>21.4</td>\n      <td>14.0</td>\n      <td>10.9</td>\n      <td>6.1</td>\n      <td>9.8</td>\n      <td>8.2</td>\n      <td>NaN</td>\n    </tr>\n    <tr>\n      <th>5</th>\n      <td>Житомирська</td>\n      <td>26.1</td>\n      <td>22.3</td>\n      <td>15.9</td>\n      <td>12.9</td>\n      <td>8.9</td>\n      <td>12.2</td>\n      <td>12.0</td>\n      <td>7.9</td>\n    </tr>\n    <tr>\n      <th>6</th>\n      <td>Закарпатська</td>\n      <td>31.4</td>\n      <td>27.3</td>\n      <td>20.7</td>\n      <td>16.8</td>\n      <td>11.5</td>\n      <td>15.1</td>\n      <td>14.6</td>\n      <td>10.4</td>\n    </tr>\n    <tr>\n      <th>7</th>\n      <td>Запорізька</td>\n      <td>21.9</td>\n      <td>19.7</td>\n      <td>15.0</td>\n      <td>12.4</td>\n      <td>7.1</td>\n      <td>10.6</td>\n      <td>10.6</td>\n      <td>6.8</td>\n    </tr>\n    <tr>\n      <th>8</th>\n      <td>Івано-Франківська</td>\n      <td>24.3</td>\n      <td>24.8</td>\n      <td>18.2</td>\n      <td>15.5</td>\n      <td>10.3</td>\n      <td>12.4</td>\n      <td>12.2</td>\n      <td>8.8</td>\n    </tr>\n    <tr>\n      <th>9</th>\n      <td>Київська</td>\n      <td>20.4</td>\n      <td>18.9</td>\n      <td>15.6</td>\n      <td>12.3</td>\n      <td>7.3</td>\n      <td>12.2</td>\n      <td>12.1</td>\n      <td>8.0</td>\n    </tr>\n    <tr>\n      <th>10</th>\n      <td>Кіровоградська</td>\n      <td>21.6</td>\n      <td>17.1</td>\n      <td>14.5</td>\n      <td>12.6</td>\n      <td>7.9</td>\n      <td>11.0</td>\n      <td>10.8</td>\n      <td>6.8</td>\n    </tr>\n    <tr>\n      <th>11</th>\n      <td>Луганська</td>\n      <td>26.2</td>\n      <td>23.5</td>\n      <td>14.4</td>\n      <td>11.6</td>\n      <td>6.2</td>\n      <td>9.6</td>\n      <td>5.1</td>\n      <td>NaN</td>\n    </tr>\n    <tr>\n      <th>12</th>\n      <td>Львівська</td>\n      <td>23.4</td>\n      <td>24.0</td>\n      <td>17.1</td>\n      <td>14.0</td>\n      <td>9.1</td>\n      <td>11.9</td>\n      <td>11.9</td>\n      <td>8.7</td>\n    </tr>\n    <tr>\n      <th>13</th>\n      <td>Миколаївська</td>\n      <td>21.1</td>\n      <td>19.4</td>\n      <td>15.5</td>\n      <td>13.7</td>\n      <td>8.0</td>\n      <td>11.5</td>\n      <td>11.2</td>\n      <td>7.1</td>\n    </tr>\n    <tr>\n      <th>14</th>\n      <td>Одеська</td>\n      <td>24.1</td>\n      <td>19.2</td>\n      <td>14.8</td>\n      <td>12.6</td>\n      <td>8.0</td>\n      <td>12.7</td>\n      <td>12.3</td>\n      <td>8.8</td>\n    </tr>\n    <tr>\n      <th>15</th>\n      <td>Полтавська</td>\n      <td>18.6</td>\n      <td>16.3</td>\n      <td>13.1</td>\n      <td>11.8</td>\n      <td>7.0</td>\n      <td>9.9</td>\n      <td>10.0</td>\n      <td>6.5</td>\n    </tr>\n    <tr>\n      <th>16</th>\n      <td>Рівненська</td>\n      <td>26.9</td>\n      <td>26.7</td>\n      <td>19.3</td>\n      <td>15.8</td>\n      <td>11.8</td>\n      <td>15.9</td>\n      <td>14.8</td>\n      <td>10.7</td>\n    </tr>\n    <tr>\n      <th>17</th>\n      <td>Сумська</td>\n      <td>21.6</td>\n      <td>18.4</td>\n      <td>13.2</td>\n      <td>11.5</td>\n      <td>7.0</td>\n      <td>9.7</td>\n      <td>9.2</td>\n      <td>6.0</td>\n    </tr>\n    <tr>\n      <th>18</th>\n      <td>Тернопільська</td>\n      <td>21.3</td>\n      <td>21.6</td>\n      <td>15.7</td>\n      <td>14.2</td>\n      <td>9.2</td>\n      <td>11.3</td>\n      <td>10.9</td>\n      <td>7.6</td>\n    </tr>\n    <tr>\n      <th>19</th>\n      <td>Харківська</td>\n      <td>19.7</td>\n      <td>17.3</td>\n      <td>14.0</td>\n      <td>11.4</td>\n      <td>6.8</td>\n      <td>9.9</td>\n      <td>10.1</td>\n      <td>6.8</td>\n    </tr>\n    <tr>\n      <th>20</th>\n      <td>Херсонська</td>\n      <td>20.8</td>\n      <td>21.4</td>\n      <td>16.6</td>\n      <td>14.3</td>\n      <td>8.5</td>\n      <td>11.7</td>\n      <td>11.5</td>\n      <td>8.1</td>\n    </tr>\n    <tr>\n      <th>21</th>\n      <td>Хмельницька</td>\n      <td>23.4</td>\n      <td>19.8</td>\n      <td>14.8</td>\n      <td>12.9</td>\n      <td>8.5</td>\n      <td>11.3</td>\n      <td>11.2</td>\n      <td>7.9</td>\n    </tr>\n    <tr>\n      <th>22</th>\n      <td>Черкаська</td>\n      <td>20.5</td>\n      <td>17.9</td>\n      <td>14.4</td>\n      <td>12.3</td>\n      <td>7.5</td>\n      <td>10.0</td>\n      <td>9.8</td>\n      <td>6.4</td>\n    </tr>\n    <tr>\n      <th>23</th>\n      <td>Чернівецька</td>\n      <td>24.7</td>\n      <td>21.8</td>\n      <td>17.0</td>\n      <td>14.8</td>\n      <td>10.1</td>\n      <td>12.8</td>\n      <td>12.9</td>\n      <td>9.2</td>\n    </tr>\n    <tr>\n      <th>24</th>\n      <td>Чернігівська</td>\n      <td>22.0</td>\n      <td>18.3</td>\n      <td>12.7</td>\n      <td>10.8</td>\n      <td>6.9</td>\n      <td>9.4</td>\n      <td>9.0</td>\n      <td>6.1</td>\n    </tr>\n    <tr>\n      <th>25</th>\n      <td>Київ</td>\n      <td>NaN</td>\n      <td>17.4</td>\n      <td>15.9</td>\n      <td>12.0</td>\n      <td>7.3</td>\n      <td>12.0</td>\n      <td>12.1</td>\n      <td>11.0</td>\n    </tr>\n    <tr>\n      <th>26</th>\n      <td>Севастополь</td>\n      <td>NaN</td>\n      <td>NaN</td>\n      <td>NaN</td>\n      <td>12.5</td>\n      <td>7.0</td>\n      <td>12.0</td>\n      <td>NaN</td>\n      <td>NaN</td>\n    </tr>\n    <tr>\n      <th>27</th>\n      <td>Україна</td>\n      <td>22.8</td>\n      <td>20.5</td>\n      <td>15.2</td>\n      <td>12.6</td>\n      <td>7.8</td>\n      <td>11.4</td>\n      <td>11.1</td>\n      <td>8.1</td>\n    </tr>\n  </tbody>\n</table>\n</div>"
     },
     "execution_count": 12,
     "metadata": {},
     "output_type": "execute_result"
    }
   ],
   "source": [
    "coefficient_table"
   ],
   "metadata": {
    "collapsed": false,
    "ExecuteTime": {
     "end_time": "2024-02-19T23:56:13.333024Z",
     "start_time": "2024-02-19T23:56:13.332602Z"
    }
   },
   "id": "c07e9e510005be36",
   "execution_count": 12
  },
  {
   "cell_type": "code",
   "outputs": [
    {
     "ename": "TypeError",
     "evalue": "Could not convert ['КримВінницькаВолинськаДніпропетровськаДонецькаЖитомирськаЗакарпатськаЗапорізькаІвано-ФранківськаКиївськаКіровоградськаЛуганськаЛьвівськаМиколаївськаОдеськаПолтавськаРівненськаСумськаТернопільськаХарківськаХерсонськаХмельницькаЧеркаськаЧернівецькаЧернігівськаКиївСевастопольУкраїна'] to numeric",
     "output_type": "error",
     "traceback": [
      "\u001B[0;31m---------------------------------------------------------------------------\u001B[0m",
      "\u001B[0;31mTypeError\u001B[0m                                 Traceback (most recent call last)",
      "Cell \u001B[0;32mIn[21], line 1\u001B[0m\n\u001B[0;32m----> 1\u001B[0m coefficient_table \u001B[38;5;241m=\u001B[39m coefficient_table\u001B[38;5;241m.\u001B[39mfillna(\u001B[43mcoefficient_table\u001B[49m\u001B[38;5;241;43m.\u001B[39;49m\u001B[43mmean\u001B[49m\u001B[43m(\u001B[49m\u001B[43m)\u001B[49m, axis\u001B[38;5;241m=\u001B[39m\u001B[38;5;241m1\u001B[39m)\n",
      "File \u001B[0;32m/Library/Frameworks/Python.framework/Versions/3.11/lib/python3.11/site-packages/pandas/core/frame.py:11338\u001B[0m, in \u001B[0;36mDataFrame.mean\u001B[0;34m(self, axis, skipna, numeric_only, **kwargs)\u001B[0m\n\u001B[1;32m  11330\u001B[0m \u001B[38;5;129m@doc\u001B[39m(make_doc(\u001B[38;5;124m\"\u001B[39m\u001B[38;5;124mmean\u001B[39m\u001B[38;5;124m\"\u001B[39m, ndim\u001B[38;5;241m=\u001B[39m\u001B[38;5;241m2\u001B[39m))\n\u001B[1;32m  11331\u001B[0m \u001B[38;5;28;01mdef\u001B[39;00m \u001B[38;5;21mmean\u001B[39m(\n\u001B[1;32m  11332\u001B[0m     \u001B[38;5;28mself\u001B[39m,\n\u001B[0;32m   (...)\u001B[0m\n\u001B[1;32m  11336\u001B[0m     \u001B[38;5;241m*\u001B[39m\u001B[38;5;241m*\u001B[39mkwargs,\n\u001B[1;32m  11337\u001B[0m ):\n\u001B[0;32m> 11338\u001B[0m     result \u001B[38;5;241m=\u001B[39m \u001B[38;5;28;43msuper\u001B[39;49m\u001B[43m(\u001B[49m\u001B[43m)\u001B[49m\u001B[38;5;241;43m.\u001B[39;49m\u001B[43mmean\u001B[49m\u001B[43m(\u001B[49m\u001B[43maxis\u001B[49m\u001B[43m,\u001B[49m\u001B[43m \u001B[49m\u001B[43mskipna\u001B[49m\u001B[43m,\u001B[49m\u001B[43m \u001B[49m\u001B[43mnumeric_only\u001B[49m\u001B[43m,\u001B[49m\u001B[43m \u001B[49m\u001B[38;5;241;43m*\u001B[39;49m\u001B[38;5;241;43m*\u001B[39;49m\u001B[43mkwargs\u001B[49m\u001B[43m)\u001B[49m\n\u001B[1;32m  11339\u001B[0m     \u001B[38;5;28;01mif\u001B[39;00m \u001B[38;5;28misinstance\u001B[39m(result, Series):\n\u001B[1;32m  11340\u001B[0m         result \u001B[38;5;241m=\u001B[39m result\u001B[38;5;241m.\u001B[39m__finalize__(\u001B[38;5;28mself\u001B[39m, method\u001B[38;5;241m=\u001B[39m\u001B[38;5;124m\"\u001B[39m\u001B[38;5;124mmean\u001B[39m\u001B[38;5;124m\"\u001B[39m)\n",
      "File \u001B[0;32m/Library/Frameworks/Python.framework/Versions/3.11/lib/python3.11/site-packages/pandas/core/generic.py:11978\u001B[0m, in \u001B[0;36mNDFrame.mean\u001B[0;34m(self, axis, skipna, numeric_only, **kwargs)\u001B[0m\n\u001B[1;32m  11971\u001B[0m \u001B[38;5;28;01mdef\u001B[39;00m \u001B[38;5;21mmean\u001B[39m(\n\u001B[1;32m  11972\u001B[0m     \u001B[38;5;28mself\u001B[39m,\n\u001B[1;32m  11973\u001B[0m     axis: Axis \u001B[38;5;241m|\u001B[39m \u001B[38;5;28;01mNone\u001B[39;00m \u001B[38;5;241m=\u001B[39m \u001B[38;5;241m0\u001B[39m,\n\u001B[0;32m   (...)\u001B[0m\n\u001B[1;32m  11976\u001B[0m     \u001B[38;5;241m*\u001B[39m\u001B[38;5;241m*\u001B[39mkwargs,\n\u001B[1;32m  11977\u001B[0m ) \u001B[38;5;241m-\u001B[39m\u001B[38;5;241m>\u001B[39m Series \u001B[38;5;241m|\u001B[39m \u001B[38;5;28mfloat\u001B[39m:\n\u001B[0;32m> 11978\u001B[0m     \u001B[38;5;28;01mreturn\u001B[39;00m \u001B[38;5;28;43mself\u001B[39;49m\u001B[38;5;241;43m.\u001B[39;49m\u001B[43m_stat_function\u001B[49m\u001B[43m(\u001B[49m\n\u001B[1;32m  11979\u001B[0m \u001B[43m        \u001B[49m\u001B[38;5;124;43m\"\u001B[39;49m\u001B[38;5;124;43mmean\u001B[39;49m\u001B[38;5;124;43m\"\u001B[39;49m\u001B[43m,\u001B[49m\u001B[43m \u001B[49m\u001B[43mnanops\u001B[49m\u001B[38;5;241;43m.\u001B[39;49m\u001B[43mnanmean\u001B[49m\u001B[43m,\u001B[49m\u001B[43m \u001B[49m\u001B[43maxis\u001B[49m\u001B[43m,\u001B[49m\u001B[43m \u001B[49m\u001B[43mskipna\u001B[49m\u001B[43m,\u001B[49m\u001B[43m \u001B[49m\u001B[43mnumeric_only\u001B[49m\u001B[43m,\u001B[49m\u001B[43m \u001B[49m\u001B[38;5;241;43m*\u001B[39;49m\u001B[38;5;241;43m*\u001B[39;49m\u001B[43mkwargs\u001B[49m\n\u001B[1;32m  11980\u001B[0m \u001B[43m    \u001B[49m\u001B[43m)\u001B[49m\n",
      "File \u001B[0;32m/Library/Frameworks/Python.framework/Versions/3.11/lib/python3.11/site-packages/pandas/core/generic.py:11935\u001B[0m, in \u001B[0;36mNDFrame._stat_function\u001B[0;34m(self, name, func, axis, skipna, numeric_only, **kwargs)\u001B[0m\n\u001B[1;32m  11931\u001B[0m nv\u001B[38;5;241m.\u001B[39mvalidate_func(name, (), kwargs)\n\u001B[1;32m  11933\u001B[0m validate_bool_kwarg(skipna, \u001B[38;5;124m\"\u001B[39m\u001B[38;5;124mskipna\u001B[39m\u001B[38;5;124m\"\u001B[39m, none_allowed\u001B[38;5;241m=\u001B[39m\u001B[38;5;28;01mFalse\u001B[39;00m)\n\u001B[0;32m> 11935\u001B[0m \u001B[38;5;28;01mreturn\u001B[39;00m \u001B[38;5;28;43mself\u001B[39;49m\u001B[38;5;241;43m.\u001B[39;49m\u001B[43m_reduce\u001B[49m\u001B[43m(\u001B[49m\n\u001B[1;32m  11936\u001B[0m \u001B[43m    \u001B[49m\u001B[43mfunc\u001B[49m\u001B[43m,\u001B[49m\u001B[43m \u001B[49m\u001B[43mname\u001B[49m\u001B[38;5;241;43m=\u001B[39;49m\u001B[43mname\u001B[49m\u001B[43m,\u001B[49m\u001B[43m \u001B[49m\u001B[43maxis\u001B[49m\u001B[38;5;241;43m=\u001B[39;49m\u001B[43maxis\u001B[49m\u001B[43m,\u001B[49m\u001B[43m \u001B[49m\u001B[43mskipna\u001B[49m\u001B[38;5;241;43m=\u001B[39;49m\u001B[43mskipna\u001B[49m\u001B[43m,\u001B[49m\u001B[43m \u001B[49m\u001B[43mnumeric_only\u001B[49m\u001B[38;5;241;43m=\u001B[39;49m\u001B[43mnumeric_only\u001B[49m\n\u001B[1;32m  11937\u001B[0m \u001B[43m\u001B[49m\u001B[43m)\u001B[49m\n",
      "File \u001B[0;32m/Library/Frameworks/Python.framework/Versions/3.11/lib/python3.11/site-packages/pandas/core/frame.py:11207\u001B[0m, in \u001B[0;36mDataFrame._reduce\u001B[0;34m(self, op, name, axis, skipna, numeric_only, filter_type, **kwds)\u001B[0m\n\u001B[1;32m  11203\u001B[0m     df \u001B[38;5;241m=\u001B[39m df\u001B[38;5;241m.\u001B[39mT\n\u001B[1;32m  11205\u001B[0m \u001B[38;5;66;03m# After possibly _get_data and transposing, we are now in the\u001B[39;00m\n\u001B[1;32m  11206\u001B[0m \u001B[38;5;66;03m#  simple case where we can use BlockManager.reduce\u001B[39;00m\n\u001B[0;32m> 11207\u001B[0m res \u001B[38;5;241m=\u001B[39m \u001B[43mdf\u001B[49m\u001B[38;5;241;43m.\u001B[39;49m\u001B[43m_mgr\u001B[49m\u001B[38;5;241;43m.\u001B[39;49m\u001B[43mreduce\u001B[49m\u001B[43m(\u001B[49m\u001B[43mblk_func\u001B[49m\u001B[43m)\u001B[49m\n\u001B[1;32m  11208\u001B[0m out \u001B[38;5;241m=\u001B[39m df\u001B[38;5;241m.\u001B[39m_constructor_from_mgr(res, axes\u001B[38;5;241m=\u001B[39mres\u001B[38;5;241m.\u001B[39maxes)\u001B[38;5;241m.\u001B[39miloc[\u001B[38;5;241m0\u001B[39m]\n\u001B[1;32m  11209\u001B[0m \u001B[38;5;28;01mif\u001B[39;00m out_dtype \u001B[38;5;129;01mis\u001B[39;00m \u001B[38;5;129;01mnot\u001B[39;00m \u001B[38;5;28;01mNone\u001B[39;00m \u001B[38;5;129;01mand\u001B[39;00m out\u001B[38;5;241m.\u001B[39mdtype \u001B[38;5;241m!=\u001B[39m \u001B[38;5;124m\"\u001B[39m\u001B[38;5;124mboolean\u001B[39m\u001B[38;5;124m\"\u001B[39m:\n",
      "File \u001B[0;32m/Library/Frameworks/Python.framework/Versions/3.11/lib/python3.11/site-packages/pandas/core/internals/managers.py:1459\u001B[0m, in \u001B[0;36mBlockManager.reduce\u001B[0;34m(self, func)\u001B[0m\n\u001B[1;32m   1457\u001B[0m res_blocks: \u001B[38;5;28mlist\u001B[39m[Block] \u001B[38;5;241m=\u001B[39m []\n\u001B[1;32m   1458\u001B[0m \u001B[38;5;28;01mfor\u001B[39;00m blk \u001B[38;5;129;01min\u001B[39;00m \u001B[38;5;28mself\u001B[39m\u001B[38;5;241m.\u001B[39mblocks:\n\u001B[0;32m-> 1459\u001B[0m     nbs \u001B[38;5;241m=\u001B[39m \u001B[43mblk\u001B[49m\u001B[38;5;241;43m.\u001B[39;49m\u001B[43mreduce\u001B[49m\u001B[43m(\u001B[49m\u001B[43mfunc\u001B[49m\u001B[43m)\u001B[49m\n\u001B[1;32m   1460\u001B[0m     res_blocks\u001B[38;5;241m.\u001B[39mextend(nbs)\n\u001B[1;32m   1462\u001B[0m index \u001B[38;5;241m=\u001B[39m Index([\u001B[38;5;28;01mNone\u001B[39;00m])  \u001B[38;5;66;03m# placeholder\u001B[39;00m\n",
      "File \u001B[0;32m/Library/Frameworks/Python.framework/Versions/3.11/lib/python3.11/site-packages/pandas/core/internals/blocks.py:377\u001B[0m, in \u001B[0;36mBlock.reduce\u001B[0;34m(self, func)\u001B[0m\n\u001B[1;32m    371\u001B[0m \u001B[38;5;129m@final\u001B[39m\n\u001B[1;32m    372\u001B[0m \u001B[38;5;28;01mdef\u001B[39;00m \u001B[38;5;21mreduce\u001B[39m(\u001B[38;5;28mself\u001B[39m, func) \u001B[38;5;241m-\u001B[39m\u001B[38;5;241m>\u001B[39m \u001B[38;5;28mlist\u001B[39m[Block]:\n\u001B[1;32m    373\u001B[0m     \u001B[38;5;66;03m# We will apply the function and reshape the result into a single-row\u001B[39;00m\n\u001B[1;32m    374\u001B[0m     \u001B[38;5;66;03m#  Block with the same mgr_locs; squeezing will be done at a higher level\u001B[39;00m\n\u001B[1;32m    375\u001B[0m     \u001B[38;5;28;01massert\u001B[39;00m \u001B[38;5;28mself\u001B[39m\u001B[38;5;241m.\u001B[39mndim \u001B[38;5;241m==\u001B[39m \u001B[38;5;241m2\u001B[39m\n\u001B[0;32m--> 377\u001B[0m     result \u001B[38;5;241m=\u001B[39m \u001B[43mfunc\u001B[49m\u001B[43m(\u001B[49m\u001B[38;5;28;43mself\u001B[39;49m\u001B[38;5;241;43m.\u001B[39;49m\u001B[43mvalues\u001B[49m\u001B[43m)\u001B[49m\n\u001B[1;32m    379\u001B[0m     \u001B[38;5;28;01mif\u001B[39;00m \u001B[38;5;28mself\u001B[39m\u001B[38;5;241m.\u001B[39mvalues\u001B[38;5;241m.\u001B[39mndim \u001B[38;5;241m==\u001B[39m \u001B[38;5;241m1\u001B[39m:\n\u001B[1;32m    380\u001B[0m         res_values \u001B[38;5;241m=\u001B[39m result\n",
      "File \u001B[0;32m/Library/Frameworks/Python.framework/Versions/3.11/lib/python3.11/site-packages/pandas/core/frame.py:11139\u001B[0m, in \u001B[0;36mDataFrame._reduce.<locals>.blk_func\u001B[0;34m(values, axis)\u001B[0m\n\u001B[1;32m  11137\u001B[0m         \u001B[38;5;28;01mreturn\u001B[39;00m np\u001B[38;5;241m.\u001B[39marray([result])\n\u001B[1;32m  11138\u001B[0m \u001B[38;5;28;01melse\u001B[39;00m:\n\u001B[0;32m> 11139\u001B[0m     \u001B[38;5;28;01mreturn\u001B[39;00m \u001B[43mop\u001B[49m\u001B[43m(\u001B[49m\u001B[43mvalues\u001B[49m\u001B[43m,\u001B[49m\u001B[43m \u001B[49m\u001B[43maxis\u001B[49m\u001B[38;5;241;43m=\u001B[39;49m\u001B[43maxis\u001B[49m\u001B[43m,\u001B[49m\u001B[43m \u001B[49m\u001B[43mskipna\u001B[49m\u001B[38;5;241;43m=\u001B[39;49m\u001B[43mskipna\u001B[49m\u001B[43m,\u001B[49m\u001B[43m \u001B[49m\u001B[38;5;241;43m*\u001B[39;49m\u001B[38;5;241;43m*\u001B[39;49m\u001B[43mkwds\u001B[49m\u001B[43m)\u001B[49m\n",
      "File \u001B[0;32m/Library/Frameworks/Python.framework/Versions/3.11/lib/python3.11/site-packages/pandas/core/nanops.py:147\u001B[0m, in \u001B[0;36mbottleneck_switch.__call__.<locals>.f\u001B[0;34m(values, axis, skipna, **kwds)\u001B[0m\n\u001B[1;32m    145\u001B[0m         result \u001B[38;5;241m=\u001B[39m alt(values, axis\u001B[38;5;241m=\u001B[39maxis, skipna\u001B[38;5;241m=\u001B[39mskipna, \u001B[38;5;241m*\u001B[39m\u001B[38;5;241m*\u001B[39mkwds)\n\u001B[1;32m    146\u001B[0m \u001B[38;5;28;01melse\u001B[39;00m:\n\u001B[0;32m--> 147\u001B[0m     result \u001B[38;5;241m=\u001B[39m \u001B[43malt\u001B[49m\u001B[43m(\u001B[49m\u001B[43mvalues\u001B[49m\u001B[43m,\u001B[49m\u001B[43m \u001B[49m\u001B[43maxis\u001B[49m\u001B[38;5;241;43m=\u001B[39;49m\u001B[43maxis\u001B[49m\u001B[43m,\u001B[49m\u001B[43m \u001B[49m\u001B[43mskipna\u001B[49m\u001B[38;5;241;43m=\u001B[39;49m\u001B[43mskipna\u001B[49m\u001B[43m,\u001B[49m\u001B[43m \u001B[49m\u001B[38;5;241;43m*\u001B[39;49m\u001B[38;5;241;43m*\u001B[39;49m\u001B[43mkwds\u001B[49m\u001B[43m)\u001B[49m\n\u001B[1;32m    149\u001B[0m \u001B[38;5;28;01mreturn\u001B[39;00m result\n",
      "File \u001B[0;32m/Library/Frameworks/Python.framework/Versions/3.11/lib/python3.11/site-packages/pandas/core/nanops.py:404\u001B[0m, in \u001B[0;36m_datetimelike_compat.<locals>.new_func\u001B[0;34m(values, axis, skipna, mask, **kwargs)\u001B[0m\n\u001B[1;32m    401\u001B[0m \u001B[38;5;28;01mif\u001B[39;00m datetimelike \u001B[38;5;129;01mand\u001B[39;00m mask \u001B[38;5;129;01mis\u001B[39;00m \u001B[38;5;28;01mNone\u001B[39;00m:\n\u001B[1;32m    402\u001B[0m     mask \u001B[38;5;241m=\u001B[39m isna(values)\n\u001B[0;32m--> 404\u001B[0m result \u001B[38;5;241m=\u001B[39m \u001B[43mfunc\u001B[49m\u001B[43m(\u001B[49m\u001B[43mvalues\u001B[49m\u001B[43m,\u001B[49m\u001B[43m \u001B[49m\u001B[43maxis\u001B[49m\u001B[38;5;241;43m=\u001B[39;49m\u001B[43maxis\u001B[49m\u001B[43m,\u001B[49m\u001B[43m \u001B[49m\u001B[43mskipna\u001B[49m\u001B[38;5;241;43m=\u001B[39;49m\u001B[43mskipna\u001B[49m\u001B[43m,\u001B[49m\u001B[43m \u001B[49m\u001B[43mmask\u001B[49m\u001B[38;5;241;43m=\u001B[39;49m\u001B[43mmask\u001B[49m\u001B[43m,\u001B[49m\u001B[43m \u001B[49m\u001B[38;5;241;43m*\u001B[39;49m\u001B[38;5;241;43m*\u001B[39;49m\u001B[43mkwargs\u001B[49m\u001B[43m)\u001B[49m\n\u001B[1;32m    406\u001B[0m \u001B[38;5;28;01mif\u001B[39;00m datetimelike:\n\u001B[1;32m    407\u001B[0m     result \u001B[38;5;241m=\u001B[39m _wrap_results(result, orig_values\u001B[38;5;241m.\u001B[39mdtype, fill_value\u001B[38;5;241m=\u001B[39miNaT)\n",
      "File \u001B[0;32m/Library/Frameworks/Python.framework/Versions/3.11/lib/python3.11/site-packages/pandas/core/nanops.py:720\u001B[0m, in \u001B[0;36mnanmean\u001B[0;34m(values, axis, skipna, mask)\u001B[0m\n\u001B[1;32m    718\u001B[0m count \u001B[38;5;241m=\u001B[39m _get_counts(values\u001B[38;5;241m.\u001B[39mshape, mask, axis, dtype\u001B[38;5;241m=\u001B[39mdtype_count)\n\u001B[1;32m    719\u001B[0m the_sum \u001B[38;5;241m=\u001B[39m values\u001B[38;5;241m.\u001B[39msum(axis, dtype\u001B[38;5;241m=\u001B[39mdtype_sum)\n\u001B[0;32m--> 720\u001B[0m the_sum \u001B[38;5;241m=\u001B[39m \u001B[43m_ensure_numeric\u001B[49m\u001B[43m(\u001B[49m\u001B[43mthe_sum\u001B[49m\u001B[43m)\u001B[49m\n\u001B[1;32m    722\u001B[0m \u001B[38;5;28;01mif\u001B[39;00m axis \u001B[38;5;129;01mis\u001B[39;00m \u001B[38;5;129;01mnot\u001B[39;00m \u001B[38;5;28;01mNone\u001B[39;00m \u001B[38;5;129;01mand\u001B[39;00m \u001B[38;5;28mgetattr\u001B[39m(the_sum, \u001B[38;5;124m\"\u001B[39m\u001B[38;5;124mndim\u001B[39m\u001B[38;5;124m\"\u001B[39m, \u001B[38;5;28;01mFalse\u001B[39;00m):\n\u001B[1;32m    723\u001B[0m     count \u001B[38;5;241m=\u001B[39m cast(np\u001B[38;5;241m.\u001B[39mndarray, count)\n",
      "File \u001B[0;32m/Library/Frameworks/Python.framework/Versions/3.11/lib/python3.11/site-packages/pandas/core/nanops.py:1678\u001B[0m, in \u001B[0;36m_ensure_numeric\u001B[0;34m(x)\u001B[0m\n\u001B[1;32m   1675\u001B[0m inferred \u001B[38;5;241m=\u001B[39m lib\u001B[38;5;241m.\u001B[39minfer_dtype(x)\n\u001B[1;32m   1676\u001B[0m \u001B[38;5;28;01mif\u001B[39;00m inferred \u001B[38;5;129;01min\u001B[39;00m [\u001B[38;5;124m\"\u001B[39m\u001B[38;5;124mstring\u001B[39m\u001B[38;5;124m\"\u001B[39m, \u001B[38;5;124m\"\u001B[39m\u001B[38;5;124mmixed\u001B[39m\u001B[38;5;124m\"\u001B[39m]:\n\u001B[1;32m   1677\u001B[0m     \u001B[38;5;66;03m# GH#44008, GH#36703 avoid casting e.g. strings to numeric\u001B[39;00m\n\u001B[0;32m-> 1678\u001B[0m     \u001B[38;5;28;01mraise\u001B[39;00m \u001B[38;5;167;01mTypeError\u001B[39;00m(\u001B[38;5;124mf\u001B[39m\u001B[38;5;124m\"\u001B[39m\u001B[38;5;124mCould not convert \u001B[39m\u001B[38;5;132;01m{\u001B[39;00mx\u001B[38;5;132;01m}\u001B[39;00m\u001B[38;5;124m to numeric\u001B[39m\u001B[38;5;124m\"\u001B[39m)\n\u001B[1;32m   1679\u001B[0m \u001B[38;5;28;01mtry\u001B[39;00m:\n\u001B[1;32m   1680\u001B[0m     x \u001B[38;5;241m=\u001B[39m x\u001B[38;5;241m.\u001B[39mastype(np\u001B[38;5;241m.\u001B[39mcomplex128)\n",
      "\u001B[0;31mTypeError\u001B[0m: Could not convert ['КримВінницькаВолинськаДніпропетровськаДонецькаЖитомирськаЗакарпатськаЗапорізькаІвано-ФранківськаКиївськаКіровоградськаЛуганськаЛьвівськаМиколаївськаОдеськаПолтавськаРівненськаСумськаТернопільськаХарківськаХерсонськаХмельницькаЧеркаськаЧернівецькаЧернігівськаКиївСевастопольУкраїна'] to numeric"
     ]
    }
   ],
   "source": [
    "coefficient_table = coefficient_table.fillna(coefficient_table.mean(), axis=1)"
   ],
   "metadata": {
    "collapsed": false,
    "ExecuteTime": {
     "end_time": "2024-02-20T00:02:47.256870Z",
     "start_time": "2024-02-20T00:02:47.193039Z"
    }
   },
   "id": "f2c41df29c38c3e8",
   "execution_count": 21
  }
 ],
 "metadata": {
  "kernelspec": {
   "display_name": "Python 3",
   "language": "python",
   "name": "python3"
  },
  "language_info": {
   "codemirror_mode": {
    "name": "ipython",
    "version": 2
   },
   "file_extension": ".py",
   "mimetype": "text/x-python",
   "name": "python",
   "nbconvert_exporter": "python",
   "pygments_lexer": "ipython2",
   "version": "2.7.6"
  }
 },
 "nbformat": 4,
 "nbformat_minor": 5
}
