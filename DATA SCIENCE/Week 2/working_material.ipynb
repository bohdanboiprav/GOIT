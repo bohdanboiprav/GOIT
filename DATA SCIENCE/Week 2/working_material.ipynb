{
 "cells": [
  {
   "cell_type": "code",
   "execution_count": 3,
   "id": "initial_id",
   "metadata": {
    "collapsed": true,
    "ExecuteTime": {
     "end_time": "2024-02-06T20:58:19.522405Z",
     "start_time": "2024-02-06T20:58:19.480261Z"
    }
   },
   "outputs": [
    {
     "data": {
      "text/plain": "4    1\n0    2\n1    2\n2    2\n6    3\n7    4\n3    5\n5    7\ndtype: int64"
     },
     "execution_count": 3,
     "metadata": {},
     "output_type": "execute_result"
    }
   ],
   "source": [
    "import numpy as np\n",
    "import pandas as pd\n",
    "\n",
    "a = pd.Series([2, 2, 2, 5, 1, 7, 3, 4])\n",
    "a.sort_values()\n",
    "# a.median()"
   ]
  }
 ],
 "metadata": {
  "kernelspec": {
   "display_name": "Python 3",
   "language": "python",
   "name": "python3"
  },
  "language_info": {
   "codemirror_mode": {
    "name": "ipython",
    "version": 2
   },
   "file_extension": ".py",
   "mimetype": "text/x-python",
   "name": "python",
   "nbconvert_exporter": "python",
   "pygments_lexer": "ipython2",
   "version": "2.7.6"
  }
 },
 "nbformat": 4,
 "nbformat_minor": 5
}
