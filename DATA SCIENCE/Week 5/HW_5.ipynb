{
 "cells": [
  {
   "cell_type": "code",
   "execution_count": 1,
   "id": "initial_id",
   "metadata": {
    "collapsed": true,
    "ExecuteTime": {
     "end_time": "2024-03-24T14:05:47.054619Z",
     "start_time": "2024-03-24T14:05:45.177259Z"
    }
   },
   "outputs": [],
   "source": [
    "import pandas as pd\n",
    "import numpy as np\n",
    "import matplotlib.pyplot as plt"
   ]
  },
  {
   "cell_type": "code",
   "outputs": [],
   "source": [
    "import os\n",
    "\n",
    "directory = os.listdir('data')\n",
    "inpDf = pd.DataFrame()\n",
    "for _ in directory:\n",
    "    for j in os.listdir('data/' + _):\n",
    "        data = pd.read_csv('data/' + _ + '/' + j)\n",
    "        data['type'] = _\n",
    "        inpDf = pd.concat([inpDf, data])"
   ],
   "metadata": {
    "collapsed": false,
    "ExecuteTime": {
     "end_time": "2024-03-24T15:20:58.475211Z",
     "start_time": "2024-03-24T15:20:50.519290Z"
    }
   },
   "id": "fe7523d31e7296ef",
   "execution_count": 14
  },
  {
   "cell_type": "code",
   "outputs": [
    {
     "data": {
      "text/plain": "        accelerometer_X  accelerometer_Y  accelerometer_Z     type\n0              1.757344        -5.875371        -3.878607  running\n1              2.461239        12.986150         1.762132  running\n2             22.682667        22.922087        -1.738190  running\n3             11.875240         4.611233        -8.389283  running\n4             -5.295974         4.783615        -1.273715  running\n...                 ...              ...              ...      ...\n193855        -4.137180        -4.429273        -1.517924   stairs\n193856         1.829170        -9.313444        -0.330400   stairs\n193857        -7.350199       -12.670115        -1.460463   stairs\n193858         3.969586        -6.320692         9.255983   stairs\n193859         1.747767         2.920926         7.910443   stairs\n\n[193860 rows x 4 columns]",
      "text/html": "<div>\n<style scoped>\n    .dataframe tbody tr th:only-of-type {\n        vertical-align: middle;\n    }\n\n    .dataframe tbody tr th {\n        vertical-align: top;\n    }\n\n    .dataframe thead th {\n        text-align: right;\n    }\n</style>\n<table border=\"1\" class=\"dataframe\">\n  <thead>\n    <tr style=\"text-align: right;\">\n      <th></th>\n      <th>accelerometer_X</th>\n      <th>accelerometer_Y</th>\n      <th>accelerometer_Z</th>\n      <th>type</th>\n    </tr>\n  </thead>\n  <tbody>\n    <tr>\n      <th>0</th>\n      <td>1.757344</td>\n      <td>-5.875371</td>\n      <td>-3.878607</td>\n      <td>running</td>\n    </tr>\n    <tr>\n      <th>1</th>\n      <td>2.461239</td>\n      <td>12.986150</td>\n      <td>1.762132</td>\n      <td>running</td>\n    </tr>\n    <tr>\n      <th>2</th>\n      <td>22.682667</td>\n      <td>22.922087</td>\n      <td>-1.738190</td>\n      <td>running</td>\n    </tr>\n    <tr>\n      <th>3</th>\n      <td>11.875240</td>\n      <td>4.611233</td>\n      <td>-8.389283</td>\n      <td>running</td>\n    </tr>\n    <tr>\n      <th>4</th>\n      <td>-5.295974</td>\n      <td>4.783615</td>\n      <td>-1.273715</td>\n      <td>running</td>\n    </tr>\n    <tr>\n      <th>...</th>\n      <td>...</td>\n      <td>...</td>\n      <td>...</td>\n      <td>...</td>\n    </tr>\n    <tr>\n      <th>193855</th>\n      <td>-4.137180</td>\n      <td>-4.429273</td>\n      <td>-1.517924</td>\n      <td>stairs</td>\n    </tr>\n    <tr>\n      <th>193856</th>\n      <td>1.829170</td>\n      <td>-9.313444</td>\n      <td>-0.330400</td>\n      <td>stairs</td>\n    </tr>\n    <tr>\n      <th>193857</th>\n      <td>-7.350199</td>\n      <td>-12.670115</td>\n      <td>-1.460463</td>\n      <td>stairs</td>\n    </tr>\n    <tr>\n      <th>193858</th>\n      <td>3.969586</td>\n      <td>-6.320692</td>\n      <td>9.255983</td>\n      <td>stairs</td>\n    </tr>\n    <tr>\n      <th>193859</th>\n      <td>1.747767</td>\n      <td>2.920926</td>\n      <td>7.910443</td>\n      <td>stairs</td>\n    </tr>\n  </tbody>\n</table>\n<p>193860 rows × 4 columns</p>\n</div>"
     },
     "execution_count": 27,
     "metadata": {},
     "output_type": "execute_result"
    }
   ],
   "source": [
    "from sklearn.preprocessing import StandardScaler\n",
    "scaler = StandardScaler()\n",
    "# scaler.fit(inpDf[['accelerometer_X', 'accelerometer_Y', 'accelerometer_Z']])\n",
    "# inpDf[['accelerometer_X', 'accelerometer_Y', 'accelerometer_Z']] = scaler.transform(inpDf[['accelerometer_X', 'accelerometer_Y', 'accelerometer_Z']])"
   ],
   "metadata": {
    "collapsed": false,
    "ExecuteTime": {
     "end_time": "2024-03-24T17:33:54.130729Z",
     "start_time": "2024-03-24T17:33:54.123453Z"
    }
   },
   "id": "6051da910e85ba95",
   "execution_count": 27
  },
  {
   "cell_type": "code",
   "outputs": [],
   "source": [
    "segment_length = 208\n",
    "step = 104\n",
    "segments = []\n",
    "labels = []\n",
    "\n",
    "for start_pos in range(0, len(complete_data) - segment_length + 1, step):\n",
    "    segment = complete_data.iloc[start_pos:start_pos + segment_length]\n",
    "\n",
    "    features = {\n",
    "        'mean_X': segment['accelerometer_X'].mean(),\n",
    "        'std_X': segment['accelerometer_X'].std(),\n",
    "        'median_X': segment['accelerometer_X'].median(),\n",
    "        'max_X': segment['accelerometer_X'].max(),\n",
    "        'min_X': segment['accelerometer_X'].min(),\n",
    "        'range_X': segment['accelerometer_X'].max() - segment['accelerometer_X'].min(),\n",
    "        '25%_X': segment['accelerometer_X'].quantile(0.25),\n",
    "        '75%_X': segment['accelerometer_X'].quantile(0.75),\n",
    "        'mean_Y': segment['accelerometer_Y'].mean(),\n",
    "        'std_Y': segment['accelerometer_Y'].std(),\n",
    "        'median_Y': segment['accelerometer_Y'].median(),\n",
    "        'max_Y': segment['accelerometer_Y'].max(),\n",
    "        'min_Y': segment['accelerometer_Y'].min(),\n",
    "        'range_Y': segment['accelerometer_Y'].max() - segment['accelerometer_Y'].min(),\n",
    "        '25%_Y': segment['accelerometer_Y'].quantile(0.25),\n",
    "        '75%_Y': segment['accelerometer_Y'].quantile(0.75),\n",
    "        'mean_Z': segment['accelerometer_Z'].mean(),\n",
    "        'std_Z': segment['accelerometer_Z'].std(),\n",
    "        'median_Z': segment['accelerometer_Z'].median(),\n",
    "        'max_Z': segment['accelerometer_Z'].max(),\n",
    "        'min_Z': segment['accelerometer_Z'].min(),\n",
    "        'range_Z': segment['accelerometer_Z'].max() - segment['accelerometer_Z'].min(),\n",
    "        '25%_Z': segment['accelerometer_Z'].quantile(0.25),\n",
    "        '75%_Z': segment['accelerometer_Z'].quantile(0.75)\n",
    "    }\n",
    "\n",
    "    segments.append(features)\n",
    "    labels.append(segment['Activity'].iloc[0])\n",
    "\n",
    "features_df = pd.DataFrame(segments)\n",
    "features_df['Activity'] = labels\n",
    "\n",
    "features_df"
   ],
   "metadata": {
    "collapsed": false
   },
   "id": "911649db13ef759b"
  }
 ],
 "metadata": {
  "kernelspec": {
   "display_name": "Python 3",
   "language": "python",
   "name": "python3"
  },
  "language_info": {
   "codemirror_mode": {
    "name": "ipython",
    "version": 2
   },
   "file_extension": ".py",
   "mimetype": "text/x-python",
   "name": "python",
   "nbconvert_exporter": "python",
   "pygments_lexer": "ipython2",
   "version": "2.7.6"
  }
 },
 "nbformat": 4,
 "nbformat_minor": 5
}
