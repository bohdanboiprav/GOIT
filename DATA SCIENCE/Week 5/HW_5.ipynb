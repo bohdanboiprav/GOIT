{
 "cells": [
  {
   "cell_type": "code",
   "execution_count": 1,
   "id": "initial_id",
   "metadata": {
    "collapsed": true,
    "ExecuteTime": {
     "end_time": "2024-03-24T14:05:47.054619Z",
     "start_time": "2024-03-24T14:05:45.177259Z"
    }
   },
   "outputs": [],
   "source": [
    "import pandas as pd\n",
    "import numpy as np\n",
    "import matplotlib.pyplot as plt"
   ]
  },
  {
   "cell_type": "code",
   "outputs": [],
   "source": [
    "import os\n",
    "\n",
    "directory = os.listdir('data')\n",
    "inpDf = pd.DataFrame()\n",
    "for _ in directory:\n",
    "    for j in os.listdir('data/' + _):\n",
    "        data = pd.read_csv('data/' + _ + '/' + j)\n",
    "        data['type'] = _\n",
    "        inpDf = pd.concat([inpDf, data])"
   ],
   "metadata": {
    "collapsed": false,
    "ExecuteTime": {
     "end_time": "2024-03-24T15:20:58.475211Z",
     "start_time": "2024-03-24T15:20:50.519290Z"
    }
   },
   "id": "fe7523d31e7296ef",
   "execution_count": 14
  },
  {
   "cell_type": "code",
   "outputs": [
    {
     "data": {
      "text/plain": "        accelerometer_X  accelerometer_Y  accelerometer_Z     type\n0              1.757344        -5.875371        -3.878607  running\n1              2.461239        12.986150         1.762132  running\n2             22.682667        22.922087        -1.738190  running\n3             11.875240         4.611233        -8.389283  running\n4             -5.295974         4.783615        -1.273715  running\n...                 ...              ...              ...      ...\n193855        -4.137180        -4.429273        -1.517924   stairs\n193856         1.829170        -9.313444        -0.330400   stairs\n193857        -7.350199       -12.670115        -1.460463   stairs\n193858         3.969586        -6.320692         9.255983   stairs\n193859         1.747767         2.920926         7.910443   stairs\n\n[193860 rows x 4 columns]",
      "text/html": "<div>\n<style scoped>\n    .dataframe tbody tr th:only-of-type {\n        vertical-align: middle;\n    }\n\n    .dataframe tbody tr th {\n        vertical-align: top;\n    }\n\n    .dataframe thead th {\n        text-align: right;\n    }\n</style>\n<table border=\"1\" class=\"dataframe\">\n  <thead>\n    <tr style=\"text-align: right;\">\n      <th></th>\n      <th>accelerometer_X</th>\n      <th>accelerometer_Y</th>\n      <th>accelerometer_Z</th>\n      <th>type</th>\n    </tr>\n  </thead>\n  <tbody>\n    <tr>\n      <th>0</th>\n      <td>1.757344</td>\n      <td>-5.875371</td>\n      <td>-3.878607</td>\n      <td>running</td>\n    </tr>\n    <tr>\n      <th>1</th>\n      <td>2.461239</td>\n      <td>12.986150</td>\n      <td>1.762132</td>\n      <td>running</td>\n    </tr>\n    <tr>\n      <th>2</th>\n      <td>22.682667</td>\n      <td>22.922087</td>\n      <td>-1.738190</td>\n      <td>running</td>\n    </tr>\n    <tr>\n      <th>3</th>\n      <td>11.875240</td>\n      <td>4.611233</td>\n      <td>-8.389283</td>\n      <td>running</td>\n    </tr>\n    <tr>\n      <th>4</th>\n      <td>-5.295974</td>\n      <td>4.783615</td>\n      <td>-1.273715</td>\n      <td>running</td>\n    </tr>\n    <tr>\n      <th>...</th>\n      <td>...</td>\n      <td>...</td>\n      <td>...</td>\n      <td>...</td>\n    </tr>\n    <tr>\n      <th>193855</th>\n      <td>-4.137180</td>\n      <td>-4.429273</td>\n      <td>-1.517924</td>\n      <td>stairs</td>\n    </tr>\n    <tr>\n      <th>193856</th>\n      <td>1.829170</td>\n      <td>-9.313444</td>\n      <td>-0.330400</td>\n      <td>stairs</td>\n    </tr>\n    <tr>\n      <th>193857</th>\n      <td>-7.350199</td>\n      <td>-12.670115</td>\n      <td>-1.460463</td>\n      <td>stairs</td>\n    </tr>\n    <tr>\n      <th>193858</th>\n      <td>3.969586</td>\n      <td>-6.320692</td>\n      <td>9.255983</td>\n      <td>stairs</td>\n    </tr>\n    <tr>\n      <th>193859</th>\n      <td>1.747767</td>\n      <td>2.920926</td>\n      <td>7.910443</td>\n      <td>stairs</td>\n    </tr>\n  </tbody>\n</table>\n<p>193860 rows × 4 columns</p>\n</div>"
     },
     "execution_count": 30,
     "metadata": {},
     "output_type": "execute_result"
    }
   ],
   "source": [
    "inpDf"
   ],
   "metadata": {
    "collapsed": false,
    "ExecuteTime": {
     "end_time": "2024-03-24T23:33:36.962372Z",
     "start_time": "2024-03-24T23:33:36.938721Z"
    }
   },
   "id": "bb913e8b8a47016f",
   "execution_count": 30
  },
  {
   "cell_type": "code",
   "outputs": [],
   "source": [
    "from sklearn.preprocessing import StandardScaler\n",
    "scaler = StandardScaler()\n",
    "normalised_data = inpDf.copy()\n",
    "scaler.fit(normalised_data[['accelerometer_X', 'accelerometer_Y', 'accelerometer_Z']])\n",
    "normalised_data[['accelerometer_X', 'accelerometer_Y', 'accelerometer_Z']] = scaler.transform(normalised_data[['accelerometer_X', 'accelerometer_Y', 'accelerometer_Z']])"
   ],
   "metadata": {
    "collapsed": false,
    "ExecuteTime": {
     "end_time": "2024-03-24T23:38:18.227523Z",
     "start_time": "2024-03-24T23:38:18.193949Z"
    }
   },
   "id": "6051da910e85ba95",
   "execution_count": 48
  },
  {
   "cell_type": "code",
   "outputs": [
    {
     "data": {
      "text/plain": "        accelerometer_X  accelerometer_Y  accelerometer_Z     type\n0             -0.019775        -0.599143        -0.790301  running\n1              0.063974         0.912923        -0.005946  running\n2              2.469899         1.709454        -0.492672  running\n3              1.184042         0.241533        -1.417518  running\n4             -0.858972         0.255353        -0.428086  running\n...                 ...              ...              ...      ...\n193855        -0.721099        -0.483214        -0.462044   stairs\n193856        -0.011229        -0.874762        -0.296916   stairs\n193857        -1.103381        -1.143855        -0.454054   stairs\n193858         0.243435        -0.634843         1.036086   stairs\n193859        -0.020914         0.106027         0.848986   stairs\n\n[193860 rows x 4 columns]",
      "text/html": "<div>\n<style scoped>\n    .dataframe tbody tr th:only-of-type {\n        vertical-align: middle;\n    }\n\n    .dataframe tbody tr th {\n        vertical-align: top;\n    }\n\n    .dataframe thead th {\n        text-align: right;\n    }\n</style>\n<table border=\"1\" class=\"dataframe\">\n  <thead>\n    <tr style=\"text-align: right;\">\n      <th></th>\n      <th>accelerometer_X</th>\n      <th>accelerometer_Y</th>\n      <th>accelerometer_Z</th>\n      <th>type</th>\n    </tr>\n  </thead>\n  <tbody>\n    <tr>\n      <th>0</th>\n      <td>-0.019775</td>\n      <td>-0.599143</td>\n      <td>-0.790301</td>\n      <td>running</td>\n    </tr>\n    <tr>\n      <th>1</th>\n      <td>0.063974</td>\n      <td>0.912923</td>\n      <td>-0.005946</td>\n      <td>running</td>\n    </tr>\n    <tr>\n      <th>2</th>\n      <td>2.469899</td>\n      <td>1.709454</td>\n      <td>-0.492672</td>\n      <td>running</td>\n    </tr>\n    <tr>\n      <th>3</th>\n      <td>1.184042</td>\n      <td>0.241533</td>\n      <td>-1.417518</td>\n      <td>running</td>\n    </tr>\n    <tr>\n      <th>4</th>\n      <td>-0.858972</td>\n      <td>0.255353</td>\n      <td>-0.428086</td>\n      <td>running</td>\n    </tr>\n    <tr>\n      <th>...</th>\n      <td>...</td>\n      <td>...</td>\n      <td>...</td>\n      <td>...</td>\n    </tr>\n    <tr>\n      <th>193855</th>\n      <td>-0.721099</td>\n      <td>-0.483214</td>\n      <td>-0.462044</td>\n      <td>stairs</td>\n    </tr>\n    <tr>\n      <th>193856</th>\n      <td>-0.011229</td>\n      <td>-0.874762</td>\n      <td>-0.296916</td>\n      <td>stairs</td>\n    </tr>\n    <tr>\n      <th>193857</th>\n      <td>-1.103381</td>\n      <td>-1.143855</td>\n      <td>-0.454054</td>\n      <td>stairs</td>\n    </tr>\n    <tr>\n      <th>193858</th>\n      <td>0.243435</td>\n      <td>-0.634843</td>\n      <td>1.036086</td>\n      <td>stairs</td>\n    </tr>\n    <tr>\n      <th>193859</th>\n      <td>-0.020914</td>\n      <td>0.106027</td>\n      <td>0.848986</td>\n      <td>stairs</td>\n    </tr>\n  </tbody>\n</table>\n<p>193860 rows × 4 columns</p>\n</div>"
     },
     "execution_count": 49,
     "metadata": {},
     "output_type": "execute_result"
    }
   ],
   "source": [
    "normalised_data"
   ],
   "metadata": {
    "collapsed": false,
    "ExecuteTime": {
     "end_time": "2024-03-24T23:38:19.647852Z",
     "start_time": "2024-03-24T23:38:19.609145Z"
    }
   },
   "id": "92d82b45f312bf81",
   "execution_count": 49
  },
  {
   "cell_type": "code",
   "outputs": [],
   "source": [],
   "metadata": {
    "collapsed": false
   },
   "id": "911649db13ef759b"
  }
 ],
 "metadata": {
  "kernelspec": {
   "display_name": "Python 3",
   "language": "python",
   "name": "python3"
  },
  "language_info": {
   "codemirror_mode": {
    "name": "ipython",
    "version": 2
   },
   "file_extension": ".py",
   "mimetype": "text/x-python",
   "name": "python",
   "nbconvert_exporter": "python",
   "pygments_lexer": "ipython2",
   "version": "2.7.6"
  }
 },
 "nbformat": 4,
 "nbformat_minor": 5
}
