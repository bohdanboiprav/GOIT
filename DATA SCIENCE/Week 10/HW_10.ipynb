{
  "nbformat": 4,
  "nbformat_minor": 0,
  "metadata": {
    "colab": {
      "provenance": [],
      "gpuType": "T4"
    },
    "kernelspec": {
      "name": "python3",
      "display_name": "Python 3"
    },
    "language_info": {
      "name": "python"
    },
    "accelerator": "GPU"
  },
  "cells": [
    {
      "cell_type": "markdown",
      "source": [
        "**Частина 1**"
      ],
      "metadata": {
        "id": "8ocNIXQ-_gR-"
      }
    },
    {
      "cell_type": "code",
      "execution_count": 1,
      "metadata": {
        "id": "K8I0fr9E-c5I"
      },
      "outputs": [],
      "source": [
        "import tensorflow as tf\n",
        "import numpy as np\n",
        "from keras.datasets import fashion_mnist\n",
        "# from tensorflow.keras.layers import Conv2D, Input, Dense, MaxPool2D, BatchNormalization, GlobalAvgPool2D, Flatten\n",
        "from tensorflow.keras.utils import to_categorical\n",
        "from keras import layers\n",
        "from keras import models"
      ]
    },
    {
      "cell_type": "code",
      "source": [
        "(x_train, y_train), (x_test, y_test) = fashion_mnist.load_data()"
      ],
      "metadata": {
        "id": "C_b85rJS-wk8",
        "colab": {
          "base_uri": "https://localhost:8080/"
        },
        "outputId": "8f321ca8-d317-41e0-b11f-477016eb5828"
      },
      "execution_count": 2,
      "outputs": [
        {
          "output_type": "stream",
          "name": "stdout",
          "text": [
            "Downloading data from https://storage.googleapis.com/tensorflow/tf-keras-datasets/train-labels-idx1-ubyte.gz\n",
            "29515/29515 [==============================] - 0s 0us/step\n",
            "Downloading data from https://storage.googleapis.com/tensorflow/tf-keras-datasets/train-images-idx3-ubyte.gz\n",
            "26421880/26421880 [==============================] - 0s 0us/step\n",
            "Downloading data from https://storage.googleapis.com/tensorflow/tf-keras-datasets/t10k-labels-idx1-ubyte.gz\n",
            "5148/5148 [==============================] - 0s 0us/step\n",
            "Downloading data from https://storage.googleapis.com/tensorflow/tf-keras-datasets/t10k-images-idx3-ubyte.gz\n",
            "4422102/4422102 [==============================] - 0s 0us/step\n"
          ]
        }
      ]
    },
    {
      "cell_type": "code",
      "source": [
        "y_test[0]"
      ],
      "metadata": {
        "colab": {
          "base_uri": "https://localhost:8080/"
        },
        "id": "rtUa849HDMWU",
        "outputId": "faf3ddc5-ea71-40e8-aaf2-e1ef327229d2"
      },
      "execution_count": 3,
      "outputs": [
        {
          "output_type": "execute_result",
          "data": {
            "text/plain": [
              "9"
            ]
          },
          "metadata": {},
          "execution_count": 3
        }
      ]
    },
    {
      "cell_type": "code",
      "source": [
        "print(x_train.shape)\n",
        "print(x_test.shape)\n",
        "print(x_train[0])"
      ],
      "metadata": {
        "colab": {
          "base_uri": "https://localhost:8080/"
        },
        "id": "atIe4MYlDWbn",
        "outputId": "438405b2-9480-4a2f-f76b-63151f9fc996"
      },
      "execution_count": 4,
      "outputs": [
        {
          "output_type": "stream",
          "name": "stdout",
          "text": [
            "(60000, 28, 28)\n",
            "(10000, 28, 28)\n",
            "[[  0   0   0   0   0   0   0   0   0   0   0   0   0   0   0   0   0   0\n",
            "    0   0   0   0   0   0   0   0   0   0]\n",
            " [  0   0   0   0   0   0   0   0   0   0   0   0   0   0   0   0   0   0\n",
            "    0   0   0   0   0   0   0   0   0   0]\n",
            " [  0   0   0   0   0   0   0   0   0   0   0   0   0   0   0   0   0   0\n",
            "    0   0   0   0   0   0   0   0   0   0]\n",
            " [  0   0   0   0   0   0   0   0   0   0   0   0   1   0   0  13  73   0\n",
            "    0   1   4   0   0   0   0   1   1   0]\n",
            " [  0   0   0   0   0   0   0   0   0   0   0   0   3   0  36 136 127  62\n",
            "   54   0   0   0   1   3   4   0   0   3]\n",
            " [  0   0   0   0   0   0   0   0   0   0   0   0   6   0 102 204 176 134\n",
            "  144 123  23   0   0   0   0  12  10   0]\n",
            " [  0   0   0   0   0   0   0   0   0   0   0   0   0   0 155 236 207 178\n",
            "  107 156 161 109  64  23  77 130  72  15]\n",
            " [  0   0   0   0   0   0   0   0   0   0   0   1   0  69 207 223 218 216\n",
            "  216 163 127 121 122 146 141  88 172  66]\n",
            " [  0   0   0   0   0   0   0   0   0   1   1   1   0 200 232 232 233 229\n",
            "  223 223 215 213 164 127 123 196 229   0]\n",
            " [  0   0   0   0   0   0   0   0   0   0   0   0   0 183 225 216 223 228\n",
            "  235 227 224 222 224 221 223 245 173   0]\n",
            " [  0   0   0   0   0   0   0   0   0   0   0   0   0 193 228 218 213 198\n",
            "  180 212 210 211 213 223 220 243 202   0]\n",
            " [  0   0   0   0   0   0   0   0   0   1   3   0  12 219 220 212 218 192\n",
            "  169 227 208 218 224 212 226 197 209  52]\n",
            " [  0   0   0   0   0   0   0   0   0   0   6   0  99 244 222 220 218 203\n",
            "  198 221 215 213 222 220 245 119 167  56]\n",
            " [  0   0   0   0   0   0   0   0   0   4   0   0  55 236 228 230 228 240\n",
            "  232 213 218 223 234 217 217 209  92   0]\n",
            " [  0   0   1   4   6   7   2   0   0   0   0   0 237 226 217 223 222 219\n",
            "  222 221 216 223 229 215 218 255  77   0]\n",
            " [  0   3   0   0   0   0   0   0   0  62 145 204 228 207 213 221 218 208\n",
            "  211 218 224 223 219 215 224 244 159   0]\n",
            " [  0   0   0   0  18  44  82 107 189 228 220 222 217 226 200 205 211 230\n",
            "  224 234 176 188 250 248 233 238 215   0]\n",
            " [  0  57 187 208 224 221 224 208 204 214 208 209 200 159 245 193 206 223\n",
            "  255 255 221 234 221 211 220 232 246   0]\n",
            " [  3 202 228 224 221 211 211 214 205 205 205 220 240  80 150 255 229 221\n",
            "  188 154 191 210 204 209 222 228 225   0]\n",
            " [ 98 233 198 210 222 229 229 234 249 220 194 215 217 241  65  73 106 117\n",
            "  168 219 221 215 217 223 223 224 229  29]\n",
            " [ 75 204 212 204 193 205 211 225 216 185 197 206 198 213 240 195 227 245\n",
            "  239 223 218 212 209 222 220 221 230  67]\n",
            " [ 48 203 183 194 213 197 185 190 194 192 202 214 219 221 220 236 225 216\n",
            "  199 206 186 181 177 172 181 205 206 115]\n",
            " [  0 122 219 193 179 171 183 196 204 210 213 207 211 210 200 196 194 191\n",
            "  195 191 198 192 176 156 167 177 210  92]\n",
            " [  0   0  74 189 212 191 175 172 175 181 185 188 189 188 193 198 204 209\n",
            "  210 210 211 188 188 194 192 216 170   0]\n",
            " [  2   0   0   0  66 200 222 237 239 242 246 243 244 221 220 193 191 179\n",
            "  182 182 181 176 166 168  99  58   0   0]\n",
            " [  0   0   0   0   0   0   0  40  61  44  72  41  35   0   0   0   0   0\n",
            "    0   0   0   0   0   0   0   0   0   0]\n",
            " [  0   0   0   0   0   0   0   0   0   0   0   0   0   0   0   0   0   0\n",
            "    0   0   0   0   0   0   0   0   0   0]\n",
            " [  0   0   0   0   0   0   0   0   0   0   0   0   0   0   0   0   0   0\n",
            "    0   0   0   0   0   0   0   0   0   0]]\n"
          ]
        }
      ]
    },
    {
      "cell_type": "code",
      "source": [
        "x_train = x_train.reshape((60000, 28, 28, 1))\n",
        "x_train = x_train.astype(\"float32\") / 255\n",
        "x_test = x_test.reshape((10000, 28, 28, 1))\n",
        "x_test = x_test.astype(\"float32\") / 255\n",
        "y_train = to_categorical(y_train)\n",
        "y_test = to_categorical(y_test)"
      ],
      "metadata": {
        "id": "dDMcxuMLC9Bn"
      },
      "execution_count": 5,
      "outputs": []
    },
    {
      "cell_type": "code",
      "source": [
        "x_train.shape"
      ],
      "metadata": {
        "colab": {
          "base_uri": "https://localhost:8080/"
        },
        "id": "wpoDfYq8Dp6y",
        "outputId": "4f1ee304-e4f8-4a76-bb2c-47bda691e2f6"
      },
      "execution_count": 6,
      "outputs": [
        {
          "output_type": "execute_result",
          "data": {
            "text/plain": [
              "(60000, 28, 28, 1)"
            ]
          },
          "metadata": {},
          "execution_count": 6
        }
      ]
    },
    {
      "cell_type": "code",
      "source": [
        "y_test[0]"
      ],
      "metadata": {
        "colab": {
          "base_uri": "https://localhost:8080/"
        },
        "id": "bGaI4zPADHzr",
        "outputId": "e54e13de-0fa6-46be-de98-852d9ed08ff1"
      },
      "execution_count": 7,
      "outputs": [
        {
          "output_type": "execute_result",
          "data": {
            "text/plain": [
              "array([0., 0., 0., 0., 0., 0., 0., 0., 0., 1.], dtype=float32)"
            ]
          },
          "metadata": {},
          "execution_count": 7
        }
      ]
    },
    {
      "cell_type": "code",
      "source": [
        "# model = models.Sequential([\n",
        "#     layers.Conv2D(32, (3, 3), activation=\"relu\", input_shape=(28, 28, 1)),\n",
        "#     # layers.MaxPooling2D((2, 2)),\n",
        "\n",
        "#     layers.Conv2D(64, (3, 3), activation=\"relu\"),\n",
        "#     # layers.MaxPooling2D((2, 2)),\n",
        "\n",
        "#     layers.Conv2D(64, (3, 3), activation=\"relu\"),\n",
        "\n",
        "#     layers.Flatten(),\n",
        "#     layers.Dense(64, activation=\"relu\"),\n",
        "\n",
        "#     layers.Dense(10, activation=\"softmax\")\n",
        "# ])\n",
        "model = models.Sequential([\n",
        "    layers.Conv2D(32, (3, 3), activation=\"relu\", input_shape=(28, 28, 1)),\n",
        "    layers.MaxPooling2D((2, 2)),\n",
        "\n",
        "    layers.Conv2D(128, (3, 3), activation=\"relu\"),\n",
        "    layers.MaxPooling2D((2, 2)),\n",
        "\n",
        "    layers.Conv2D(128, (3, 3), activation=\"relu\"),\n",
        "    # layers.MaxPooling2D((2, 2)),\n",
        "\n",
        "    layers.Flatten(),\n",
        "    layers.Dense(128, activation='relu'),\n",
        "    layers.Dense(128, activation='relu'),\n",
        "    layers.Dense(10, activation=\"softmax\")\n",
        "])"
      ],
      "metadata": {
        "id": "agz2RyjvDyK8"
      },
      "execution_count": 12,
      "outputs": []
    },
    {
      "cell_type": "code",
      "source": [
        "model.compile(\n",
        "    optimizer=\"rmsprop\",\n",
        "    loss=\"categorical_crossentropy\",\n",
        "    metrics=[\"accuracy\"]\n",
        ")"
      ],
      "metadata": {
        "id": "ZN711rwkEI5a"
      },
      "execution_count": 13,
      "outputs": []
    },
    {
      "cell_type": "code",
      "source": [
        "model.fit(x_train, y_train, epochs=20, batch_size=64, validation_split=0.2)"
      ],
      "metadata": {
        "colab": {
          "base_uri": "https://localhost:8080/"
        },
        "id": "3XCgz-j8Ejb3",
        "outputId": "bf28a8d1-de2a-43dd-907f-8ee99de9332d"
      },
      "execution_count": 14,
      "outputs": [
        {
          "output_type": "stream",
          "name": "stdout",
          "text": [
            "Epoch 1/20\n",
            "750/750 [==============================] - 6s 6ms/step - loss: 0.5709 - accuracy: 0.7863 - val_loss: 0.4025 - val_accuracy: 0.8501\n",
            "Epoch 2/20\n",
            "750/750 [==============================] - 4s 5ms/step - loss: 0.3247 - accuracy: 0.8828 - val_loss: 0.2985 - val_accuracy: 0.8897\n",
            "Epoch 3/20\n",
            "750/750 [==============================] - 4s 5ms/step - loss: 0.2719 - accuracy: 0.8999 - val_loss: 0.3035 - val_accuracy: 0.8897\n",
            "Epoch 4/20\n",
            "750/750 [==============================] - 4s 6ms/step - loss: 0.2376 - accuracy: 0.9113 - val_loss: 0.2824 - val_accuracy: 0.8946\n",
            "Epoch 5/20\n",
            "750/750 [==============================] - 4s 5ms/step - loss: 0.2102 - accuracy: 0.9226 - val_loss: 0.2541 - val_accuracy: 0.9082\n",
            "Epoch 6/20\n",
            "750/750 [==============================] - 4s 5ms/step - loss: 0.1886 - accuracy: 0.9308 - val_loss: 0.2820 - val_accuracy: 0.9062\n",
            "Epoch 7/20\n",
            "750/750 [==============================] - 4s 6ms/step - loss: 0.1714 - accuracy: 0.9389 - val_loss: 0.2597 - val_accuracy: 0.9137\n",
            "Epoch 8/20\n",
            "750/750 [==============================] - 4s 5ms/step - loss: 0.1552 - accuracy: 0.9413 - val_loss: 0.2718 - val_accuracy: 0.9089\n",
            "Epoch 9/20\n",
            "750/750 [==============================] - 4s 5ms/step - loss: 0.1397 - accuracy: 0.9479 - val_loss: 0.2824 - val_accuracy: 0.9112\n",
            "Epoch 10/20\n",
            "750/750 [==============================] - 4s 6ms/step - loss: 0.1269 - accuracy: 0.9526 - val_loss: 0.2950 - val_accuracy: 0.9074\n",
            "Epoch 11/20\n",
            "750/750 [==============================] - 4s 5ms/step - loss: 0.1146 - accuracy: 0.9569 - val_loss: 0.3682 - val_accuracy: 0.9135\n",
            "Epoch 12/20\n",
            "750/750 [==============================] - 4s 5ms/step - loss: 0.1079 - accuracy: 0.9607 - val_loss: 0.3407 - val_accuracy: 0.9044\n",
            "Epoch 13/20\n",
            "750/750 [==============================] - 4s 6ms/step - loss: 0.0996 - accuracy: 0.9632 - val_loss: 0.3370 - val_accuracy: 0.9138\n",
            "Epoch 14/20\n",
            "750/750 [==============================] - 4s 5ms/step - loss: 0.0926 - accuracy: 0.9666 - val_loss: 0.4099 - val_accuracy: 0.9066\n",
            "Epoch 15/20\n",
            "750/750 [==============================] - 4s 5ms/step - loss: 0.0870 - accuracy: 0.9681 - val_loss: 0.3396 - val_accuracy: 0.9115\n",
            "Epoch 16/20\n",
            "750/750 [==============================] - 4s 5ms/step - loss: 0.0825 - accuracy: 0.9707 - val_loss: 0.4865 - val_accuracy: 0.9106\n",
            "Epoch 17/20\n",
            "750/750 [==============================] - 4s 5ms/step - loss: 0.0802 - accuracy: 0.9713 - val_loss: 0.4817 - val_accuracy: 0.9069\n",
            "Epoch 18/20\n",
            "750/750 [==============================] - 4s 5ms/step - loss: 0.0760 - accuracy: 0.9729 - val_loss: 0.3968 - val_accuracy: 0.9131\n",
            "Epoch 19/20\n",
            "750/750 [==============================] - 4s 6ms/step - loss: 0.0737 - accuracy: 0.9744 - val_loss: 0.4633 - val_accuracy: 0.9103\n",
            "Epoch 20/20\n",
            "750/750 [==============================] - 4s 5ms/step - loss: 0.0711 - accuracy: 0.9760 - val_loss: 0.5973 - val_accuracy: 0.9033\n"
          ]
        },
        {
          "output_type": "execute_result",
          "data": {
            "text/plain": [
              "<keras.src.callbacks.History at 0x79bc0c389cf0>"
            ]
          },
          "metadata": {},
          "execution_count": 14
        }
      ]
    },
    {
      "cell_type": "code",
      "source": [
        "test_loss, test_acc = model.evaluate(x_test, y_test)\n",
        "print(test_acc)"
      ],
      "metadata": {
        "colab": {
          "base_uri": "https://localhost:8080/"
        },
        "id": "4zO_dFSNFStJ",
        "outputId": "63cabea8-f242-41ea-a7a5-64f4085f7999"
      },
      "execution_count": 15,
      "outputs": [
        {
          "output_type": "stream",
          "name": "stdout",
          "text": [
            "313/313 [==============================] - 1s 4ms/step - loss: 0.6544 - accuracy: 0.9014\n",
            "0.9014000296592712\n"
          ]
        }
      ]
    },
    {
      "cell_type": "markdown",
      "source": [
        "На тренуванні модель дає трохи кращу точність, ніж була в минулій моделі(97% зараз, 94% минулого разу), валідаційна вибірка вже теж показує більше 91%(в минулий раз було 88%). Варто також зазначити, що ми зробили на 5 епох менше, що може також свідчити, що модель натренувалась швидше(в минулий раз було 25 епох). Можна припустити, що модель все одно не до кінця дотренована і додавши більше епох, точність буде збільшуватись"
      ],
      "metadata": {
        "id": "hGGBBar7cvDU"
      }
    },
    {
      "cell_type": "code",
      "source": [
        "from keras.applications.vgg16 import VGG16"
      ],
      "metadata": {
        "id": "ZENBpW_ddK4a"
      },
      "execution_count": 16,
      "outputs": []
    },
    {
      "cell_type": "code",
      "source": [
        "train_x = tf.image.resize(x_train, size=(32, 32))\n",
        "train_x = tf.tile(train_x, [1, 1, 1, 3])\n",
        "\n",
        "test_x = tf.image.resize(x_test, size=(32, 32))\n",
        "test_x = tf.tile(test_x, [1, 1, 1, 3])"
      ],
      "metadata": {
        "id": "nREVgXLRgY4H"
      },
      "execution_count": 17,
      "outputs": []
    },
    {
      "cell_type": "code",
      "source": [
        "train_x.shape"
      ],
      "metadata": {
        "colab": {
          "base_uri": "https://localhost:8080/"
        },
        "id": "S3TSBLbnguF2",
        "outputId": "3a57ae68-9364-4956-9fbc-b4d6e68380a5"
      },
      "execution_count": 18,
      "outputs": [
        {
          "output_type": "execute_result",
          "data": {
            "text/plain": [
              "TensorShape([60000, 32, 32, 3])"
            ]
          },
          "metadata": {},
          "execution_count": 18
        }
      ]
    },
    {
      "cell_type": "code",
      "source": [
        "conv_base = VGG16(weights=\"imagenet\", include_top=False, input_shape=(32, 32, 3))\n",
        "conv_base.trainable = False\n",
        "set_trainable = False\n",
        "for layer in conv_base.layers:\n",
        "    if layer.name == \"block5_conv1\":\n",
        "        set_trainable = True\n",
        "    if set_trainable:\n",
        "        layer.trainable = True\n",
        "    else:\n",
        "        layer.trainable = False"
      ],
      "metadata": {
        "id": "FTP2v_-cdsPV"
      },
      "execution_count": 24,
      "outputs": []
    },
    {
      "cell_type": "code",
      "source": [
        "modelvgg16 = models.Sequential([\n",
        "   conv_base,\n",
        "   layers.Flatten(),\n",
        "   layers.Dense(128, activation='relu'),\n",
        "    layers.Dense(128, activation='relu'),\n",
        "    layers.Dense(10, activation=\"softmax\")\n",
        "])"
      ],
      "metadata": {
        "id": "RMAu6pptdwif"
      },
      "execution_count": 25,
      "outputs": []
    },
    {
      "cell_type": "code",
      "source": [
        "modelvgg16.compile(\n",
        "    optimizer=\"rmsprop\",\n",
        "    loss=\"categorical_crossentropy\",\n",
        "    metrics=[\"accuracy\"]\n",
        ")"
      ],
      "metadata": {
        "id": "FTsTu9njd922"
      },
      "execution_count": 26,
      "outputs": []
    },
    {
      "cell_type": "code",
      "source": [
        "modelvgg16.fit(train_x, y_train, epochs=20, batch_size=64, validation_split=0.2)"
      ],
      "metadata": {
        "colab": {
          "base_uri": "https://localhost:8080/"
        },
        "id": "y3zdzh48eGc3",
        "outputId": "7ba32007-f75b-461e-f791-9965fde4dd4f"
      },
      "execution_count": 27,
      "outputs": [
        {
          "output_type": "stream",
          "name": "stdout",
          "text": [
            "Epoch 1/20\n",
            "750/750 [==============================] - 12s 14ms/step - loss: 0.5800 - accuracy: 0.7949 - val_loss: 0.4588 - val_accuracy: 0.8332\n",
            "Epoch 2/20\n",
            "750/750 [==============================] - 9s 13ms/step - loss: 0.4248 - accuracy: 0.8442 - val_loss: 0.4336 - val_accuracy: 0.8398\n",
            "Epoch 3/20\n",
            "750/750 [==============================] - 10s 13ms/step - loss: 0.3873 - accuracy: 0.8566 - val_loss: 0.4085 - val_accuracy: 0.8493\n",
            "Epoch 4/20\n",
            "750/750 [==============================] - 10s 14ms/step - loss: 0.3619 - accuracy: 0.8665 - val_loss: 0.3805 - val_accuracy: 0.8631\n",
            "Epoch 5/20\n",
            "750/750 [==============================] - 10s 13ms/step - loss: 0.3438 - accuracy: 0.8726 - val_loss: 0.3879 - val_accuracy: 0.8614\n",
            "Epoch 6/20\n",
            "750/750 [==============================] - 9s 13ms/step - loss: 0.3278 - accuracy: 0.8773 - val_loss: 0.3765 - val_accuracy: 0.8663\n",
            "Epoch 7/20\n",
            "750/750 [==============================] - 10s 13ms/step - loss: 0.3156 - accuracy: 0.8827 - val_loss: 0.3793 - val_accuracy: 0.8655\n",
            "Epoch 8/20\n",
            "750/750 [==============================] - 10s 14ms/step - loss: 0.3048 - accuracy: 0.8865 - val_loss: 0.3903 - val_accuracy: 0.8617\n",
            "Epoch 9/20\n",
            "750/750 [==============================] - 10s 13ms/step - loss: 0.2968 - accuracy: 0.8898 - val_loss: 0.3792 - val_accuracy: 0.8697\n",
            "Epoch 10/20\n",
            "750/750 [==============================] - 10s 14ms/step - loss: 0.2866 - accuracy: 0.8930 - val_loss: 0.3600 - val_accuracy: 0.8733\n",
            "Epoch 11/20\n",
            "750/750 [==============================] - 9s 13ms/step - loss: 0.2789 - accuracy: 0.8952 - val_loss: 0.3615 - val_accuracy: 0.8717\n",
            "Epoch 12/20\n",
            "750/750 [==============================] - 10s 13ms/step - loss: 0.2688 - accuracy: 0.8989 - val_loss: 0.3708 - val_accuracy: 0.8697\n",
            "Epoch 13/20\n",
            "750/750 [==============================] - 9s 12ms/step - loss: 0.2627 - accuracy: 0.9025 - val_loss: 0.3961 - val_accuracy: 0.8646\n",
            "Epoch 14/20\n",
            "750/750 [==============================] - 9s 13ms/step - loss: 0.2567 - accuracy: 0.9042 - val_loss: 0.3896 - val_accuracy: 0.8711\n",
            "Epoch 15/20\n",
            "750/750 [==============================] - 9s 13ms/step - loss: 0.2496 - accuracy: 0.9069 - val_loss: 0.3882 - val_accuracy: 0.8709\n",
            "Epoch 16/20\n",
            "750/750 [==============================] - 10s 14ms/step - loss: 0.2431 - accuracy: 0.9103 - val_loss: 0.3827 - val_accuracy: 0.8743\n",
            "Epoch 17/20\n",
            "750/750 [==============================] - 9s 13ms/step - loss: 0.2376 - accuracy: 0.9119 - val_loss: 0.4038 - val_accuracy: 0.8731\n",
            "Epoch 18/20\n",
            "750/750 [==============================] - 9s 13ms/step - loss: 0.2300 - accuracy: 0.9148 - val_loss: 0.3951 - val_accuracy: 0.8732\n",
            "Epoch 19/20\n",
            "750/750 [==============================] - 9s 13ms/step - loss: 0.2251 - accuracy: 0.9156 - val_loss: 0.4304 - val_accuracy: 0.8754\n",
            "Epoch 20/20\n",
            "750/750 [==============================] - 10s 14ms/step - loss: 0.2204 - accuracy: 0.9187 - val_loss: 0.4239 - val_accuracy: 0.8681\n"
          ]
        },
        {
          "output_type": "execute_result",
          "data": {
            "text/plain": [
              "<keras.src.callbacks.History at 0x79bb725e18d0>"
            ]
          },
          "metadata": {},
          "execution_count": 27
        }
      ]
    },
    {
      "cell_type": "code",
      "source": [
        "test_loss, test_acc = modelvgg16.evaluate(test_x, y_test)\n",
        "print(test_acc)"
      ],
      "metadata": {
        "colab": {
          "base_uri": "https://localhost:8080/"
        },
        "id": "xRF_1uY_5dKt",
        "outputId": "8eeec3e5-fc79-4db1-e043-051496eedbee"
      },
      "execution_count": 28,
      "outputs": [
        {
          "output_type": "stream",
          "name": "stdout",
          "text": [
            "313/313 [==============================] - 3s 8ms/step - loss: 0.4382 - accuracy: 0.8649\n",
            "0.8648999929428101\n"
          ]
        }
      ]
    },
    {
      "cell_type": "code",
      "source": [
        "# Для навчання цієї моделі необхідно більше епох"
      ],
      "metadata": {
        "id": "LnibUYlL67en"
      },
      "execution_count": 29,
      "outputs": []
    }
  ]
}