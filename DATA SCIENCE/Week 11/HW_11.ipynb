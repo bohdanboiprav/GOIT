{
  "nbformat": 4,
  "nbformat_minor": 0,
  "metadata": {
    "colab": {
      "provenance": [],
      "gpuType": "T4"
    },
    "kernelspec": {
      "name": "python3",
      "display_name": "Python 3"
    },
    "language_info": {
      "name": "python"
    },
    "accelerator": "GPU"
  },
  "cells": [
    {
      "cell_type": "code",
      "execution_count": 7,
      "metadata": {
        "id": "6F67OvBuAn11"
      },
      "outputs": [],
      "source": [
        "import matplotlib.pyplot as plt\n",
        "from keras.datasets import imdb\n",
        "from keras.utils import pad_sequences\n",
        "from keras.models import Sequential\n",
        "from keras.layers import Embedding, Bidirectional, LSTM, Dense, SimpleRNN"
      ]
    },
    {
      "cell_type": "code",
      "source": [
        "max_features = 10000\n",
        "maxlen = 500\n",
        "batch_size = 32"
      ],
      "metadata": {
        "id": "3M-AM9dTBNtX"
      },
      "execution_count": 2,
      "outputs": []
    },
    {
      "cell_type": "code",
      "source": [
        "(input_train, y_train), (input_test, y_test) = imdb.load_data(num_words=max_features)"
      ],
      "metadata": {
        "colab": {
          "base_uri": "https://localhost:8080/"
        },
        "id": "zm9smRAQBJ90",
        "outputId": "599b633d-3d48-469b-d8cd-d18846c2da56"
      },
      "execution_count": 3,
      "outputs": [
        {
          "output_type": "stream",
          "name": "stdout",
          "text": [
            "Downloading data from https://storage.googleapis.com/tensorflow/tf-keras-datasets/imdb.npz\n",
            "17464789/17464789 [==============================] - 0s 0us/step\n"
          ]
        }
      ]
    },
    {
      "cell_type": "code",
      "source": [
        "input_train = pad_sequences(input_train, maxlen=maxlen)\n",
        "input_test = pad_sequences(input_test, maxlen=maxlen)"
      ],
      "metadata": {
        "id": "sPlB58VRCrBU"
      },
      "execution_count": 6,
      "outputs": []
    },
    {
      "cell_type": "code",
      "source": [
        "rnn_model = Sequential([\n",
        "    Embedding(max_features, 32),\n",
        "    SimpleRNN(32),\n",
        "    Dense(1, activation='sigmoid')\n",
        "    ])"
      ],
      "metadata": {
        "id": "FF-3T-jfBTl9"
      },
      "execution_count": 8,
      "outputs": []
    },
    {
      "cell_type": "code",
      "source": [
        "rnn_model.compile(\n",
        "    optimizer=\"rmsprop\",\n",
        "    loss=\"binary_crossentropy\",\n",
        "    metrics=[\"accuracy\"]\n",
        ")"
      ],
      "metadata": {
        "id": "urrb91FVDIzT"
      },
      "execution_count": 9,
      "outputs": []
    },
    {
      "cell_type": "code",
      "source": [
        "rnn_history = rnn_model.fit(input_train, y_train, epochs=5, batch_size=128, validation_split=0.3)"
      ],
      "metadata": {
        "colab": {
          "base_uri": "https://localhost:8080/"
        },
        "id": "uCS9uV5xDTqX",
        "outputId": "c481888a-c297-4ebd-cc4f-8018c7f2a35f"
      },
      "execution_count": 10,
      "outputs": [
        {
          "output_type": "stream",
          "name": "stdout",
          "text": [
            "Epoch 1/5\n",
            "137/137 [==============================] - 78s 549ms/step - loss: 0.6262 - accuracy: 0.6333 - val_loss: 0.4464 - val_accuracy: 0.8035\n",
            "Epoch 2/5\n",
            "137/137 [==============================] - 72s 524ms/step - loss: 0.4085 - accuracy: 0.8230 - val_loss: 0.3759 - val_accuracy: 0.8417\n",
            "Epoch 3/5\n",
            "137/137 [==============================] - 70s 510ms/step - loss: 0.3065 - accuracy: 0.8761 - val_loss: 0.4312 - val_accuracy: 0.8007\n",
            "Epoch 4/5\n",
            "137/137 [==============================] - 68s 495ms/step - loss: 0.2555 - accuracy: 0.8998 - val_loss: 0.3759 - val_accuracy: 0.8497\n",
            "Epoch 5/5\n",
            "137/137 [==============================] - 70s 511ms/step - loss: 0.1912 - accuracy: 0.9286 - val_loss: 0.4135 - val_accuracy: 0.8251\n"
          ]
        }
      ]
    },
    {
      "cell_type": "code",
      "source": [
        "acc = rnn_history.history['accuracy']\n",
        "val_acc = rnn_history.history['val_accuracy']\n",
        "\n",
        "epochs = range(1, len(acc) + 1)\n",
        "\n",
        "plt.plot(epochs, acc, 'bo', label='Точність на тренуванні')\n",
        "plt.plot(epochs, val_acc, 'b', label='Точність на валідації')\n",
        "plt.title('Точність тренування і валідації')\n",
        "plt.legend()\n",
        "plt.figure()\n",
        "plt.show()"
      ],
      "metadata": {
        "colab": {
          "base_uri": "https://localhost:8080/",
          "height": 469
        },
        "id": "_8RV_oXkFIgU",
        "outputId": "bf2eeec3-f961-406b-d5de-18f5f7cd51d6"
      },
      "execution_count": 16,
      "outputs": [
        {
          "output_type": "display_data",
          "data": {
            "text/plain": [
              "<Figure size 640x480 with 1 Axes>"
            ],
            "image/png": "[encoded data removed]"
          },
          "metadata": {}
        },
        {
          "output_type": "display_data",
          "data": {
            "text/plain": [
              "<Figure size 640x480 with 0 Axes>"
            ]
          },
          "metadata": {}
        }
      ]
    },
    {
      "cell_type": "code",
      "source": [
        "test_loss, test_acc = rnn_model.evaluate(input_test, y_test)\n",
        "print('Test Loss: {}'.format(test_loss))\n",
        "print('Test Accuracy: {}'.format(test_acc))"
      ],
      "metadata": {
        "colab": {
          "base_uri": "https://localhost:8080/"
        },
        "id": "80gByHFwGlAF",
        "outputId": "37089de4-a1c3-4b73-f65e-ae0d014d8a63"
      },
      "execution_count": 17,
      "outputs": [
        {
          "output_type": "stream",
          "name": "stdout",
          "text": [
            "782/782 [==============================] - 33s 42ms/step - loss: 0.4063 - accuracy: 0.8285\n",
            "Test Loss: 0.4062965214252472\n",
            "Test Accuracy: 0.8285199999809265\n"
          ]
        }
      ]
    },
    {
      "cell_type": "code",
      "source": [
        "models = []"
      ],
      "metadata": {
        "id": "0S1eHEDtH3jO"
      },
      "execution_count": 21,
      "outputs": []
    },
    {
      "cell_type": "code",
      "source": [
        "lstm_model = Sequential([\n",
        "    Embedding(max_features, 32),\n",
        "    LSTM(32),\n",
        "    Dense(1, activation='sigmoid')\n",
        "    ])\n",
        "models.append(lstm_model)"
      ],
      "metadata": {
        "id": "uoBu-moNG0GR"
      },
      "execution_count": 22,
      "outputs": []
    },
    {
      "cell_type": "code",
      "source": [
        "brnn_model = Sequential([\n",
        "    Embedding(max_features, 32),\n",
        "    Bidirectional(LSTM(32)),\n",
        "    Dense(1, activation='sigmoid')\n",
        "    ])\n",
        "models.append(brnn_model)"
      ],
      "metadata": {
        "id": "KXncmkARHadA"
      },
      "execution_count": 23,
      "outputs": []
    },
    {
      "cell_type": "code",
      "source": [
        "drnn_model = Sequential([\n",
        "    Embedding(max_features, 32),\n",
        "    Bidirectional(LSTM(32, return_sequences=True)),\n",
        "    Bidirectional(LSTM(32)),\n",
        "    Dense(1, activation='sigmoid')\n",
        "    ])\n",
        "models.append(drnn_model)"
      ],
      "metadata": {
        "id": "XdTB-Z02Hn9i"
      },
      "execution_count": 24,
      "outputs": []
    },
    {
      "cell_type": "code",
      "source": [
        "models_names = [\"lstm\", \"brnn\", \"drnn\"]"
      ],
      "metadata": {
        "id": "oo9HZl4qJCPM"
      },
      "execution_count": 32,
      "outputs": []
    },
    {
      "cell_type": "code",
      "source": [
        "for i in models:\n",
        "  i.compile(\n",
        "    optimizer=\"rmsprop\",\n",
        "    loss=\"binary_crossentropy\",\n",
        "    metrics=[\"accuracy\"]\n",
        ")"
      ],
      "metadata": {
        "id": "lKm5BxRHHSm3"
      },
      "execution_count": 25,
      "outputs": []
    },
    {
      "cell_type": "code",
      "source": [
        "for model, name in zip(models, models_names):\n",
        "  print(name)\n",
        "  model.fit(input_train, y_train, epochs=5, batch_size=128, validation_split=0.3)"
      ],
      "metadata": {
        "colab": {
          "base_uri": "https://localhost:8080/"
        },
        "id": "eu7LE7nlJIaz",
        "outputId": "c76a7c1f-c502-4112-af99-aacda27d09c1"
      },
      "execution_count": 33,
      "outputs": [
        {
          "output_type": "stream",
          "name": "stdout",
          "text": [
            "lstm\n",
            "Epoch 1/5\n",
            "137/137 [==============================] - 15s 90ms/step - loss: 0.6434 - accuracy: 0.6272 - val_loss: 0.5068 - val_accuracy: 0.7985\n",
            "Epoch 2/5\n",
            "137/137 [==============================] - 11s 81ms/step - loss: 0.3984 - accuracy: 0.8313 - val_loss: 0.3359 - val_accuracy: 0.8657\n",
            "Epoch 3/5\n",
            "137/137 [==============================] - 10s 70ms/step - loss: 0.2948 - accuracy: 0.8838 - val_loss: 0.2919 - val_accuracy: 0.8785\n",
            "Epoch 4/5\n",
            "137/137 [==============================] - 7s 54ms/step - loss: 0.2420 - accuracy: 0.9095 - val_loss: 0.3012 - val_accuracy: 0.8813\n",
            "Epoch 5/5\n",
            "137/137 [==============================] - 7s 54ms/step - loss: 0.2079 - accuracy: 0.9226 - val_loss: 0.2870 - val_accuracy: 0.8823\n",
            "brnn\n",
            "Epoch 1/5\n",
            "137/137 [==============================] - 17s 102ms/step - loss: 0.6499 - accuracy: 0.6069 - val_loss: 0.5710 - val_accuracy: 0.6976\n",
            "Epoch 2/5\n",
            "137/137 [==============================] - 11s 83ms/step - loss: 0.4194 - accuracy: 0.8185 - val_loss: 0.3412 - val_accuracy: 0.8577\n",
            "Epoch 3/5\n",
            "137/137 [==============================] - 10s 75ms/step - loss: 0.3058 - accuracy: 0.8801 - val_loss: 0.3247 - val_accuracy: 0.8648\n",
            "Epoch 4/5\n",
            "137/137 [==============================] - 9s 68ms/step - loss: 0.2503 - accuracy: 0.9053 - val_loss: 0.3090 - val_accuracy: 0.8693\n",
            "Epoch 5/5\n",
            "137/137 [==============================] - 9s 68ms/step - loss: 0.2216 - accuracy: 0.9185 - val_loss: 0.6318 - val_accuracy: 0.7815\n",
            "drnn\n",
            "Epoch 1/5\n",
            "137/137 [==============================] - 25s 140ms/step - loss: 0.6665 - accuracy: 0.5635 - val_loss: 0.5018 - val_accuracy: 0.7691\n",
            "Epoch 2/5\n",
            "137/137 [==============================] - 15s 111ms/step - loss: 0.4013 - accuracy: 0.8242 - val_loss: 0.3167 - val_accuracy: 0.8729\n",
            "Epoch 3/5\n",
            "137/137 [==============================] - 14s 106ms/step - loss: 0.2842 - accuracy: 0.8864 - val_loss: 0.3100 - val_accuracy: 0.8699\n",
            "Epoch 4/5\n",
            "137/137 [==============================] - 15s 112ms/step - loss: 0.2282 - accuracy: 0.9147 - val_loss: 0.3159 - val_accuracy: 0.8792\n",
            "Epoch 5/5\n",
            "137/137 [==============================] - 13s 98ms/step - loss: 0.1912 - accuracy: 0.9318 - val_loss: 0.3640 - val_accuracy: 0.8537\n"
          ]
        }
      ]
    },
    {
      "cell_type": "code",
      "source": [
        "for model, name in zip(models, models_names):\n",
        "  test_loss, test_acc = model.evaluate(input_test, y_test)\n",
        "  print(f'{name} Test Loss: {test_loss}')\n",
        "  print(f'{name} Test Accuracy: {test_acc}')\n",
        "  print('-'*30)"
      ],
      "metadata": {
        "colab": {
          "base_uri": "https://localhost:8080/"
        },
        "id": "enZeC2QVKRDz",
        "outputId": "5b182b6f-5b48-407e-d2eb-ddd72fc07f8d"
      },
      "execution_count": 34,
      "outputs": [
        {
          "output_type": "stream",
          "name": "stdout",
          "text": [
            "782/782 [==============================] - 7s 9ms/step - loss: 0.3069 - accuracy: 0.8737\n",
            "lstm Test Loss: 0.3069087564945221\n",
            "lstm Test Accuracy: 0.8737199902534485\n",
            "------------------------------\n",
            "782/782 [==============================] - 11s 14ms/step - loss: 0.6804 - accuracy: 0.7639\n",
            "brnn Test Loss: 0.6804277896881104\n",
            "brnn Test Accuracy: 0.7639200091362\n",
            "------------------------------\n",
            "782/782 [==============================] - 21s 26ms/step - loss: 0.3783 - accuracy: 0.8443\n",
            "drnn Test Loss: 0.3782503008842468\n",
            "drnn Test Accuracy: 0.8442800045013428\n",
            "------------------------------\n"
          ]
        }
      ]
    },
    {
      "cell_type": "code",
      "source": [
        "# Висновок:"
      ],
      "metadata": {
        "id": "p54B6-pLK28z"
      },
      "execution_count": 35,
      "outputs": []
    },
    {
      "cell_type": "code",
      "source": [
        "# Як бачимо, найкраще впорались звичайна RNN та LSTM моделі з результатами близько 92% на тренувальних вибірках.\n",
        "# Проте, ми віддамо перевагу LSTM оскільки на тестових та валідаційних данних результати набагато краще"
      ],
      "metadata": {
        "id": "3FqHpHGXK5bO"
      },
      "execution_count": 36,
      "outputs": []
    }
  ]
}