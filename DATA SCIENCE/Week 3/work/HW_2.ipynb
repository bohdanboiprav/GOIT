{
 "cells": [
  {
   "cell_type": "code",
   "execution_count": 1,
   "id": "initial_id",
   "metadata": {
    "collapsed": true,
    "ExecuteTime": {
     "end_time": "2024-03-04T23:47:47.511783Z",
     "start_time": "2024-03-04T23:47:47.309837Z"
    }
   },
   "outputs": [],
   "source": [
    "import numpy as np"
   ]
  },
  {
   "cell_type": "markdown",
   "source": [
    "напишіть функцію гіпотези лінійної регресії у векторному вигляді"
   ],
   "metadata": {
    "collapsed": false
   },
   "id": "81f8835698603f5a"
  },
  {
   "cell_type": "code",
   "outputs": [],
   "source": [
    "# h(x) = w0 + w1*x - лінійний вигляд\n",
    "# h(x) = w * x - векторний вигляд\n",
    "def h(w, X):\n",
    "    ones = np.ones((X.shape[0], 1))\n",
    "    X = np.concatenate((ones, X), axis=1)\n",
    "    return w @ X.T"
   ],
   "metadata": {
    "collapsed": false,
    "ExecuteTime": {
     "end_time": "2024-03-05T00:00:44.833449Z",
     "start_time": "2024-03-05T00:00:44.827998Z"
    }
   },
   "id": "ea650e3a5087b0b6",
   "execution_count": 12
  },
  {
   "cell_type": "code",
   "outputs": [
    {
     "name": "stdout",
     "output_type": "stream",
     "text": [
      "[ 5.  9. 17. 13.]\n"
     ]
    }
   ],
   "source": [
    "X = np.array([\n",
    "    [1],\n",
    "    [2],\n",
    "    [4],\n",
    "    [3]\n",
    "])\n",
    "w = np.array([1, 4])\n",
    "print(h(w, X))"
   ],
   "metadata": {
    "collapsed": false,
    "ExecuteTime": {
     "end_time": "2024-03-05T00:01:27.947343Z",
     "start_time": "2024-03-05T00:01:27.935302Z"
    }
   },
   "id": "4be38f4f35ab4f67",
   "execution_count": 15
  },
  {
   "cell_type": "markdown",
   "source": [
    "створіть функцію для обчислення функції втрат у векторному вигляді"
   ],
   "metadata": {
    "collapsed": false
   },
   "id": "a536cfc97739180c"
  },
  {
   "cell_type": "code",
   "outputs": [],
   "source": [
    "# Loss Function = 1/2n E(h(x)-y)**2\n",
    "# Loss Function = 1/2n E(h(x)-y)**2\n",
    "def loss_function(hx, y):\n",
    "    return np.mean((hx - y) ** 2) / 2"
   ],
   "metadata": {
    "collapsed": false,
    "ExecuteTime": {
     "end_time": "2024-03-05T00:22:06.156506Z",
     "start_time": "2024-03-05T00:22:06.137355Z"
    }
   },
   "id": "77329556d018d417",
   "execution_count": 57
  },
  {
   "cell_type": "code",
   "outputs": [
    {
     "name": "stdout",
     "output_type": "stream",
     "text": [
      "184.5\n",
      "4\n"
     ]
    }
   ],
   "source": [
    "X = np.array([\n",
    "    [1],\n",
    "    [2],\n",
    "    [4],\n",
    "    [3]\n",
    "])\n",
    "y = np.dot(X, np.array([2])) + 5\n",
    "hx = np.dot(X, np.array([10])) + 2\n",
    "print(loss_function(hx, y))\n",
    "print(len(y))"
   ],
   "metadata": {
    "collapsed": false,
    "ExecuteTime": {
     "end_time": "2024-03-05T00:22:09.511352Z",
     "start_time": "2024-03-05T00:22:09.505114Z"
    }
   },
   "id": "9aa1c156812b13ca",
   "execution_count": 58
  },
  {
   "cell_type": "markdown",
   "source": [
    "реалізуйте один крок градієнтного спуску"
   ],
   "metadata": {
    "collapsed": false
   },
   "id": "c49982838a1542cc"
  },
  {
   "cell_type": "code",
   "outputs": [
    {
     "data": {
      "text/plain": "array([0.9475, 3.9475])"
     },
     "execution_count": 61,
     "metadata": {},
     "output_type": "execute_result"
    }
   ],
   "source": [
    "# w0 = w0 - LR * 1/n E(h(x)-y)\n",
    "# w1 = w1 - LR * 1/n E(h(x)-y)(x)\n",
    "w = np.array([1, 4])\n",
    "LR = 0.001\n",
    "gradient = w - LR / len(y) * X.T @ (hx - y)\n",
    "gradient"
   ],
   "metadata": {
    "collapsed": false,
    "ExecuteTime": {
     "end_time": "2024-03-05T00:33:42.957952Z",
     "start_time": "2024-03-05T00:33:42.927011Z"
    }
   },
   "id": "d874ee82b192ddb4",
   "execution_count": 61
  },
  {
   "cell_type": "code",
   "outputs": [],
   "source": [
    "import pandas as pd"
   ],
   "metadata": {
    "collapsed": false,
    "ExecuteTime": {
     "end_time": "2024-03-05T00:34:02.399616Z",
     "start_time": "2024-03-05T00:34:02.396495Z"
    }
   },
   "id": "b3bdce5ee7b46bf9",
   "execution_count": 62
  },
  {
   "cell_type": "code",
   "outputs": [
    {
     "data": {
      "text/plain": "        price  area  bedrooms  bathrooms  stories mainroad guestroom basement  \\\n0    13300000  7420         4          2        3      yes        no       no   \n1    12250000  8960         4          4        4      yes        no       no   \n2    12250000  9960         3          2        2      yes        no      yes   \n3    12215000  7500         4          2        2      yes        no      yes   \n4    11410000  7420         4          1        2      yes       yes      yes   \n..        ...   ...       ...        ...      ...      ...       ...      ...   \n540   1820000  3000         2          1        1      yes        no      yes   \n541   1767150  2400         3          1        1       no        no       no   \n542   1750000  3620         2          1        1      yes        no       no   \n543   1750000  2910         3          1        1       no        no       no   \n544   1750000  3850         3          1        2      yes        no       no   \n\n    hotwaterheating airconditioning  parking prefarea furnishingstatus  \n0                no             yes        2      yes        furnished  \n1                no             yes        3       no        furnished  \n2                no              no        2      yes   semi-furnished  \n3                no             yes        3      yes        furnished  \n4                no             yes        2       no        furnished  \n..              ...             ...      ...      ...              ...  \n540              no              no        2       no      unfurnished  \n541              no              no        0       no   semi-furnished  \n542              no              no        0       no      unfurnished  \n543              no              no        0       no        furnished  \n544              no              no        0       no      unfurnished  \n\n[545 rows x 13 columns]",
      "text/html": "<div>\n<style scoped>\n    .dataframe tbody tr th:only-of-type {\n        vertical-align: middle;\n    }\n\n    .dataframe tbody tr th {\n        vertical-align: top;\n    }\n\n    .dataframe thead th {\n        text-align: right;\n    }\n</style>\n<table border=\"1\" class=\"dataframe\">\n  <thead>\n    <tr style=\"text-align: right;\">\n      <th></th>\n      <th>price</th>\n      <th>area</th>\n      <th>bedrooms</th>\n      <th>bathrooms</th>\n      <th>stories</th>\n      <th>mainroad</th>\n      <th>guestroom</th>\n      <th>basement</th>\n      <th>hotwaterheating</th>\n      <th>airconditioning</th>\n      <th>parking</th>\n      <th>prefarea</th>\n      <th>furnishingstatus</th>\n    </tr>\n  </thead>\n  <tbody>\n    <tr>\n      <th>0</th>\n      <td>13300000</td>\n      <td>7420</td>\n      <td>4</td>\n      <td>2</td>\n      <td>3</td>\n      <td>yes</td>\n      <td>no</td>\n      <td>no</td>\n      <td>no</td>\n      <td>yes</td>\n      <td>2</td>\n      <td>yes</td>\n      <td>furnished</td>\n    </tr>\n    <tr>\n      <th>1</th>\n      <td>12250000</td>\n      <td>8960</td>\n      <td>4</td>\n      <td>4</td>\n      <td>4</td>\n      <td>yes</td>\n      <td>no</td>\n      <td>no</td>\n      <td>no</td>\n      <td>yes</td>\n      <td>3</td>\n      <td>no</td>\n      <td>furnished</td>\n    </tr>\n    <tr>\n      <th>2</th>\n      <td>12250000</td>\n      <td>9960</td>\n      <td>3</td>\n      <td>2</td>\n      <td>2</td>\n      <td>yes</td>\n      <td>no</td>\n      <td>yes</td>\n      <td>no</td>\n      <td>no</td>\n      <td>2</td>\n      <td>yes</td>\n      <td>semi-furnished</td>\n    </tr>\n    <tr>\n      <th>3</th>\n      <td>12215000</td>\n      <td>7500</td>\n      <td>4</td>\n      <td>2</td>\n      <td>2</td>\n      <td>yes</td>\n      <td>no</td>\n      <td>yes</td>\n      <td>no</td>\n      <td>yes</td>\n      <td>3</td>\n      <td>yes</td>\n      <td>furnished</td>\n    </tr>\n    <tr>\n      <th>4</th>\n      <td>11410000</td>\n      <td>7420</td>\n      <td>4</td>\n      <td>1</td>\n      <td>2</td>\n      <td>yes</td>\n      <td>yes</td>\n      <td>yes</td>\n      <td>no</td>\n      <td>yes</td>\n      <td>2</td>\n      <td>no</td>\n      <td>furnished</td>\n    </tr>\n    <tr>\n      <th>...</th>\n      <td>...</td>\n      <td>...</td>\n      <td>...</td>\n      <td>...</td>\n      <td>...</td>\n      <td>...</td>\n      <td>...</td>\n      <td>...</td>\n      <td>...</td>\n      <td>...</td>\n      <td>...</td>\n      <td>...</td>\n      <td>...</td>\n    </tr>\n    <tr>\n      <th>540</th>\n      <td>1820000</td>\n      <td>3000</td>\n      <td>2</td>\n      <td>1</td>\n      <td>1</td>\n      <td>yes</td>\n      <td>no</td>\n      <td>yes</td>\n      <td>no</td>\n      <td>no</td>\n      <td>2</td>\n      <td>no</td>\n      <td>unfurnished</td>\n    </tr>\n    <tr>\n      <th>541</th>\n      <td>1767150</td>\n      <td>2400</td>\n      <td>3</td>\n      <td>1</td>\n      <td>1</td>\n      <td>no</td>\n      <td>no</td>\n      <td>no</td>\n      <td>no</td>\n      <td>no</td>\n      <td>0</td>\n      <td>no</td>\n      <td>semi-furnished</td>\n    </tr>\n    <tr>\n      <th>542</th>\n      <td>1750000</td>\n      <td>3620</td>\n      <td>2</td>\n      <td>1</td>\n      <td>1</td>\n      <td>yes</td>\n      <td>no</td>\n      <td>no</td>\n      <td>no</td>\n      <td>no</td>\n      <td>0</td>\n      <td>no</td>\n      <td>unfurnished</td>\n    </tr>\n    <tr>\n      <th>543</th>\n      <td>1750000</td>\n      <td>2910</td>\n      <td>3</td>\n      <td>1</td>\n      <td>1</td>\n      <td>no</td>\n      <td>no</td>\n      <td>no</td>\n      <td>no</td>\n      <td>no</td>\n      <td>0</td>\n      <td>no</td>\n      <td>furnished</td>\n    </tr>\n    <tr>\n      <th>544</th>\n      <td>1750000</td>\n      <td>3850</td>\n      <td>3</td>\n      <td>1</td>\n      <td>2</td>\n      <td>yes</td>\n      <td>no</td>\n      <td>no</td>\n      <td>no</td>\n      <td>no</td>\n      <td>0</td>\n      <td>no</td>\n      <td>unfurnished</td>\n    </tr>\n  </tbody>\n</table>\n<p>545 rows × 13 columns</p>\n</div>"
     },
     "execution_count": 63,
     "metadata": {},
     "output_type": "execute_result"
    }
   ],
   "source": [
    "inpDf = pd.read_csv('Housing.csv')\n",
    "inpDf"
   ],
   "metadata": {
    "collapsed": false,
    "ExecuteTime": {
     "end_time": "2024-03-05T00:34:32.678619Z",
     "start_time": "2024-03-05T00:34:32.589406Z"
    }
   },
   "id": "1b0a37731e2c4b61",
   "execution_count": 63
  }
 ],
 "metadata": {
  "kernelspec": {
   "display_name": "Python 3",
   "language": "python",
   "name": "python3"
  },
  "language_info": {
   "codemirror_mode": {
    "name": "ipython",
    "version": 2
   },
   "file_extension": ".py",
   "mimetype": "text/x-python",
   "name": "python",
   "nbconvert_exporter": "python",
   "pygments_lexer": "ipython2",
   "version": "2.7.6"
  }
 },
 "nbformat": 4,
 "nbformat_minor": 5
}
